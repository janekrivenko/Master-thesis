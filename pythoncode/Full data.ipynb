{
 "cells": [
  {
   "cell_type": "code",
   "execution_count": 261,
   "metadata": {},
   "outputs": [],
   "source": [
    "import pandas as pd\n",
    "import numpy as np\n",
    "from sklearn.model_selection import train_test_split\n",
    "from sklearn.linear_model import LinearRegression\n",
    "from sklearn.metrics import accuracy_score, r2_score, mean_squared_error\n",
    "from sklearn.preprocessing import PolynomialFeatures\n",
    "from sklearn.pipeline import Pipeline\n",
    "import matplotlib.pyplot as plt\n",
    "from sklearn.model_selection import cross_val_score\n",
    "import seaborn as sns\n",
    "from category_encoders.polynomial import PolynomialEncoder\n",
    "from patsy import dmatrix, demo_data, ContrastMatrix, Poly"
   ]
  },
  {
   "cell_type": "code",
   "execution_count": 9,
   "metadata": {
    "collapsed": true
   },
   "outputs": [],
   "source": [
    "genes = pd.read_csv(\"Table_genotypes_RaulVicente.csv\")\n",
    "cortical_thickness = pd.read_csv(\"cortical_thickness_by_subject.csv\")"
   ]
  },
  {
   "cell_type": "code",
   "execution_count": 13,
   "metadata": {},
   "outputs": [
    {
     "data": {
      "text/plain": [
       "(257, 149)"
      ]
     },
     "execution_count": 13,
     "metadata": {},
     "output_type": "execute_result"
    }
   ],
   "source": [
    "cortical_thickness.shape"
   ]
  },
  {
   "cell_type": "code",
   "execution_count": 8,
   "metadata": {},
   "outputs": [
    {
     "data": {
      "text/html": [
       "<div>\n",
       "<style scoped>\n",
       "    .dataframe tbody tr th:only-of-type {\n",
       "        vertical-align: middle;\n",
       "    }\n",
       "\n",
       "    .dataframe tbody tr th {\n",
       "        vertical-align: top;\n",
       "    }\n",
       "\n",
       "    .dataframe thead th {\n",
       "        text-align: right;\n",
       "    }\n",
       "</style>\n",
       "<table border=\"1\" class=\"dataframe\">\n",
       "  <thead>\n",
       "    <tr style=\"text-align: right;\">\n",
       "      <th></th>\n",
       "      <th>case</th>\n",
       "      <th>sex</th>\n",
       "      <th>age</th>\n",
       "      <th>apoe</th>\n",
       "      <th>bin1</th>\n",
       "      <th>clu</th>\n",
       "      <th>abca7</th>\n",
       "      <th>cr1</th>\n",
       "      <th>picalm</th>\n",
       "    </tr>\n",
       "  </thead>\n",
       "  <tbody>\n",
       "    <tr>\n",
       "      <th>count</th>\n",
       "      <td>257</td>\n",
       "      <td>257</td>\n",
       "      <td>257.000000</td>\n",
       "      <td>257</td>\n",
       "      <td>257</td>\n",
       "      <td>257</td>\n",
       "      <td>257</td>\n",
       "      <td>257</td>\n",
       "      <td>257</td>\n",
       "    </tr>\n",
       "    <tr>\n",
       "      <th>unique</th>\n",
       "      <td>257</td>\n",
       "      <td>2</td>\n",
       "      <td>NaN</td>\n",
       "      <td>4</td>\n",
       "      <td>3</td>\n",
       "      <td>3</td>\n",
       "      <td>3</td>\n",
       "      <td>3</td>\n",
       "      <td>3</td>\n",
       "    </tr>\n",
       "    <tr>\n",
       "      <th>top</th>\n",
       "      <td>s_080</td>\n",
       "      <td>F</td>\n",
       "      <td>NaN</td>\n",
       "      <td>E3/E3</td>\n",
       "      <td>A/A</td>\n",
       "      <td>C/T</td>\n",
       "      <td>T/T</td>\n",
       "      <td>G/G</td>\n",
       "      <td>C/T</td>\n",
       "    </tr>\n",
       "    <tr>\n",
       "      <th>freq</th>\n",
       "      <td>1</td>\n",
       "      <td>131</td>\n",
       "      <td>NaN</td>\n",
       "      <td>171</td>\n",
       "      <td>126</td>\n",
       "      <td>123</td>\n",
       "      <td>190</td>\n",
       "      <td>164</td>\n",
       "      <td>124</td>\n",
       "    </tr>\n",
       "    <tr>\n",
       "      <th>mean</th>\n",
       "      <td>NaN</td>\n",
       "      <td>NaN</td>\n",
       "      <td>66.735409</td>\n",
       "      <td>NaN</td>\n",
       "      <td>NaN</td>\n",
       "      <td>NaN</td>\n",
       "      <td>NaN</td>\n",
       "      <td>NaN</td>\n",
       "      <td>NaN</td>\n",
       "    </tr>\n",
       "    <tr>\n",
       "      <th>std</th>\n",
       "      <td>NaN</td>\n",
       "      <td>NaN</td>\n",
       "      <td>5.326088</td>\n",
       "      <td>NaN</td>\n",
       "      <td>NaN</td>\n",
       "      <td>NaN</td>\n",
       "      <td>NaN</td>\n",
       "      <td>NaN</td>\n",
       "      <td>NaN</td>\n",
       "    </tr>\n",
       "    <tr>\n",
       "      <th>min</th>\n",
       "      <td>NaN</td>\n",
       "      <td>NaN</td>\n",
       "      <td>53.000000</td>\n",
       "      <td>NaN</td>\n",
       "      <td>NaN</td>\n",
       "      <td>NaN</td>\n",
       "      <td>NaN</td>\n",
       "      <td>NaN</td>\n",
       "      <td>NaN</td>\n",
       "    </tr>\n",
       "    <tr>\n",
       "      <th>25%</th>\n",
       "      <td>NaN</td>\n",
       "      <td>NaN</td>\n",
       "      <td>63.000000</td>\n",
       "      <td>NaN</td>\n",
       "      <td>NaN</td>\n",
       "      <td>NaN</td>\n",
       "      <td>NaN</td>\n",
       "      <td>NaN</td>\n",
       "      <td>NaN</td>\n",
       "    </tr>\n",
       "    <tr>\n",
       "      <th>50%</th>\n",
       "      <td>NaN</td>\n",
       "      <td>NaN</td>\n",
       "      <td>67.000000</td>\n",
       "      <td>NaN</td>\n",
       "      <td>NaN</td>\n",
       "      <td>NaN</td>\n",
       "      <td>NaN</td>\n",
       "      <td>NaN</td>\n",
       "      <td>NaN</td>\n",
       "    </tr>\n",
       "    <tr>\n",
       "      <th>75%</th>\n",
       "      <td>NaN</td>\n",
       "      <td>NaN</td>\n",
       "      <td>70.000000</td>\n",
       "      <td>NaN</td>\n",
       "      <td>NaN</td>\n",
       "      <td>NaN</td>\n",
       "      <td>NaN</td>\n",
       "      <td>NaN</td>\n",
       "      <td>NaN</td>\n",
       "    </tr>\n",
       "    <tr>\n",
       "      <th>max</th>\n",
       "      <td>NaN</td>\n",
       "      <td>NaN</td>\n",
       "      <td>78.000000</td>\n",
       "      <td>NaN</td>\n",
       "      <td>NaN</td>\n",
       "      <td>NaN</td>\n",
       "      <td>NaN</td>\n",
       "      <td>NaN</td>\n",
       "      <td>NaN</td>\n",
       "    </tr>\n",
       "  </tbody>\n",
       "</table>\n",
       "</div>"
      ],
      "text/plain": [
       "         case  sex         age   apoe bin1  clu abca7  cr1 picalm\n",
       "count     257  257  257.000000    257  257  257   257  257    257\n",
       "unique    257    2         NaN      4    3    3     3    3      3\n",
       "top     s_080    F         NaN  E3/E3  A/A  C/T   T/T  G/G    C/T\n",
       "freq        1  131         NaN    171  126  123   190  164    124\n",
       "mean      NaN  NaN   66.735409    NaN  NaN  NaN   NaN  NaN    NaN\n",
       "std       NaN  NaN    5.326088    NaN  NaN  NaN   NaN  NaN    NaN\n",
       "min       NaN  NaN   53.000000    NaN  NaN  NaN   NaN  NaN    NaN\n",
       "25%       NaN  NaN   63.000000    NaN  NaN  NaN   NaN  NaN    NaN\n",
       "50%       NaN  NaN   67.000000    NaN  NaN  NaN   NaN  NaN    NaN\n",
       "75%       NaN  NaN   70.000000    NaN  NaN  NaN   NaN  NaN    NaN\n",
       "max       NaN  NaN   78.000000    NaN  NaN  NaN   NaN  NaN    NaN"
      ]
     },
     "execution_count": 8,
     "metadata": {},
     "output_type": "execute_result"
    }
   ],
   "source": [
    "genes.describe(include = 'all')"
   ]
  },
  {
   "cell_type": "code",
   "execution_count": 10,
   "metadata": {},
   "outputs": [
    {
     "data": {
      "text/html": [
       "<div>\n",
       "<style scoped>\n",
       "    .dataframe tbody tr th:only-of-type {\n",
       "        vertical-align: middle;\n",
       "    }\n",
       "\n",
       "    .dataframe tbody tr th {\n",
       "        vertical-align: top;\n",
       "    }\n",
       "\n",
       "    .dataframe thead th {\n",
       "        text-align: right;\n",
       "    }\n",
       "</style>\n",
       "<table border=\"1\" class=\"dataframe\">\n",
       "  <thead>\n",
       "    <tr style=\"text-align: right;\">\n",
       "      <th></th>\n",
       "      <th>left_G_and_S_frontomargin</th>\n",
       "      <th>left_G_and_S_occipital_inf</th>\n",
       "      <th>left_G_and_S_paracentral</th>\n",
       "      <th>left_G_and_S_subcentral</th>\n",
       "      <th>left_G_and_S_transv_frontopol</th>\n",
       "      <th>left_G_and_S_cingul.Ant</th>\n",
       "      <th>left_G_and_S_cingul.Mid.Ant</th>\n",
       "      <th>left_G_and_S_cingul.Mid.Post</th>\n",
       "      <th>left_G_cingul.Post.dorsal</th>\n",
       "      <th>left_G_cingul.Post.ventral</th>\n",
       "      <th>...</th>\n",
       "      <th>right_S_orbital.H_Shaped</th>\n",
       "      <th>right_S_parieto_occipital</th>\n",
       "      <th>right_S_pericallosal</th>\n",
       "      <th>right_S_postcentral</th>\n",
       "      <th>right_S_precentral.inf.part</th>\n",
       "      <th>right_S_precentral.sup.part</th>\n",
       "      <th>right_S_suborbital</th>\n",
       "      <th>right_S_subparietal</th>\n",
       "      <th>right_S_temporal_inf</th>\n",
       "      <th>right_S_temporal_sup</th>\n",
       "    </tr>\n",
       "  </thead>\n",
       "  <tbody>\n",
       "    <tr>\n",
       "      <th>count</th>\n",
       "      <td>257.000000</td>\n",
       "      <td>257.000000</td>\n",
       "      <td>257.000000</td>\n",
       "      <td>257.000000</td>\n",
       "      <td>257.000000</td>\n",
       "      <td>257.000000</td>\n",
       "      <td>257.000000</td>\n",
       "      <td>257.000000</td>\n",
       "      <td>257.000000</td>\n",
       "      <td>257.000000</td>\n",
       "      <td>...</td>\n",
       "      <td>256.000000</td>\n",
       "      <td>256.000000</td>\n",
       "      <td>256.000000</td>\n",
       "      <td>256.000000</td>\n",
       "      <td>256.000000</td>\n",
       "      <td>256.000000</td>\n",
       "      <td>256.000000</td>\n",
       "      <td>256.000000</td>\n",
       "      <td>256.000000</td>\n",
       "      <td>256.000000</td>\n",
       "    </tr>\n",
       "    <tr>\n",
       "      <th>mean</th>\n",
       "      <td>2.184553</td>\n",
       "      <td>2.279475</td>\n",
       "      <td>2.241401</td>\n",
       "      <td>2.469786</td>\n",
       "      <td>2.329650</td>\n",
       "      <td>2.448152</td>\n",
       "      <td>2.457444</td>\n",
       "      <td>2.414506</td>\n",
       "      <td>2.789366</td>\n",
       "      <td>2.371432</td>\n",
       "      <td>...</td>\n",
       "      <td>2.375598</td>\n",
       "      <td>2.023043</td>\n",
       "      <td>2.031520</td>\n",
       "      <td>2.011602</td>\n",
       "      <td>2.287969</td>\n",
       "      <td>2.222313</td>\n",
       "      <td>2.290102</td>\n",
       "      <td>2.208313</td>\n",
       "      <td>2.337848</td>\n",
       "      <td>2.321805</td>\n",
       "    </tr>\n",
       "    <tr>\n",
       "      <th>std</th>\n",
       "      <td>0.167495</td>\n",
       "      <td>0.174433</td>\n",
       "      <td>0.225445</td>\n",
       "      <td>0.153330</td>\n",
       "      <td>0.230787</td>\n",
       "      <td>0.176378</td>\n",
       "      <td>0.156216</td>\n",
       "      <td>0.128482</td>\n",
       "      <td>0.188774</td>\n",
       "      <td>0.282086</td>\n",
       "      <td>...</td>\n",
       "      <td>0.182996</td>\n",
       "      <td>0.154685</td>\n",
       "      <td>0.284228</td>\n",
       "      <td>0.171176</td>\n",
       "      <td>0.139453</td>\n",
       "      <td>0.191868</td>\n",
       "      <td>0.305826</td>\n",
       "      <td>0.169001</td>\n",
       "      <td>0.186310</td>\n",
       "      <td>0.116335</td>\n",
       "    </tr>\n",
       "    <tr>\n",
       "      <th>min</th>\n",
       "      <td>1.775000</td>\n",
       "      <td>1.765000</td>\n",
       "      <td>1.402000</td>\n",
       "      <td>2.062000</td>\n",
       "      <td>1.660000</td>\n",
       "      <td>2.039000</td>\n",
       "      <td>2.060000</td>\n",
       "      <td>2.108000</td>\n",
       "      <td>2.314000</td>\n",
       "      <td>1.469000</td>\n",
       "      <td>...</td>\n",
       "      <td>1.736000</td>\n",
       "      <td>1.512000</td>\n",
       "      <td>1.314000</td>\n",
       "      <td>1.436000</td>\n",
       "      <td>1.694000</td>\n",
       "      <td>1.530000</td>\n",
       "      <td>1.603000</td>\n",
       "      <td>1.665000</td>\n",
       "      <td>1.878000</td>\n",
       "      <td>1.947000</td>\n",
       "    </tr>\n",
       "    <tr>\n",
       "      <th>25%</th>\n",
       "      <td>2.069000</td>\n",
       "      <td>2.174000</td>\n",
       "      <td>2.115000</td>\n",
       "      <td>2.375000</td>\n",
       "      <td>2.165000</td>\n",
       "      <td>2.325000</td>\n",
       "      <td>2.348000</td>\n",
       "      <td>2.325000</td>\n",
       "      <td>2.646000</td>\n",
       "      <td>2.198000</td>\n",
       "      <td>...</td>\n",
       "      <td>2.268500</td>\n",
       "      <td>1.925750</td>\n",
       "      <td>1.833750</td>\n",
       "      <td>1.928000</td>\n",
       "      <td>2.211750</td>\n",
       "      <td>2.126750</td>\n",
       "      <td>2.098750</td>\n",
       "      <td>2.103750</td>\n",
       "      <td>2.227000</td>\n",
       "      <td>2.264750</td>\n",
       "    </tr>\n",
       "    <tr>\n",
       "      <th>50%</th>\n",
       "      <td>2.182000</td>\n",
       "      <td>2.279000</td>\n",
       "      <td>2.271000</td>\n",
       "      <td>2.464000</td>\n",
       "      <td>2.308000</td>\n",
       "      <td>2.435000</td>\n",
       "      <td>2.454000</td>\n",
       "      <td>2.409000</td>\n",
       "      <td>2.787000</td>\n",
       "      <td>2.373000</td>\n",
       "      <td>...</td>\n",
       "      <td>2.368000</td>\n",
       "      <td>2.032500</td>\n",
       "      <td>2.007500</td>\n",
       "      <td>2.002500</td>\n",
       "      <td>2.300500</td>\n",
       "      <td>2.246500</td>\n",
       "      <td>2.248500</td>\n",
       "      <td>2.187000</td>\n",
       "      <td>2.324000</td>\n",
       "      <td>2.320000</td>\n",
       "    </tr>\n",
       "    <tr>\n",
       "      <th>75%</th>\n",
       "      <td>2.287000</td>\n",
       "      <td>2.393000</td>\n",
       "      <td>2.389000</td>\n",
       "      <td>2.575000</td>\n",
       "      <td>2.485000</td>\n",
       "      <td>2.572000</td>\n",
       "      <td>2.556000</td>\n",
       "      <td>2.494000</td>\n",
       "      <td>2.918000</td>\n",
       "      <td>2.553000</td>\n",
       "      <td>...</td>\n",
       "      <td>2.479000</td>\n",
       "      <td>2.137250</td>\n",
       "      <td>2.186250</td>\n",
       "      <td>2.111000</td>\n",
       "      <td>2.378000</td>\n",
       "      <td>2.347250</td>\n",
       "      <td>2.430000</td>\n",
       "      <td>2.313250</td>\n",
       "      <td>2.443000</td>\n",
       "      <td>2.399000</td>\n",
       "    </tr>\n",
       "    <tr>\n",
       "      <th>max</th>\n",
       "      <td>2.665000</td>\n",
       "      <td>2.727000</td>\n",
       "      <td>2.861000</td>\n",
       "      <td>2.972000</td>\n",
       "      <td>3.264000</td>\n",
       "      <td>3.158000</td>\n",
       "      <td>2.864000</td>\n",
       "      <td>2.789000</td>\n",
       "      <td>3.231000</td>\n",
       "      <td>3.316000</td>\n",
       "      <td>...</td>\n",
       "      <td>3.102000</td>\n",
       "      <td>2.377000</td>\n",
       "      <td>3.135000</td>\n",
       "      <td>2.738000</td>\n",
       "      <td>2.593000</td>\n",
       "      <td>2.611000</td>\n",
       "      <td>3.647000</td>\n",
       "      <td>2.716000</td>\n",
       "      <td>2.918000</td>\n",
       "      <td>2.630000</td>\n",
       "    </tr>\n",
       "  </tbody>\n",
       "</table>\n",
       "<p>8 rows × 147 columns</p>\n",
       "</div>"
      ],
      "text/plain": [
       "       left_G_and_S_frontomargin  left_G_and_S_occipital_inf  \\\n",
       "count                 257.000000                  257.000000   \n",
       "mean                    2.184553                    2.279475   \n",
       "std                     0.167495                    0.174433   \n",
       "min                     1.775000                    1.765000   \n",
       "25%                     2.069000                    2.174000   \n",
       "50%                     2.182000                    2.279000   \n",
       "75%                     2.287000                    2.393000   \n",
       "max                     2.665000                    2.727000   \n",
       "\n",
       "       left_G_and_S_paracentral  left_G_and_S_subcentral  \\\n",
       "count                257.000000               257.000000   \n",
       "mean                   2.241401                 2.469786   \n",
       "std                    0.225445                 0.153330   \n",
       "min                    1.402000                 2.062000   \n",
       "25%                    2.115000                 2.375000   \n",
       "50%                    2.271000                 2.464000   \n",
       "75%                    2.389000                 2.575000   \n",
       "max                    2.861000                 2.972000   \n",
       "\n",
       "       left_G_and_S_transv_frontopol  left_G_and_S_cingul.Ant  \\\n",
       "count                     257.000000               257.000000   \n",
       "mean                        2.329650                 2.448152   \n",
       "std                         0.230787                 0.176378   \n",
       "min                         1.660000                 2.039000   \n",
       "25%                         2.165000                 2.325000   \n",
       "50%                         2.308000                 2.435000   \n",
       "75%                         2.485000                 2.572000   \n",
       "max                         3.264000                 3.158000   \n",
       "\n",
       "       left_G_and_S_cingul.Mid.Ant  left_G_and_S_cingul.Mid.Post  \\\n",
       "count                   257.000000                    257.000000   \n",
       "mean                      2.457444                      2.414506   \n",
       "std                       0.156216                      0.128482   \n",
       "min                       2.060000                      2.108000   \n",
       "25%                       2.348000                      2.325000   \n",
       "50%                       2.454000                      2.409000   \n",
       "75%                       2.556000                      2.494000   \n",
       "max                       2.864000                      2.789000   \n",
       "\n",
       "       left_G_cingul.Post.dorsal  left_G_cingul.Post.ventral  \\\n",
       "count                 257.000000                  257.000000   \n",
       "mean                    2.789366                    2.371432   \n",
       "std                     0.188774                    0.282086   \n",
       "min                     2.314000                    1.469000   \n",
       "25%                     2.646000                    2.198000   \n",
       "50%                     2.787000                    2.373000   \n",
       "75%                     2.918000                    2.553000   \n",
       "max                     3.231000                    3.316000   \n",
       "\n",
       "               ...           right_S_orbital.H_Shaped  \\\n",
       "count          ...                         256.000000   \n",
       "mean           ...                           2.375598   \n",
       "std            ...                           0.182996   \n",
       "min            ...                           1.736000   \n",
       "25%            ...                           2.268500   \n",
       "50%            ...                           2.368000   \n",
       "75%            ...                           2.479000   \n",
       "max            ...                           3.102000   \n",
       "\n",
       "       right_S_parieto_occipital  right_S_pericallosal  right_S_postcentral  \\\n",
       "count                 256.000000            256.000000           256.000000   \n",
       "mean                    2.023043              2.031520             2.011602   \n",
       "std                     0.154685              0.284228             0.171176   \n",
       "min                     1.512000              1.314000             1.436000   \n",
       "25%                     1.925750              1.833750             1.928000   \n",
       "50%                     2.032500              2.007500             2.002500   \n",
       "75%                     2.137250              2.186250             2.111000   \n",
       "max                     2.377000              3.135000             2.738000   \n",
       "\n",
       "       right_S_precentral.inf.part  right_S_precentral.sup.part  \\\n",
       "count                   256.000000                   256.000000   \n",
       "mean                      2.287969                     2.222313   \n",
       "std                       0.139453                     0.191868   \n",
       "min                       1.694000                     1.530000   \n",
       "25%                       2.211750                     2.126750   \n",
       "50%                       2.300500                     2.246500   \n",
       "75%                       2.378000                     2.347250   \n",
       "max                       2.593000                     2.611000   \n",
       "\n",
       "       right_S_suborbital  right_S_subparietal  right_S_temporal_inf  \\\n",
       "count          256.000000           256.000000            256.000000   \n",
       "mean             2.290102             2.208313              2.337848   \n",
       "std              0.305826             0.169001              0.186310   \n",
       "min              1.603000             1.665000              1.878000   \n",
       "25%              2.098750             2.103750              2.227000   \n",
       "50%              2.248500             2.187000              2.324000   \n",
       "75%              2.430000             2.313250              2.443000   \n",
       "max              3.647000             2.716000              2.918000   \n",
       "\n",
       "       right_S_temporal_sup  \n",
       "count            256.000000  \n",
       "mean               2.321805  \n",
       "std                0.116335  \n",
       "min                1.947000  \n",
       "25%                2.264750  \n",
       "50%                2.320000  \n",
       "75%                2.399000  \n",
       "max                2.630000  \n",
       "\n",
       "[8 rows x 147 columns]"
      ]
     },
     "execution_count": 10,
     "metadata": {},
     "output_type": "execute_result"
    }
   ],
   "source": [
    "cortical_thickness.describe()"
   ]
  },
  {
   "cell_type": "code",
   "execution_count": 368,
   "metadata": {},
   "outputs": [],
   "source": [
    "avg_thickness = cortical_thickness.mean(axis=1)\n",
    "genes_dummies = pd.get_dummies(genes.drop([\"case\", \"sex\", \"age\"], axis = 1))\n",
    "#genes_dummies[\"age\"] = genes.age"
   ]
  },
  {
   "cell_type": "code",
   "execution_count": 249,
   "metadata": {},
   "outputs": [
    {
     "data": {
      "text/html": [
       "<div>\n",
       "<style scoped>\n",
       "    .dataframe tbody tr th:only-of-type {\n",
       "        vertical-align: middle;\n",
       "    }\n",
       "\n",
       "    .dataframe tbody tr th {\n",
       "        vertical-align: top;\n",
       "    }\n",
       "\n",
       "    .dataframe thead th {\n",
       "        text-align: right;\n",
       "    }\n",
       "</style>\n",
       "<table border=\"1\" class=\"dataframe\">\n",
       "  <thead>\n",
       "    <tr style=\"text-align: right;\">\n",
       "      <th></th>\n",
       "      <th>apoe_E2/E3</th>\n",
       "      <th>apoe_E3/E3</th>\n",
       "      <th>apoe_E3/E4</th>\n",
       "      <th>apoe_E4/E4</th>\n",
       "      <th>bin1_A/A</th>\n",
       "      <th>bin1_A/G</th>\n",
       "      <th>bin1_G/G</th>\n",
       "      <th>clu_C/C</th>\n",
       "      <th>clu_C/T</th>\n",
       "      <th>clu_T/T</th>\n",
       "      <th>abca7_G/G</th>\n",
       "      <th>abca7_G/T</th>\n",
       "      <th>abca7_T/T</th>\n",
       "      <th>cr1_A/A</th>\n",
       "      <th>cr1_A/G</th>\n",
       "      <th>cr1_G/G</th>\n",
       "      <th>picalm_C/C</th>\n",
       "      <th>picalm_C/T</th>\n",
       "      <th>picalm_T/T</th>\n",
       "    </tr>\n",
       "  </thead>\n",
       "  <tbody>\n",
       "    <tr>\n",
       "      <th>0</th>\n",
       "      <td>0</td>\n",
       "      <td>0</td>\n",
       "      <td>1</td>\n",
       "      <td>0</td>\n",
       "      <td>0</td>\n",
       "      <td>1</td>\n",
       "      <td>0</td>\n",
       "      <td>1</td>\n",
       "      <td>0</td>\n",
       "      <td>0</td>\n",
       "      <td>0</td>\n",
       "      <td>0</td>\n",
       "      <td>1</td>\n",
       "      <td>0</td>\n",
       "      <td>0</td>\n",
       "      <td>1</td>\n",
       "      <td>0</td>\n",
       "      <td>1</td>\n",
       "      <td>0</td>\n",
       "    </tr>\n",
       "    <tr>\n",
       "      <th>1</th>\n",
       "      <td>1</td>\n",
       "      <td>0</td>\n",
       "      <td>0</td>\n",
       "      <td>0</td>\n",
       "      <td>0</td>\n",
       "      <td>1</td>\n",
       "      <td>0</td>\n",
       "      <td>1</td>\n",
       "      <td>0</td>\n",
       "      <td>0</td>\n",
       "      <td>0</td>\n",
       "      <td>0</td>\n",
       "      <td>1</td>\n",
       "      <td>0</td>\n",
       "      <td>0</td>\n",
       "      <td>1</td>\n",
       "      <td>0</td>\n",
       "      <td>0</td>\n",
       "      <td>1</td>\n",
       "    </tr>\n",
       "    <tr>\n",
       "      <th>2</th>\n",
       "      <td>0</td>\n",
       "      <td>1</td>\n",
       "      <td>0</td>\n",
       "      <td>0</td>\n",
       "      <td>0</td>\n",
       "      <td>1</td>\n",
       "      <td>0</td>\n",
       "      <td>1</td>\n",
       "      <td>0</td>\n",
       "      <td>0</td>\n",
       "      <td>0</td>\n",
       "      <td>1</td>\n",
       "      <td>0</td>\n",
       "      <td>0</td>\n",
       "      <td>1</td>\n",
       "      <td>0</td>\n",
       "      <td>0</td>\n",
       "      <td>1</td>\n",
       "      <td>0</td>\n",
       "    </tr>\n",
       "    <tr>\n",
       "      <th>3</th>\n",
       "      <td>1</td>\n",
       "      <td>0</td>\n",
       "      <td>0</td>\n",
       "      <td>0</td>\n",
       "      <td>0</td>\n",
       "      <td>1</td>\n",
       "      <td>0</td>\n",
       "      <td>1</td>\n",
       "      <td>0</td>\n",
       "      <td>0</td>\n",
       "      <td>0</td>\n",
       "      <td>0</td>\n",
       "      <td>1</td>\n",
       "      <td>0</td>\n",
       "      <td>0</td>\n",
       "      <td>1</td>\n",
       "      <td>0</td>\n",
       "      <td>1</td>\n",
       "      <td>0</td>\n",
       "    </tr>\n",
       "    <tr>\n",
       "      <th>4</th>\n",
       "      <td>0</td>\n",
       "      <td>1</td>\n",
       "      <td>0</td>\n",
       "      <td>0</td>\n",
       "      <td>0</td>\n",
       "      <td>1</td>\n",
       "      <td>0</td>\n",
       "      <td>0</td>\n",
       "      <td>1</td>\n",
       "      <td>0</td>\n",
       "      <td>0</td>\n",
       "      <td>0</td>\n",
       "      <td>1</td>\n",
       "      <td>0</td>\n",
       "      <td>0</td>\n",
       "      <td>1</td>\n",
       "      <td>1</td>\n",
       "      <td>0</td>\n",
       "      <td>0</td>\n",
       "    </tr>\n",
       "  </tbody>\n",
       "</table>\n",
       "</div>"
      ],
      "text/plain": [
       "   apoe_E2/E3  apoe_E3/E3  apoe_E3/E4  apoe_E4/E4  bin1_A/A  bin1_A/G  \\\n",
       "0           0           0           1           0         0         1   \n",
       "1           1           0           0           0         0         1   \n",
       "2           0           1           0           0         0         1   \n",
       "3           1           0           0           0         0         1   \n",
       "4           0           1           0           0         0         1   \n",
       "\n",
       "   bin1_G/G  clu_C/C  clu_C/T  clu_T/T  abca7_G/G  abca7_G/T  abca7_T/T  \\\n",
       "0         0        1        0        0          0          0          1   \n",
       "1         0        1        0        0          0          0          1   \n",
       "2         0        1        0        0          0          1          0   \n",
       "3         0        1        0        0          0          0          1   \n",
       "4         0        0        1        0          0          0          1   \n",
       "\n",
       "   cr1_A/A  cr1_A/G  cr1_G/G  picalm_C/C  picalm_C/T  picalm_T/T  \n",
       "0        0        0        1           0           1           0  \n",
       "1        0        0        1           0           0           1  \n",
       "2        0        1        0           0           1           0  \n",
       "3        0        0        1           0           1           0  \n",
       "4        0        0        1           1           0           0  "
      ]
     },
     "execution_count": 249,
     "metadata": {},
     "output_type": "execute_result"
    }
   ],
   "source": [
    "genes_dummies.head()"
   ]
  },
  {
   "cell_type": "code",
   "execution_count": 276,
   "metadata": {},
   "outputs": [],
   "source": [
    "X_train, X_test, y_train, y_test = train_test_split(genes_dummies, avg_thickness, test_size=0.33)"
   ]
  },
  {
   "cell_type": "code",
   "execution_count": 277,
   "metadata": {
    "collapsed": true
   },
   "outputs": [],
   "source": [
    "LR = LinearRegression()\n",
    "LR.fit(X_train, y_train)\n",
    "pred = LR.predict(X_test)"
   ]
  },
  {
   "cell_type": "code",
   "execution_count": 278,
   "metadata": {},
   "outputs": [
    {
     "data": {
      "text/plain": [
       "0.009900655973734587"
      ]
     },
     "execution_count": 278,
     "metadata": {},
     "output_type": "execute_result"
    }
   ],
   "source": [
    "mean_squared_error(y_test, pred)"
   ]
  },
  {
   "cell_type": "code",
   "execution_count": 279,
   "metadata": {},
   "outputs": [
    {
     "data": {
      "text/plain": [
       "-0.03864890399736365"
      ]
     },
     "execution_count": 279,
     "metadata": {},
     "output_type": "execute_result"
    }
   ],
   "source": [
    "r2_score(y_test, pred)"
   ]
  },
  {
   "cell_type": "code",
   "execution_count": null,
   "metadata": {
    "collapsed": true
   },
   "outputs": [],
   "source": []
  },
  {
   "cell_type": "code",
   "execution_count": 255,
   "metadata": {},
   "outputs": [
    {
     "data": {
      "text/plain": [
       "array([ 0.07195091,  0.07874181,  0.04561624, -0.19630896,  0.00614979,\n",
       "        0.00317827, -0.00932806, -0.0056671 , -0.00443522,  0.01010232,\n",
       "        0.0713747 , -0.04140425, -0.02997045, -0.00414846, -0.00031406,\n",
       "        0.00446252, -0.00244508, -0.00933134,  0.01177643])"
      ]
     },
     "execution_count": 255,
     "metadata": {},
     "output_type": "execute_result"
    }
   ],
   "source": [
    "LR.coef_"
   ]
  },
  {
   "cell_type": "code",
   "execution_count": null,
   "metadata": {
    "collapsed": true
   },
   "outputs": [],
   "source": []
  },
  {
   "cell_type": "code",
   "execution_count": 382,
   "metadata": {},
   "outputs": [],
   "source": [
    "LR = LinearRegression()\n",
    "scores = cross_val_score(LR, genes_dummies, avg_thickness, cv=5, scoring='neg_mean_squared_error')"
   ]
  },
  {
   "cell_type": "markdown",
   "metadata": {},
   "source": [
    "left_S_circular_insula_inf and picalm gene result doesn't change with increasing the amunt of data"
   ]
  },
  {
   "cell_type": "code",
   "execution_count": 383,
   "metadata": {},
   "outputs": [
    {
     "name": "stdout",
     "output_type": "stream",
     "text": [
      "Accuracy: -0.01 (+/- 0.01)\n"
     ]
    }
   ],
   "source": [
    "print(\"Accuracy: %0.2f (+/- %0.2f)\" % (scores.mean(), scores.std() * 2))"
   ]
  },
  {
   "cell_type": "code",
   "execution_count": 201,
   "metadata": {},
   "outputs": [],
   "source": [
    "from itertools import chain, combinations\n",
    "\n",
    "def powerset(iterable):\n",
    "    \"\"\"\n",
    "    powerset([1,2,3]) --> () (1,) (2,) (3,) (1,2) (1,3) (2,3) (1,2,3)\n",
    "    \"\"\"\n",
    "    xs = list(iterable)\n",
    "    # note we return an iterator rather than a list\n",
    "    return chain.from_iterable(combinations(xs,n) for n in range(len(xs)+1))"
   ]
  },
  {
   "cell_type": "code",
   "execution_count": 384,
   "metadata": {},
   "outputs": [],
   "source": [
    "after = []\n",
    "k = list(powerset(set([3,4,5, 6, 7, 8])))\n",
    "k.pop(0)\n",
    "for i in range(len(k)):\n",
    "    l = list(itertools.chain.from_iterable([k[i]]))\n",
    "\n",
    "    genes_dummies = pd.get_dummies(genes.iloc[0:257, l])\n",
    "    LR = LinearRegression()\n",
    "    scores = cross_val_score(LR, genes_dummies, avg_thickness, cv=10, scoring='neg_mean_squared_error')\n",
    "    #print(list(genes.iloc[0:158, l]))\n",
    "    #print(np.mean(scores))\n",
    "    #print(scores)\n",
    "    after.append(np.mean(scores))"
   ]
  },
  {
   "cell_type": "code",
   "execution_count": 313,
   "metadata": {},
   "outputs": [
    {
     "name": "stdout",
     "output_type": "stream",
     "text": [
      "-0.014615185501018597\n",
      "-0.015899256925720237\n",
      "-0.013343592228043297\n",
      "-0.0111349228907942\n",
      "-0.01214361379901105\n",
      "-0.010392008818586729\n"
     ]
    }
   ],
   "source": [
    "print(np.mean(before))\n",
    "print(np.min(before))\n",
    "print(np.max(before))\n",
    "print(np.mean(after_a))\n",
    "print(np.min(after_a))\n",
    "print(np.max(after_a))"
   ]
  },
  {
   "cell_type": "code",
   "execution_count": 316,
   "metadata": {},
   "outputs": [
    {
     "name": "stdout",
     "output_type": "stream",
     "text": [
      "5\n",
      "5\n"
     ]
    }
   ],
   "source": [
    "print(np.argmax(before))\n",
    "\n",
    "print(np.argmax(after_a))"
   ]
  },
  {
   "cell_type": "code",
   "execution_count": 318,
   "metadata": {},
   "outputs": [
    {
     "name": "stdout",
     "output_type": "stream",
     "text": [
      "('abca7',)\n"
     ]
    }
   ],
   "source": [
    "print(k[5])"
   ]
  },
  {
   "cell_type": "code",
   "execution_count": 386,
   "metadata": {},
   "outputs": [],
   "source": [
    "#after = []\n",
    "before = []\n",
    "k = list(powerset(set([\"apoe\", \"bin1\", \"clu\", \"abca7\", \"cr1\", \"picalm\"])))\n",
    "k.pop(0)\n",
    "x = []\n",
    "for i in range(len(k)):\n",
    "    l = list(itertools.chain.from_iterable([k[i]]))\n",
    "    x.append(l)\n",
    "    genes_dummies = pd.get_dummies(genes[l].iloc[0:159])\n",
    "    LR = LinearRegression()\n",
    "    scores = cross_val_score(LR, genes_dummies, avg_thickness.iloc[0:159], cv=10, scoring='neg_mean_squared_error')\n",
    "    #print(list(genes.iloc[0:158, l]))\n",
    "    #print(np.mean(scores))\n",
    "    #print(scores)\n",
    "    before.append(np.mean(scores))"
   ]
  },
  {
   "cell_type": "code",
   "execution_count": 391,
   "metadata": {},
   "outputs": [
    {
     "data": {
      "image/png": "[encoded data removed]",
      "text/plain": [
       "<matplotlib.figure.Figure at 0x2cc0dd16d30>"
      ]
     },
     "metadata": {},
     "output_type": "display_data"
    }
   ],
   "source": [
    "plt.style.use('ggplot')\n",
    "plt.figure(figsize=(15,12))\n",
    "plt.scatter(np.arange(len(before)), np.negative(before), label = \"159 patients\")\n",
    "plt.scatter(np.arange(len(before)), np.negative(after), label = \"257 patients\")\n",
    "plt.xticks(np.arange(len(x)), x, rotation=90)\n",
    "plt.ylabel(\"Mean squeared error\")\n",
    "plt.xlabel(\"Genes combination\")\n",
    "plt.legend()\n",
    "plt.title(\"Predicting average cortical thickness\")\n",
    "plt.show()"
   ]
  },
  {
   "cell_type": "code",
   "execution_count": 299,
   "metadata": {
    "scrolled": true
   },
   "outputs": [
    {
     "ename": "KeyboardInterrupt",
     "evalue": "",
     "output_type": "error",
     "traceback": [
      "\u001b[1;31m---------------------------------------------------------------------------\u001b[0m",
      "\u001b[1;31mKeyboardInterrupt\u001b[0m                         Traceback (most recent call last)",
      "\u001b[1;32m<ipython-input-299-90f9060a606f>\u001b[0m in \u001b[0;36m<module>\u001b[1;34m()\u001b[0m\n\u001b[0;32m      6\u001b[0m     \u001b[0ml\u001b[0m \u001b[1;33m=\u001b[0m \u001b[0mlist\u001b[0m\u001b[1;33m(\u001b[0m\u001b[0mitertools\u001b[0m\u001b[1;33m.\u001b[0m\u001b[0mchain\u001b[0m\u001b[1;33m.\u001b[0m\u001b[0mfrom_iterable\u001b[0m\u001b[1;33m(\u001b[0m\u001b[1;33m[\u001b[0m\u001b[0mk\u001b[0m\u001b[1;33m[\u001b[0m\u001b[0mi\u001b[0m\u001b[1;33m]\u001b[0m\u001b[1;33m]\u001b[0m\u001b[1;33m)\u001b[0m\u001b[1;33m)\u001b[0m\u001b[1;33m\u001b[0m\u001b[0m\n\u001b[0;32m      7\u001b[0m     \u001b[0mLR\u001b[0m \u001b[1;33m=\u001b[0m \u001b[0mLinearRegression\u001b[0m\u001b[1;33m(\u001b[0m\u001b[1;33m)\u001b[0m\u001b[1;33m\u001b[0m\u001b[0m\n\u001b[1;32m----> 8\u001b[1;33m     \u001b[0mscores\u001b[0m \u001b[1;33m=\u001b[0m \u001b[0mcross_val_score\u001b[0m\u001b[1;33m(\u001b[0m\u001b[0mLR\u001b[0m\u001b[1;33m,\u001b[0m \u001b[0mgenes_dummies\u001b[0m\u001b[1;33m.\u001b[0m\u001b[0miloc\u001b[0m\u001b[1;33m[\u001b[0m\u001b[1;33m:\u001b[0m\u001b[1;33m,\u001b[0m \u001b[0ml\u001b[0m\u001b[1;33m]\u001b[0m\u001b[1;33m,\u001b[0m \u001b[0mavg_thickness\u001b[0m\u001b[1;33m,\u001b[0m \u001b[0mcv\u001b[0m\u001b[1;33m=\u001b[0m\u001b[1;36m10\u001b[0m\u001b[1;33m,\u001b[0m \u001b[0mscoring\u001b[0m\u001b[1;33m=\u001b[0m\u001b[1;34m'neg_mean_squared_error'\u001b[0m\u001b[1;33m)\u001b[0m\u001b[1;33m\u001b[0m\u001b[0m\n\u001b[0m\u001b[0;32m      9\u001b[0m     \u001b[0mafter\u001b[0m\u001b[1;33m.\u001b[0m\u001b[0mappend\u001b[0m\u001b[1;33m(\u001b[0m\u001b[0mnp\u001b[0m\u001b[1;33m.\u001b[0m\u001b[0mmean\u001b[0m\u001b[1;33m(\u001b[0m\u001b[0mscores\u001b[0m\u001b[1;33m)\u001b[0m\u001b[1;33m)\u001b[0m\u001b[1;33m\u001b[0m\u001b[0m\n",
      "\u001b[1;32m~\\Anaconda2\\envs\\py36\\lib\\site-packages\\sklearn\\model_selection\\_validation.py\u001b[0m in \u001b[0;36mcross_val_score\u001b[1;34m(estimator, X, y, groups, scoring, cv, n_jobs, verbose, fit_params, pre_dispatch)\u001b[0m\n\u001b[0;32m    340\u001b[0m                                 \u001b[0mn_jobs\u001b[0m\u001b[1;33m=\u001b[0m\u001b[0mn_jobs\u001b[0m\u001b[1;33m,\u001b[0m \u001b[0mverbose\u001b[0m\u001b[1;33m=\u001b[0m\u001b[0mverbose\u001b[0m\u001b[1;33m,\u001b[0m\u001b[1;33m\u001b[0m\u001b[0m\n\u001b[0;32m    341\u001b[0m                                 \u001b[0mfit_params\u001b[0m\u001b[1;33m=\u001b[0m\u001b[0mfit_params\u001b[0m\u001b[1;33m,\u001b[0m\u001b[1;33m\u001b[0m\u001b[0m\n\u001b[1;32m--> 342\u001b[1;33m                                 pre_dispatch=pre_dispatch)\n\u001b[0m\u001b[0;32m    343\u001b[0m     \u001b[1;32mreturn\u001b[0m \u001b[0mcv_results\u001b[0m\u001b[1;33m[\u001b[0m\u001b[1;34m'test_score'\u001b[0m\u001b[1;33m]\u001b[0m\u001b[1;33m\u001b[0m\u001b[0m\n\u001b[0;32m    344\u001b[0m \u001b[1;33m\u001b[0m\u001b[0m\n",
      "\u001b[1;32m~\\Anaconda2\\envs\\py36\\lib\\site-packages\\sklearn\\model_selection\\_validation.py\u001b[0m in \u001b[0;36mcross_validate\u001b[1;34m(estimator, X, y, groups, scoring, cv, n_jobs, verbose, fit_params, pre_dispatch, return_train_score)\u001b[0m\n\u001b[0;32m    204\u001b[0m             \u001b[0mfit_params\u001b[0m\u001b[1;33m,\u001b[0m \u001b[0mreturn_train_score\u001b[0m\u001b[1;33m=\u001b[0m\u001b[0mreturn_train_score\u001b[0m\u001b[1;33m,\u001b[0m\u001b[1;33m\u001b[0m\u001b[0m\n\u001b[0;32m    205\u001b[0m             return_times=True)\n\u001b[1;32m--> 206\u001b[1;33m         for train, test in cv.split(X, y, groups))\n\u001b[0m\u001b[0;32m    207\u001b[0m \u001b[1;33m\u001b[0m\u001b[0m\n\u001b[0;32m    208\u001b[0m     \u001b[1;32mif\u001b[0m \u001b[0mreturn_train_score\u001b[0m\u001b[1;33m:\u001b[0m\u001b[1;33m\u001b[0m\u001b[0m\n",
      "\u001b[1;32m~\\Anaconda2\\envs\\py36\\lib\\site-packages\\sklearn\\externals\\joblib\\parallel.py\u001b[0m in \u001b[0;36m__call__\u001b[1;34m(self, iterable)\u001b[0m\n\u001b[0;32m    777\u001b[0m             \u001b[1;31m# was dispatched. In particular this covers the edge\u001b[0m\u001b[1;33m\u001b[0m\u001b[1;33m\u001b[0m\u001b[0m\n\u001b[0;32m    778\u001b[0m             \u001b[1;31m# case of Parallel used with an exhausted iterator.\u001b[0m\u001b[1;33m\u001b[0m\u001b[1;33m\u001b[0m\u001b[0m\n\u001b[1;32m--> 779\u001b[1;33m             \u001b[1;32mwhile\u001b[0m \u001b[0mself\u001b[0m\u001b[1;33m.\u001b[0m\u001b[0mdispatch_one_batch\u001b[0m\u001b[1;33m(\u001b[0m\u001b[0miterator\u001b[0m\u001b[1;33m)\u001b[0m\u001b[1;33m:\u001b[0m\u001b[1;33m\u001b[0m\u001b[0m\n\u001b[0m\u001b[0;32m    780\u001b[0m                 \u001b[0mself\u001b[0m\u001b[1;33m.\u001b[0m\u001b[0m_iterating\u001b[0m \u001b[1;33m=\u001b[0m \u001b[1;32mTrue\u001b[0m\u001b[1;33m\u001b[0m\u001b[0m\n\u001b[0;32m    781\u001b[0m             \u001b[1;32melse\u001b[0m\u001b[1;33m:\u001b[0m\u001b[1;33m\u001b[0m\u001b[0m\n",
      "\u001b[1;32m~\\Anaconda2\\envs\\py36\\lib\\site-packages\\sklearn\\externals\\joblib\\parallel.py\u001b[0m in \u001b[0;36mdispatch_one_batch\u001b[1;34m(self, iterator)\u001b[0m\n\u001b[0;32m    618\u001b[0m \u001b[1;33m\u001b[0m\u001b[0m\n\u001b[0;32m    619\u001b[0m         \u001b[1;32mwith\u001b[0m \u001b[0mself\u001b[0m\u001b[1;33m.\u001b[0m\u001b[0m_lock\u001b[0m\u001b[1;33m:\u001b[0m\u001b[1;33m\u001b[0m\u001b[0m\n\u001b[1;32m--> 620\u001b[1;33m             \u001b[0mtasks\u001b[0m \u001b[1;33m=\u001b[0m \u001b[0mBatchedCalls\u001b[0m\u001b[1;33m(\u001b[0m\u001b[0mitertools\u001b[0m\u001b[1;33m.\u001b[0m\u001b[0mislice\u001b[0m\u001b[1;33m(\u001b[0m\u001b[0miterator\u001b[0m\u001b[1;33m,\u001b[0m \u001b[0mbatch_size\u001b[0m\u001b[1;33m)\u001b[0m\u001b[1;33m)\u001b[0m\u001b[1;33m\u001b[0m\u001b[0m\n\u001b[0m\u001b[0;32m    621\u001b[0m             \u001b[1;32mif\u001b[0m \u001b[0mlen\u001b[0m\u001b[1;33m(\u001b[0m\u001b[0mtasks\u001b[0m\u001b[1;33m)\u001b[0m \u001b[1;33m==\u001b[0m \u001b[1;36m0\u001b[0m\u001b[1;33m:\u001b[0m\u001b[1;33m\u001b[0m\u001b[0m\n\u001b[0;32m    622\u001b[0m                 \u001b[1;31m# No more tasks available in the iterator: tell caller to stop.\u001b[0m\u001b[1;33m\u001b[0m\u001b[1;33m\u001b[0m\u001b[0m\n",
      "\u001b[1;32m~\\Anaconda2\\envs\\py36\\lib\\site-packages\\sklearn\\externals\\joblib\\parallel.py\u001b[0m in \u001b[0;36m__init__\u001b[1;34m(self, iterator_slice)\u001b[0m\n\u001b[0;32m    125\u001b[0m \u001b[1;33m\u001b[0m\u001b[0m\n\u001b[0;32m    126\u001b[0m     \u001b[1;32mdef\u001b[0m \u001b[0m__init__\u001b[0m\u001b[1;33m(\u001b[0m\u001b[0mself\u001b[0m\u001b[1;33m,\u001b[0m \u001b[0miterator_slice\u001b[0m\u001b[1;33m)\u001b[0m\u001b[1;33m:\u001b[0m\u001b[1;33m\u001b[0m\u001b[0m\n\u001b[1;32m--> 127\u001b[1;33m         \u001b[0mself\u001b[0m\u001b[1;33m.\u001b[0m\u001b[0mitems\u001b[0m \u001b[1;33m=\u001b[0m \u001b[0mlist\u001b[0m\u001b[1;33m(\u001b[0m\u001b[0miterator_slice\u001b[0m\u001b[1;33m)\u001b[0m\u001b[1;33m\u001b[0m\u001b[0m\n\u001b[0m\u001b[0;32m    128\u001b[0m         \u001b[0mself\u001b[0m\u001b[1;33m.\u001b[0m\u001b[0m_size\u001b[0m \u001b[1;33m=\u001b[0m \u001b[0mlen\u001b[0m\u001b[1;33m(\u001b[0m\u001b[0mself\u001b[0m\u001b[1;33m.\u001b[0m\u001b[0mitems\u001b[0m\u001b[1;33m)\u001b[0m\u001b[1;33m\u001b[0m\u001b[0m\n\u001b[0;32m    129\u001b[0m \u001b[1;33m\u001b[0m\u001b[0m\n",
      "\u001b[1;32m~\\Anaconda2\\envs\\py36\\lib\\site-packages\\sklearn\\model_selection\\_validation.py\u001b[0m in \u001b[0;36m<genexpr>\u001b[1;34m(.0)\u001b[0m\n\u001b[0;32m    200\u001b[0m                         pre_dispatch=pre_dispatch)\n\u001b[0;32m    201\u001b[0m     scores = parallel(\n\u001b[1;32m--> 202\u001b[1;33m         delayed(_fit_and_score)(\n\u001b[0m\u001b[0;32m    203\u001b[0m             \u001b[0mclone\u001b[0m\u001b[1;33m(\u001b[0m\u001b[0mestimator\u001b[0m\u001b[1;33m)\u001b[0m\u001b[1;33m,\u001b[0m \u001b[0mX\u001b[0m\u001b[1;33m,\u001b[0m \u001b[0my\u001b[0m\u001b[1;33m,\u001b[0m \u001b[0mscorers\u001b[0m\u001b[1;33m,\u001b[0m \u001b[0mtrain\u001b[0m\u001b[1;33m,\u001b[0m \u001b[0mtest\u001b[0m\u001b[1;33m,\u001b[0m \u001b[0mverbose\u001b[0m\u001b[1;33m,\u001b[0m \u001b[1;32mNone\u001b[0m\u001b[1;33m,\u001b[0m\u001b[1;33m\u001b[0m\u001b[0m\n\u001b[0;32m    204\u001b[0m             \u001b[0mfit_params\u001b[0m\u001b[1;33m,\u001b[0m \u001b[0mreturn_train_score\u001b[0m\u001b[1;33m=\u001b[0m\u001b[0mreturn_train_score\u001b[0m\u001b[1;33m,\u001b[0m\u001b[1;33m\u001b[0m\u001b[0m\n",
      "\u001b[1;32m~\\Anaconda2\\envs\\py36\\lib\\site-packages\\sklearn\\model_selection\\_split.py\u001b[0m in \u001b[0;36msplit\u001b[1;34m(self, X, y, groups)\u001b[0m\n\u001b[0;32m    330\u001b[0m                                                              n_samples))\n\u001b[0;32m    331\u001b[0m \u001b[1;33m\u001b[0m\u001b[0m\n\u001b[1;32m--> 332\u001b[1;33m         \u001b[1;32mfor\u001b[0m \u001b[0mtrain\u001b[0m\u001b[1;33m,\u001b[0m \u001b[0mtest\u001b[0m \u001b[1;32min\u001b[0m \u001b[0msuper\u001b[0m\u001b[1;33m(\u001b[0m\u001b[0m_BaseKFold\u001b[0m\u001b[1;33m,\u001b[0m \u001b[0mself\u001b[0m\u001b[1;33m)\u001b[0m\u001b[1;33m.\u001b[0m\u001b[0msplit\u001b[0m\u001b[1;33m(\u001b[0m\u001b[0mX\u001b[0m\u001b[1;33m,\u001b[0m \u001b[0my\u001b[0m\u001b[1;33m,\u001b[0m \u001b[0mgroups\u001b[0m\u001b[1;33m)\u001b[0m\u001b[1;33m:\u001b[0m\u001b[1;33m\u001b[0m\u001b[0m\n\u001b[0m\u001b[0;32m    333\u001b[0m             \u001b[1;32myield\u001b[0m \u001b[0mtrain\u001b[0m\u001b[1;33m,\u001b[0m \u001b[0mtest\u001b[0m\u001b[1;33m\u001b[0m\u001b[0m\n\u001b[0;32m    334\u001b[0m \u001b[1;33m\u001b[0m\u001b[0m\n",
      "\u001b[1;32m~\\Anaconda2\\envs\\py36\\lib\\site-packages\\sklearn\\model_selection\\_split.py\u001b[0m in \u001b[0;36msplit\u001b[1;34m(self, X, y, groups)\u001b[0m\n\u001b[0;32m     93\u001b[0m         \u001b[0mX\u001b[0m\u001b[1;33m,\u001b[0m \u001b[0my\u001b[0m\u001b[1;33m,\u001b[0m \u001b[0mgroups\u001b[0m \u001b[1;33m=\u001b[0m \u001b[0mindexable\u001b[0m\u001b[1;33m(\u001b[0m\u001b[0mX\u001b[0m\u001b[1;33m,\u001b[0m \u001b[0my\u001b[0m\u001b[1;33m,\u001b[0m \u001b[0mgroups\u001b[0m\u001b[1;33m)\u001b[0m\u001b[1;33m\u001b[0m\u001b[0m\n\u001b[0;32m     94\u001b[0m         \u001b[0mindices\u001b[0m \u001b[1;33m=\u001b[0m \u001b[0mnp\u001b[0m\u001b[1;33m.\u001b[0m\u001b[0marange\u001b[0m\u001b[1;33m(\u001b[0m\u001b[0m_num_samples\u001b[0m\u001b[1;33m(\u001b[0m\u001b[0mX\u001b[0m\u001b[1;33m)\u001b[0m\u001b[1;33m)\u001b[0m\u001b[1;33m\u001b[0m\u001b[0m\n\u001b[1;32m---> 95\u001b[1;33m         \u001b[1;32mfor\u001b[0m \u001b[0mtest_index\u001b[0m \u001b[1;32min\u001b[0m \u001b[0mself\u001b[0m\u001b[1;33m.\u001b[0m\u001b[0m_iter_test_masks\u001b[0m\u001b[1;33m(\u001b[0m\u001b[0mX\u001b[0m\u001b[1;33m,\u001b[0m \u001b[0my\u001b[0m\u001b[1;33m,\u001b[0m \u001b[0mgroups\u001b[0m\u001b[1;33m)\u001b[0m\u001b[1;33m:\u001b[0m\u001b[1;33m\u001b[0m\u001b[0m\n\u001b[0m\u001b[0;32m     96\u001b[0m             \u001b[0mtrain_index\u001b[0m \u001b[1;33m=\u001b[0m \u001b[0mindices\u001b[0m\u001b[1;33m[\u001b[0m\u001b[0mnp\u001b[0m\u001b[1;33m.\u001b[0m\u001b[0mlogical_not\u001b[0m\u001b[1;33m(\u001b[0m\u001b[0mtest_index\u001b[0m\u001b[1;33m)\u001b[0m\u001b[1;33m]\u001b[0m\u001b[1;33m\u001b[0m\u001b[0m\n\u001b[0;32m     97\u001b[0m             \u001b[0mtest_index\u001b[0m \u001b[1;33m=\u001b[0m \u001b[0mindices\u001b[0m\u001b[1;33m[\u001b[0m\u001b[0mtest_index\u001b[0m\u001b[1;33m]\u001b[0m\u001b[1;33m\u001b[0m\u001b[0m\n",
      "\u001b[1;32m~\\Anaconda2\\envs\\py36\\lib\\site-packages\\sklearn\\model_selection\\_split.py\u001b[0m in \u001b[0;36m_iter_test_masks\u001b[1;34m(self, X, y, groups)\u001b[0m\n\u001b[0;32m    107\u001b[0m         \u001b[1;32mfor\u001b[0m \u001b[0mtest_index\u001b[0m \u001b[1;32min\u001b[0m \u001b[0mself\u001b[0m\u001b[1;33m.\u001b[0m\u001b[0m_iter_test_indices\u001b[0m\u001b[1;33m(\u001b[0m\u001b[0mX\u001b[0m\u001b[1;33m,\u001b[0m \u001b[0my\u001b[0m\u001b[1;33m,\u001b[0m \u001b[0mgroups\u001b[0m\u001b[1;33m)\u001b[0m\u001b[1;33m:\u001b[0m\u001b[1;33m\u001b[0m\u001b[0m\n\u001b[0;32m    108\u001b[0m             \u001b[0mtest_mask\u001b[0m \u001b[1;33m=\u001b[0m \u001b[0mnp\u001b[0m\u001b[1;33m.\u001b[0m\u001b[0mzeros\u001b[0m\u001b[1;33m(\u001b[0m\u001b[0m_num_samples\u001b[0m\u001b[1;33m(\u001b[0m\u001b[0mX\u001b[0m\u001b[1;33m)\u001b[0m\u001b[1;33m,\u001b[0m \u001b[0mdtype\u001b[0m\u001b[1;33m=\u001b[0m\u001b[0mnp\u001b[0m\u001b[1;33m.\u001b[0m\u001b[0mbool\u001b[0m\u001b[1;33m)\u001b[0m\u001b[1;33m\u001b[0m\u001b[0m\n\u001b[1;32m--> 109\u001b[1;33m             \u001b[0mtest_mask\u001b[0m\u001b[1;33m[\u001b[0m\u001b[0mtest_index\u001b[0m\u001b[1;33m]\u001b[0m \u001b[1;33m=\u001b[0m \u001b[1;32mTrue\u001b[0m\u001b[1;33m\u001b[0m\u001b[0m\n\u001b[0m\u001b[0;32m    110\u001b[0m             \u001b[1;32myield\u001b[0m \u001b[0mtest_mask\u001b[0m\u001b[1;33m\u001b[0m\u001b[0m\n\u001b[0;32m    111\u001b[0m \u001b[1;33m\u001b[0m\u001b[0m\n",
      "\u001b[1;31mKeyboardInterrupt\u001b[0m: "
     ]
    }
   ],
   "source": [
    "after = []\n",
    "#before = []\n",
    "k = list(powerset(set([0, 1, 2, 3, 4, 5, 6, 7, 8, 9, 10, 11, 12, 13, 14, 15, 16, 17, 18])))\n",
    "k.pop(0)\n",
    "for i in range(len(k)):\n",
    "    l = list(itertools.chain.from_iterable([k[i]]))\n",
    "    LR = LinearRegression()\n",
    "    scores = cross_val_score(LR, genes_dummies.iloc[:, l], avg_thickness, cv=10, scoring='neg_mean_squared_error')\n",
    "    after.append(np.mean(scores))"
   ]
  },
  {
   "cell_type": "code",
   "execution_count": 304,
   "metadata": {},
   "outputs": [
    {
     "name": "stdout",
     "output_type": "stream",
     "text": [
      "-0.010994492415004966\n",
      "-0.030671979120381065\n",
      "-0.010202663465182036\n"
     ]
    }
   ],
   "source": [
    "after_long = after\n",
    "print(np.mean(after))\n",
    "print(np.min(after))\n",
    "print(np.max(after))"
   ]
  },
  {
   "cell_type": "code",
   "execution_count": 319,
   "metadata": {},
   "outputs": [
    {
     "data": {
      "text/plain": [
       "60270"
      ]
     },
     "execution_count": 319,
     "metadata": {},
     "output_type": "execute_result"
    }
   ],
   "source": [
    "np.argmax(after)"
   ]
  },
  {
   "cell_type": "code",
   "execution_count": 321,
   "metadata": {},
   "outputs": [
    {
     "data": {
      "text/plain": [
       "(0, 5, 8, 10, 11, 12, 18)"
      ]
     },
     "execution_count": 321,
     "metadata": {},
     "output_type": "execute_result"
    }
   ],
   "source": [
    "k[60270]"
   ]
  },
  {
   "cell_type": "markdown",
   "metadata": {},
   "source": [
    "Now let's try the polynmial coding of each categorical feature"
   ]
  },
  {
   "cell_type": "code",
   "execution_count": null,
   "metadata": {
    "collapsed": true
   },
   "outputs": [],
   "source": [
    "apoe\tbin1\tclu\tabca7\tcr1\tpicalm"
   ]
  },
  {
   "cell_type": "code",
   "execution_count": 345,
   "metadata": {},
   "outputs": [
    {
     "data": {
      "text/plain": [
       "-0.010528368617215931"
      ]
     },
     "execution_count": 345,
     "metadata": {},
     "output_type": "execute_result"
    }
   ],
   "source": [
    "picalm_poly = dmatrix(\"C(picalm, Poly)\", genes)\n",
    "LR = LinearRegression()\n",
    "scores = cross_val_score(LR, np.asarray(picalm_poly), avg_thickness, cv=5, scoring='neg_mean_squared_error')\n",
    "np.mean(scores)"
   ]
  },
  {
   "cell_type": "markdown",
   "metadata": {},
   "source": [
    "https://www.statsmodels.org/dev/contrasts.html"
   ]
  },
  {
   "cell_type": "code",
   "execution_count": 352,
   "metadata": {},
   "outputs": [],
   "source": [
    "genes_avg_thickness = genes[['apoe', 'bin1', 'clu', 'abca7', 'cr1', 'picalm']].copy()\n",
    "genes_avg_thickness['avg_thickness'] = avg_thickness"
   ]
  },
  {
   "cell_type": "code",
   "execution_count": 353,
   "metadata": {},
   "outputs": [
    {
     "data": {
      "text/html": [
       "<div>\n",
       "<style scoped>\n",
       "    .dataframe tbody tr th:only-of-type {\n",
       "        vertical-align: middle;\n",
       "    }\n",
       "\n",
       "    .dataframe tbody tr th {\n",
       "        vertical-align: top;\n",
       "    }\n",
       "\n",
       "    .dataframe thead th {\n",
       "        text-align: right;\n",
       "    }\n",
       "</style>\n",
       "<table border=\"1\" class=\"dataframe\">\n",
       "  <thead>\n",
       "    <tr style=\"text-align: right;\">\n",
       "      <th></th>\n",
       "      <th>apoe</th>\n",
       "      <th>bin1</th>\n",
       "      <th>clu</th>\n",
       "      <th>abca7</th>\n",
       "      <th>cr1</th>\n",
       "      <th>picalm</th>\n",
       "      <th>avg_thickness</th>\n",
       "    </tr>\n",
       "  </thead>\n",
       "  <tbody>\n",
       "    <tr>\n",
       "      <th>0</th>\n",
       "      <td>E3/E4</td>\n",
       "      <td>A/G</td>\n",
       "      <td>C/C</td>\n",
       "      <td>T/T</td>\n",
       "      <td>G/G</td>\n",
       "      <td>C/T</td>\n",
       "      <td>1.966456</td>\n",
       "    </tr>\n",
       "    <tr>\n",
       "      <th>1</th>\n",
       "      <td>E2/E3</td>\n",
       "      <td>A/G</td>\n",
       "      <td>C/C</td>\n",
       "      <td>T/T</td>\n",
       "      <td>G/G</td>\n",
       "      <td>T/T</td>\n",
       "      <td>2.305211</td>\n",
       "    </tr>\n",
       "    <tr>\n",
       "      <th>2</th>\n",
       "      <td>E3/E3</td>\n",
       "      <td>A/G</td>\n",
       "      <td>C/C</td>\n",
       "      <td>G/T</td>\n",
       "      <td>A/G</td>\n",
       "      <td>C/T</td>\n",
       "      <td>2.147218</td>\n",
       "    </tr>\n",
       "    <tr>\n",
       "      <th>3</th>\n",
       "      <td>E2/E3</td>\n",
       "      <td>A/G</td>\n",
       "      <td>C/C</td>\n",
       "      <td>T/T</td>\n",
       "      <td>G/G</td>\n",
       "      <td>C/T</td>\n",
       "      <td>2.311701</td>\n",
       "    </tr>\n",
       "    <tr>\n",
       "      <th>4</th>\n",
       "      <td>E3/E3</td>\n",
       "      <td>A/G</td>\n",
       "      <td>C/T</td>\n",
       "      <td>T/T</td>\n",
       "      <td>G/G</td>\n",
       "      <td>C/C</td>\n",
       "      <td>2.299340</td>\n",
       "    </tr>\n",
       "  </tbody>\n",
       "</table>\n",
       "</div>"
      ],
      "text/plain": [
       "    apoe bin1  clu abca7  cr1 picalm  avg_thickness\n",
       "0  E3/E4  A/G  C/C   T/T  G/G    C/T       1.966456\n",
       "1  E2/E3  A/G  C/C   T/T  G/G    T/T       2.305211\n",
       "2  E3/E3  A/G  C/C   G/T  A/G    C/T       2.147218\n",
       "3  E2/E3  A/G  C/C   T/T  G/G    C/T       2.311701\n",
       "4  E3/E3  A/G  C/T   T/T  G/G    C/C       2.299340"
      ]
     },
     "execution_count": 353,
     "metadata": {},
     "output_type": "execute_result"
    }
   ],
   "source": [
    "genes_avg_thickness.head()"
   ]
  },
  {
   "cell_type": "code",
   "execution_count": 364,
   "metadata": {
    "collapsed": true
   },
   "outputs": [],
   "source": [
    "from patsy.contrasts import Treatment\n",
    "levels = ['E2/E3','E3/E3','E3/E4','E4/E4']\n",
    "contrast = Treatment(reference=0).code_without_intercept(levels)"
   ]
  },
  {
   "cell_type": "code",
   "execution_count": 365,
   "metadata": {},
   "outputs": [
    {
     "name": "stdout",
     "output_type": "stream",
     "text": [
      "                            OLS Regression Results                            \n",
      "==============================================================================\n",
      "Dep. Variable:          avg_thickness   R-squared:                       0.012\n",
      "Model:                            OLS   Adj. R-squared:                  0.000\n",
      "Method:                 Least Squares   F-statistic:                     1.018\n",
      "Date:                Sun, 06 Jan 2019   Prob (F-statistic):              0.385\n",
      "Time:                        21:04:53   Log-Likelihood:                 230.49\n",
      "No. Observations:                 257   AIC:                            -453.0\n",
      "Df Residuals:                     253   BIC:                            -438.8\n",
      "Df Model:                           3                                         \n",
      "Covariance Type:            nonrobust                                         \n",
      "===============================================================================================\n",
      "                                  coef    std err          t      P>|t|      [0.025      0.975]\n",
      "-----------------------------------------------------------------------------------------------\n",
      "Intercept                       2.3626      0.020    118.769      0.000       2.323       2.402\n",
      "C(apoe, Treatment)[T.E3/E3]    -0.0018      0.021     -0.082      0.934      -0.044       0.040\n",
      "C(apoe, Treatment)[T.E3/E4]    -0.0178      0.024     -0.744      0.457      -0.065       0.029\n",
      "C(apoe, Treatment)[T.E4/E4]     0.0634      0.054      1.184      0.238      -0.042       0.169\n",
      "==============================================================================\n",
      "Omnibus:                       16.267   Durbin-Watson:                   1.518\n",
      "Prob(Omnibus):                  0.000   Jarque-Bera (JB):               27.714\n",
      "Skew:                          -0.370   Prob(JB):                     9.59e-07\n",
      "Kurtosis:                       4.429   Cond. No.                         11.2\n",
      "==============================================================================\n",
      "\n",
      "Warnings:\n",
      "[1] Standard Errors assume that the covariance matrix of the errors is correctly specified.\n"
     ]
    }
   ],
   "source": [
    "from statsmodels.formula.api import ols\n",
    "mod = ols(\"avg_thickness ~ C(apoe, Treatment)\", data=genes_avg_thickness)\n",
    "\n",
    "res = mod.fit()\n",
    "\n",
    "print(res.summary())"
   ]
  },
  {
   "cell_type": "code",
   "execution_count": 367,
   "metadata": {},
   "outputs": [
    {
     "name": "stdout",
     "output_type": "stream",
     "text": [
      "                            OLS Regression Results                            \n",
      "==============================================================================\n",
      "Dep. Variable:          avg_thickness   R-squared:                       0.012\n",
      "Model:                            OLS   Adj. R-squared:                  0.000\n",
      "Method:                 Least Squares   F-statistic:                     1.018\n",
      "Date:                Sun, 06 Jan 2019   Prob (F-statistic):              0.385\n",
      "Time:                        21:07:23   Log-Likelihood:                 230.49\n",
      "No. Observations:                 257   AIC:                            -453.0\n",
      "Df Residuals:                     253   BIC:                            -438.8\n",
      "Df Model:                           3                                         \n",
      "Covariance Type:            nonrobust                                         \n",
      "===========================================================================================\n",
      "                              coef    std err          t      P>|t|      [0.025      0.975]\n",
      "-------------------------------------------------------------------------------------------\n",
      "Intercept                   2.3736      0.014    170.515      0.000       2.346       2.401\n",
      "C(apoe, Poly).Linear        0.0390      0.036      1.079      0.281      -0.032       0.110\n",
      "C(apoe, Poly).Quadratic     0.0415      0.028      1.489      0.138      -0.013       0.096\n",
      "C(apoe, Poly).Cubic         0.0249      0.016      1.583      0.115      -0.006       0.056\n",
      "==============================================================================\n",
      "Omnibus:                       16.267   Durbin-Watson:                   1.518\n",
      "Prob(Omnibus):                  0.000   Jarque-Bera (JB):               27.714\n",
      "Skew:                          -0.370   Prob(JB):                     9.59e-07\n",
      "Kurtosis:                       4.429   Cond. No.                         8.32\n",
      "==============================================================================\n",
      "\n",
      "Warnings:\n",
      "[1] Standard Errors assume that the covariance matrix of the errors is correctly specified.\n"
     ]
    }
   ],
   "source": [
    "from patsy.contrasts import Poly\n",
    "levels = genes_avg_thickness.apoe.unique().tolist()\n",
    "\n",
    "contrast = Poly().code_without_intercept(levels)\n",
    "\n",
    "mod = ols(\"avg_thickness ~ C(apoe, Poly)\", data=genes_avg_thickness)\n",
    "\n",
    "res = mod.fit()\n",
    "\n",
    "print(res.summary())"
   ]
  },
  {
   "cell_type": "code",
   "execution_count": null,
   "metadata": {
    "collapsed": true
   },
   "outputs": [],
   "source": []
  }
 ],
 "metadata": {
  "kernelspec": {
   "display_name": "Python 3",
   "language": "python",
   "name": "python3"
  },
  "language_info": {
   "codemirror_mode": {
    "name": "ipython",
    "version": 3
   },
   "file_extension": ".py",
   "mimetype": "text/x-python",
   "name": "python",
   "nbconvert_exporter": "python",
   "pygments_lexer": "ipython3",
   "version": "3.6.6"
  }
 },
 "nbformat": 4,
 "nbformat_minor": 2
}
