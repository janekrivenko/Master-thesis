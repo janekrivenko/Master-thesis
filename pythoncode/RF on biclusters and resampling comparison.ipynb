{
 "cells": [
  {
   "cell_type": "code",
   "execution_count": 1,
   "metadata": {},
   "outputs": [
    {
     "name": "stderr",
     "output_type": "stream",
     "text": [
      "C:\\Users\\jeka1\\Anaconda2\\envs\\py36\\lib\\site-packages\\sklearn\\ensemble\\weight_boosting.py:29: DeprecationWarning: numpy.core.umath_tests is an internal NumPy module and should not be imported. It will be removed in a future NumPy release.\n",
      "  from numpy.core.umath_tests import inner1d\n"
     ]
    }
   ],
   "source": [
    "from sklearn import preprocessing\n",
    "from sklearn.ensemble import RandomForestClassifier\n",
    "from sklearn.linear_model import SGDClassifier\n",
    "from sklearn.tree import DecisionTreeClassifier\n",
    "import pandas as pd\n",
    "import numpy as np\n",
    "from sklearn.model_selection import train_test_split\n",
    "from sklearn.metrics import accuracy_score, f1_score\n",
    "from sklearn.model_selection import cross_val_score\n",
    "from sklearn.metrics import confusion_matrix\n",
    "import seaborn as sns\n",
    "from matplotlib import pyplot as plt\n",
    "from imblearn.over_sampling import SMOTE, ADASYN"
   ]
  },
  {
   "cell_type": "markdown",
   "metadata": {},
   "source": [
    "First we should download all datasets: initial genetype df and cortical thickness, also we have these df in form splitted by 7 clusters (biclustering was performed in r)"
   ]
  },
  {
   "cell_type": "code",
   "execution_count": 2,
   "metadata": {
    "collapsed": true
   },
   "outputs": [],
   "source": [
    "genotypes = pd.read_csv(\"Table_genotypes_RaulVicente.csv\")\n",
    "genotypes_cl_1_2 = pd.read_csv(\"genotypes_cluster1_2.csv\")\n",
    "genotypes_cl_3_4 = pd.read_csv(\"genotypes_cluster3_4.csv\")\n",
    "genotypes_cl_5_6_7 = pd.read_csv(\"genotypes_cluster5_6_7.csv\")\n",
    "thickness = pd.read_csv(\"cortical_thickness_by_subject.csv\")\n",
    "thickness_cluster1 = pd.read_csv(\"thickness_cluster1.csv\")\n",
    "thickness_cluster2 = pd.read_csv(\"thickness_cluster2.csv\")\n",
    "thickness_cluster3 = pd.read_csv(\"thickness_cluster3.csv\")\n",
    "thickness_cluster4 = pd.read_csv(\"thickness_cluster4.csv\")\n",
    "thickness_cluster5 = pd.read_csv(\"thickness_cluster5.csv\")\n",
    "thickness_cluster6 = pd.read_csv(\"thickness_cluster6.csv\")\n",
    "thickness_cluster7 = pd.read_csv(\"thickness_cluster7.csv\")"
   ]
  },
  {
   "cell_type": "markdown",
   "metadata": {},
   "source": [
    "We have classification task (for 6 genes we have several values: classes)\n",
    "\n",
    "But ML algorithms work badly with categorical value, so we should preprocess our data"
   ]
  },
  {
   "cell_type": "code",
   "execution_count": 3,
   "metadata": {},
   "outputs": [
    {
     "name": "stdout",
     "output_type": "stream",
     "text": [
      "['E2/E3', 'E3/E3', 'E3/E4', 'E4/E4']\n",
      "[1 1 2 1 0 0 1 1 2 1 2 1 1 1 1 3 1 1 2 1 2 2 2 1 1 2 2 1 1 1]\n",
      "[1 2 1 0 1 1 1 1 1 2 1 1 1 1 2 0 1 1 1 1 1 2 1 2 1 1 2 1 1 2 1 0 1 1]\n",
      "[2 0 1 0 1 1 1 1 2 1 1 0 1 1 1 1 1 2 1 1 3 1 2]\n"
     ]
    }
   ],
   "source": [
    "le = preprocessing.LabelEncoder()\n",
    "le.fit(genotypes.apoe)\n",
    "print(list(le.classes_))\n",
    "y = le.transform(genotypes_cl_1_2.apoe) \n",
    "print(y)\n",
    "y = le.transform(genotypes_cl_3_4.apoe) \n",
    "print(y)\n",
    "y = le.transform(genotypes_cl_5_6_7.apoe) \n",
    "print(y)"
   ]
  },
  {
   "cell_type": "code",
   "execution_count": 4,
   "metadata": {
    "collapsed": true
   },
   "outputs": [],
   "source": [
    "#first method - has the best performance\n",
    "RF = RandomForestClassifier(max_depth = 5, random_state=0)\n",
    "\n",
    "#second method = has the worst performance,  even after standartizing/scaling\n",
    "RF = SGDClassifier(loss=\"hinge\", penalty=\"l2\")\n",
    "\n",
    "\n",
    "#we will check whethe data standartization matters\n",
    "#conclusion: NO\n",
    "from sklearn.preprocessing import StandardScaler\n",
    "scaler = StandardScaler()\n",
    "\n",
    "X1 = thickness_cluster1.drop(['subject_id'], axis = 1)\n",
    "scaler.fit(X1)\n",
    "X_1 = scaler.transform(X1)\n",
    "\n",
    "X2 = thickness_cluster2.drop(['subject_id'], axis = 1)\n",
    "scaler.fit(X2)\n",
    "X_2 = scaler.transform(X2)\n",
    "\n",
    "X3 = pd.concat([thickness_cluster1, thickness_cluster2], axis=1, join='inner').drop(['subject_id'], axis = 1)\n",
    "scaler.fit(X3)\n",
    "X_3 = scaler.transform(X3)\n",
    "\n",
    "X4 = thickness.loc[thickness['subject_id'].isin(genotypes_cl_1_2['subject_id'])].drop(['subject_id'], axis = 1)\n",
    "scaler.fit(X4)\n",
    "X_4 = scaler.transform(X4)\n",
    "\n",
    "#third method, the accuracy 0.5, nothing interesting\n",
    "RF = DecisionTreeClassifier(random_state=0)"
   ]
  },
  {
   "cell_type": "code",
   "execution_count": 5,
   "metadata": {},
   "outputs": [
    {
     "name": "stdout",
     "output_type": "stream",
     "text": [
      "(30, 43) (30, 55) (30, 98) (30, 148)\n"
     ]
    }
   ],
   "source": [
    "print(X1.shape, X2.shape, X3.shape, X4.shape)"
   ]
  },
  {
   "cell_type": "markdown",
   "metadata": {},
   "source": [
    "Due to randomness we could be lucky and obtain high accuracy by chance, but it doesn't mean we actually have such a good perfomance. To resolve such a problem, we chould use cross-validation\n",
    "\n",
    "The analysis is conducted for the first and second cluster, as they have the same rows from genotypes df\n",
    "\n",
    "I have some intuition to check: whether the smaller number of collumns from cortical thickness for 1st or 2nd class could process better that all columns for selected rows ot join of columns from 1st and 2nd clusters\n",
    "\n",
    "4 daatsets were constructed above"
   ]
  },
  {
   "cell_type": "code",
   "execution_count": 5,
   "metadata": {
    "collapsed": true
   },
   "outputs": [],
   "source": [
    "def first_second_biclusters(gene):    \n",
    "    le = preprocessing.LabelEncoder()\n",
    "    le.fit(genotypes[gene])\n",
    "    y = le.transform(genotypes_cl_1_2[gene]) \n",
    "    \n",
    "    scores_x1 = []\n",
    "    scores_x2 = []\n",
    "    scores_x3 = []\n",
    "    scores_x4 = []\n",
    "    \n",
    "    for val in range(1, 8):\n",
    "    \n",
    "        RF = RandomForestClassifier(n_estimators = val, max_depth = 3)\n",
    "\n",
    "        scores_x1.append(cross_val_score(RF, X1, y, cv=5))\n",
    "        scores_x2.append(cross_val_score(RF, X2, y, cv=5))\n",
    "        scores_x3.append(cross_val_score(RF, X3, y, cv=5))\n",
    "        scores_x4.append(cross_val_score(RF, X4, y, cv=5))\n",
    "    return scores_x1, scores_x2, scores_x3, scores_x4"
   ]
  },
  {
   "cell_type": "code",
   "execution_count": 7,
   "metadata": {
    "scrolled": true
   },
   "outputs": [
    {
     "name": "stderr",
     "output_type": "stream",
     "text": [
      "C:\\Users\\jeka1\\Anaconda2\\envs\\py36\\lib\\site-packages\\sklearn\\model_selection\\_split.py:605: Warning: The least populated class in y has only 3 members, which is too few. The minimum number of members in any class cannot be less than n_splits=5.\n",
      "  % (min_groups, self.n_splits)), Warning)\n",
      "C:\\Users\\jeka1\\Anaconda2\\envs\\py36\\lib\\site-packages\\sklearn\\model_selection\\_split.py:605: Warning: The least populated class in y has only 3 members, which is too few. The minimum number of members in any class cannot be less than n_splits=5.\n",
      "  % (min_groups, self.n_splits)), Warning)\n",
      "C:\\Users\\jeka1\\Anaconda2\\envs\\py36\\lib\\site-packages\\sklearn\\model_selection\\_split.py:605: Warning: The least populated class in y has only 3 members, which is too few. The minimum number of members in any class cannot be less than n_splits=5.\n",
      "  % (min_groups, self.n_splits)), Warning)\n",
      "C:\\Users\\jeka1\\Anaconda2\\envs\\py36\\lib\\site-packages\\sklearn\\model_selection\\_split.py:605: Warning: The least populated class in y has only 3 members, which is too few. The minimum number of members in any class cannot be less than n_splits=5.\n",
      "  % (min_groups, self.n_splits)), Warning)\n",
      "C:\\Users\\jeka1\\Anaconda2\\envs\\py36\\lib\\site-packages\\sklearn\\model_selection\\_split.py:605: Warning: The least populated class in y has only 3 members, which is too few. The minimum number of members in any class cannot be less than n_splits=5.\n",
      "  % (min_groups, self.n_splits)), Warning)\n",
      "C:\\Users\\jeka1\\Anaconda2\\envs\\py36\\lib\\site-packages\\sklearn\\model_selection\\_split.py:605: Warning: The least populated class in y has only 3 members, which is too few. The minimum number of members in any class cannot be less than n_splits=5.\n",
      "  % (min_groups, self.n_splits)), Warning)\n",
      "C:\\Users\\jeka1\\Anaconda2\\envs\\py36\\lib\\site-packages\\sklearn\\model_selection\\_split.py:605: Warning: The least populated class in y has only 3 members, which is too few. The minimum number of members in any class cannot be less than n_splits=5.\n",
      "  % (min_groups, self.n_splits)), Warning)\n",
      "C:\\Users\\jeka1\\Anaconda2\\envs\\py36\\lib\\site-packages\\sklearn\\model_selection\\_split.py:605: Warning: The least populated class in y has only 3 members, which is too few. The minimum number of members in any class cannot be less than n_splits=5.\n",
      "  % (min_groups, self.n_splits)), Warning)\n",
      "C:\\Users\\jeka1\\Anaconda2\\envs\\py36\\lib\\site-packages\\sklearn\\model_selection\\_split.py:605: Warning: The least populated class in y has only 3 members, which is too few. The minimum number of members in any class cannot be less than n_splits=5.\n",
      "  % (min_groups, self.n_splits)), Warning)\n",
      "C:\\Users\\jeka1\\Anaconda2\\envs\\py36\\lib\\site-packages\\sklearn\\model_selection\\_split.py:605: Warning: The least populated class in y has only 3 members, which is too few. The minimum number of members in any class cannot be less than n_splits=5.\n",
      "  % (min_groups, self.n_splits)), Warning)\n",
      "C:\\Users\\jeka1\\Anaconda2\\envs\\py36\\lib\\site-packages\\sklearn\\model_selection\\_split.py:605: Warning: The least populated class in y has only 3 members, which is too few. The minimum number of members in any class cannot be less than n_splits=5.\n",
      "  % (min_groups, self.n_splits)), Warning)\n",
      "C:\\Users\\jeka1\\Anaconda2\\envs\\py36\\lib\\site-packages\\sklearn\\model_selection\\_split.py:605: Warning: The least populated class in y has only 3 members, which is too few. The minimum number of members in any class cannot be less than n_splits=5.\n",
      "  % (min_groups, self.n_splits)), Warning)\n",
      "C:\\Users\\jeka1\\Anaconda2\\envs\\py36\\lib\\site-packages\\sklearn\\model_selection\\_split.py:605: Warning: The least populated class in y has only 3 members, which is too few. The minimum number of members in any class cannot be less than n_splits=5.\n",
      "  % (min_groups, self.n_splits)), Warning)\n",
      "C:\\Users\\jeka1\\Anaconda2\\envs\\py36\\lib\\site-packages\\sklearn\\model_selection\\_split.py:605: Warning: The least populated class in y has only 3 members, which is too few. The minimum number of members in any class cannot be less than n_splits=5.\n",
      "  % (min_groups, self.n_splits)), Warning)\n",
      "C:\\Users\\jeka1\\Anaconda2\\envs\\py36\\lib\\site-packages\\sklearn\\model_selection\\_split.py:605: Warning: The least populated class in y has only 3 members, which is too few. The minimum number of members in any class cannot be less than n_splits=5.\n",
      "  % (min_groups, self.n_splits)), Warning)\n",
      "C:\\Users\\jeka1\\Anaconda2\\envs\\py36\\lib\\site-packages\\sklearn\\model_selection\\_split.py:605: Warning: The least populated class in y has only 3 members, which is too few. The minimum number of members in any class cannot be less than n_splits=5.\n",
      "  % (min_groups, self.n_splits)), Warning)\n",
      "C:\\Users\\jeka1\\Anaconda2\\envs\\py36\\lib\\site-packages\\sklearn\\model_selection\\_split.py:605: Warning: The least populated class in y has only 3 members, which is too few. The minimum number of members in any class cannot be less than n_splits=5.\n",
      "  % (min_groups, self.n_splits)), Warning)\n",
      "C:\\Users\\jeka1\\Anaconda2\\envs\\py36\\lib\\site-packages\\sklearn\\model_selection\\_split.py:605: Warning: The least populated class in y has only 3 members, which is too few. The minimum number of members in any class cannot be less than n_splits=5.\n",
      "  % (min_groups, self.n_splits)), Warning)\n",
      "C:\\Users\\jeka1\\Anaconda2\\envs\\py36\\lib\\site-packages\\sklearn\\model_selection\\_split.py:605: Warning: The least populated class in y has only 3 members, which is too few. The minimum number of members in any class cannot be less than n_splits=5.\n",
      "  % (min_groups, self.n_splits)), Warning)\n",
      "C:\\Users\\jeka1\\Anaconda2\\envs\\py36\\lib\\site-packages\\sklearn\\model_selection\\_split.py:605: Warning: The least populated class in y has only 3 members, which is too few. The minimum number of members in any class cannot be less than n_splits=5.\n",
      "  % (min_groups, self.n_splits)), Warning)\n",
      "C:\\Users\\jeka1\\Anaconda2\\envs\\py36\\lib\\site-packages\\sklearn\\model_selection\\_split.py:605: Warning: The least populated class in y has only 3 members, which is too few. The minimum number of members in any class cannot be less than n_splits=5.\n",
      "  % (min_groups, self.n_splits)), Warning)\n",
      "C:\\Users\\jeka1\\Anaconda2\\envs\\py36\\lib\\site-packages\\sklearn\\model_selection\\_split.py:605: Warning: The least populated class in y has only 3 members, which is too few. The minimum number of members in any class cannot be less than n_splits=5.\n",
      "  % (min_groups, self.n_splits)), Warning)\n",
      "C:\\Users\\jeka1\\Anaconda2\\envs\\py36\\lib\\site-packages\\sklearn\\model_selection\\_split.py:605: Warning: The least populated class in y has only 3 members, which is too few. The minimum number of members in any class cannot be less than n_splits=5.\n",
      "  % (min_groups, self.n_splits)), Warning)\n",
      "C:\\Users\\jeka1\\Anaconda2\\envs\\py36\\lib\\site-packages\\sklearn\\model_selection\\_split.py:605: Warning: The least populated class in y has only 3 members, which is too few. The minimum number of members in any class cannot be less than n_splits=5.\n",
      "  % (min_groups, self.n_splits)), Warning)\n",
      "C:\\Users\\jeka1\\Anaconda2\\envs\\py36\\lib\\site-packages\\sklearn\\model_selection\\_split.py:605: Warning: The least populated class in y has only 3 members, which is too few. The minimum number of members in any class cannot be less than n_splits=5.\n",
      "  % (min_groups, self.n_splits)), Warning)\n",
      "C:\\Users\\jeka1\\Anaconda2\\envs\\py36\\lib\\site-packages\\sklearn\\model_selection\\_split.py:605: Warning: The least populated class in y has only 3 members, which is too few. The minimum number of members in any class cannot be less than n_splits=5.\n",
      "  % (min_groups, self.n_splits)), Warning)\n",
      "C:\\Users\\jeka1\\Anaconda2\\envs\\py36\\lib\\site-packages\\sklearn\\model_selection\\_split.py:605: Warning: The least populated class in y has only 3 members, which is too few. The minimum number of members in any class cannot be less than n_splits=5.\n",
      "  % (min_groups, self.n_splits)), Warning)\n",
      "C:\\Users\\jeka1\\Anaconda2\\envs\\py36\\lib\\site-packages\\sklearn\\model_selection\\_split.py:605: Warning: The least populated class in y has only 3 members, which is too few. The minimum number of members in any class cannot be less than n_splits=5.\n",
      "  % (min_groups, self.n_splits)), Warning)\n"
     ]
    }
   ],
   "source": [
    "#apoe, bin1, clu, abca7, cr1, picalm\n",
    "res = first_second_biclusters('picalm')\n"
   ]
  },
  {
   "cell_type": "code",
   "execution_count": 8,
   "metadata": {},
   "outputs": [
    {
     "data": {
      "image/png": "[encoded data removed]",
      "text/plain": [
       "<matplotlib.figure.Figure at 0x26cea98aba8>"
      ]
     },
     "metadata": {},
     "output_type": "display_data"
    }
   ],
   "source": [
    "sns.set(rc={'figure.figsize':(11.7,8.27)})\n",
    "\n",
    "fig = plt.figure()\n",
    "fig.subplots_adjust(hspace=0.4, wspace=0.4)\n",
    "for i in range(1, 5):\n",
    "    ax = fig.add_subplot(2, 2, i)\n",
    "    sns.boxplot(np.arange(7)+1, res[i-1])\n",
    "    plt.title(i)\n",
    "    plt.xlabel('number of trees')\n",
    "    plt.ylabel('classification score')\n",
    "\n",
    "plt.show()"
   ]
  },
  {
   "cell_type": "markdown",
   "metadata": {},
   "source": [
    "Our genotype df is imbalanced and we should find some ways to deal with it \n",
    "\n",
    "Why is it important? - cross-validation requires the presence of each class in amount not less then number of folders"
   ]
  },
  {
   "cell_type": "code",
   "execution_count": 9,
   "metadata": {},
   "outputs": [
    {
     "data": {
      "text/plain": [
       "Counter({0: 3, 1: 15, 2: 4, 3: 1})"
      ]
     },
     "execution_count": 9,
     "metadata": {},
     "output_type": "execute_result"
    }
   ],
   "source": [
    "import collections\n",
    "collections.Counter(y)"
   ]
  },
  {
   "cell_type": "code",
   "execution_count": 10,
   "metadata": {
    "scrolled": true
   },
   "outputs": [
    {
     "name": "stdout",
     "output_type": "stream",
     "text": [
      "['E2/E3', 'E3/E3', 'E3/E4', 'E4/E4']\n",
      "['A/A', 'A/G', 'G/G']\n",
      "['C/C', 'C/T', 'T/T']\n",
      "['G/G', 'G/T', 'T/T']\n",
      "['A/A', 'A/G', 'G/G']\n",
      "['C/C', 'C/T', 'T/T']\n"
     ]
    }
   ],
   "source": [
    "le = preprocessing.LabelEncoder()\n",
    "full_df = pd.merge(thickness, genotypes, on='subject_id')\n",
    "\n",
    "#changing categorical values by numeric\n",
    "\n",
    "le.fit(full_df.apoe)\n",
    "print(list(le.classes_))\n",
    "full_df['apoe_coded'] = le.transform(full_df.apoe) \n",
    "collections.Counter(full_df['apoe_coded'] )\n",
    "\n",
    "le.fit(full_df.bin1)\n",
    "print(list(le.classes_))\n",
    "full_df['bin1_coded'] = le.transform(full_df.bin1) \n",
    "collections.Counter(full_df['bin1_coded'] )\n",
    "\n",
    "le.fit(full_df.clu)\n",
    "print(list(le.classes_))\n",
    "full_df['clu_coded'] = le.transform(full_df.clu) \n",
    "collections.Counter(full_df['clu_coded'] )\n",
    "\n",
    "le.fit(full_df.abca7)\n",
    "print(list(le.classes_))\n",
    "full_df['abca7_coded'] = le.transform(full_df.abca7) \n",
    "collections.Counter(full_df['abca7_coded'] )\n",
    "\n",
    "le.fit(full_df.cr1)\n",
    "print(list(le.classes_))\n",
    "full_df['cr1_coded'] = le.transform(full_df.cr1) \n",
    "collections.Counter(full_df['cr1_coded'] )\n",
    "\n",
    "le.fit(full_df.picalm)\n",
    "print(list(le.classes_))\n",
    "full_df['picalm_coded'] = le.transform(full_df.picalm) \n",
    "collections.Counter(full_df['picalm_coded'] )\n",
    "\n",
    "full_df = full_df.drop(['sex', 'age', 'apoe', 'bin1', 'clu', 'abca7', 'cr1', 'picalm'], axis = 1)"
   ]
  },
  {
   "cell_type": "code",
   "execution_count": 199,
   "metadata": {},
   "outputs": [
    {
     "data": {
      "text/html": [
       "<div>\n",
       "<style scoped>\n",
       "    .dataframe tbody tr th:only-of-type {\n",
       "        vertical-align: middle;\n",
       "    }\n",
       "\n",
       "    .dataframe tbody tr th {\n",
       "        vertical-align: top;\n",
       "    }\n",
       "\n",
       "    .dataframe thead th {\n",
       "        text-align: right;\n",
       "    }\n",
       "</style>\n",
       "<table border=\"1\" class=\"dataframe\">\n",
       "  <thead>\n",
       "    <tr style=\"text-align: right;\">\n",
       "      <th></th>\n",
       "      <th>subject_id</th>\n",
       "      <th>left_G_and_S_frontomargin</th>\n",
       "      <th>left_G_and_S_occipital_inf</th>\n",
       "      <th>left_G_and_S_paracentral</th>\n",
       "      <th>left_G_and_S_subcentral</th>\n",
       "      <th>left_G_and_S_transv_frontopol</th>\n",
       "      <th>left_G_and_S_cingul-Ant</th>\n",
       "      <th>left_G_and_S_cingul-Mid-Ant</th>\n",
       "      <th>left_G_and_S_cingul-Mid-Post</th>\n",
       "      <th>left_G_cingul-Post-dorsal</th>\n",
       "      <th>...</th>\n",
       "      <th>right_S_subparietal</th>\n",
       "      <th>right_S_temporal_inf</th>\n",
       "      <th>right_S_temporal_sup</th>\n",
       "      <th>right_S_temporal_transverse</th>\n",
       "      <th>apoe_coded</th>\n",
       "      <th>bin1_coded</th>\n",
       "      <th>clu_coded</th>\n",
       "      <th>abca7_coded</th>\n",
       "      <th>cr1_coded</th>\n",
       "      <th>picalm_coded</th>\n",
       "    </tr>\n",
       "  </thead>\n",
       "  <tbody>\n",
       "    <tr>\n",
       "      <th>0</th>\n",
       "      <td>s_001</td>\n",
       "      <td>1.805</td>\n",
       "      <td>1.866</td>\n",
       "      <td>1.772</td>\n",
       "      <td>2.449</td>\n",
       "      <td>1.970</td>\n",
       "      <td>2.039</td>\n",
       "      <td>2.551</td>\n",
       "      <td>2.251</td>\n",
       "      <td>2.891</td>\n",
       "      <td>...</td>\n",
       "      <td>1.952</td>\n",
       "      <td>2.442</td>\n",
       "      <td>2.065</td>\n",
       "      <td>1.399</td>\n",
       "      <td>2</td>\n",
       "      <td>1</td>\n",
       "      <td>0</td>\n",
       "      <td>2</td>\n",
       "      <td>2</td>\n",
       "      <td>1</td>\n",
       "    </tr>\n",
       "    <tr>\n",
       "      <th>1</th>\n",
       "      <td>s_002</td>\n",
       "      <td>2.201</td>\n",
       "      <td>2.151</td>\n",
       "      <td>1.922</td>\n",
       "      <td>2.447</td>\n",
       "      <td>2.263</td>\n",
       "      <td>2.587</td>\n",
       "      <td>2.524</td>\n",
       "      <td>2.153</td>\n",
       "      <td>2.621</td>\n",
       "      <td>...</td>\n",
       "      <td>2.167</td>\n",
       "      <td>2.541</td>\n",
       "      <td>2.399</td>\n",
       "      <td>2.713</td>\n",
       "      <td>0</td>\n",
       "      <td>1</td>\n",
       "      <td>0</td>\n",
       "      <td>2</td>\n",
       "      <td>2</td>\n",
       "      <td>2</td>\n",
       "    </tr>\n",
       "    <tr>\n",
       "      <th>2</th>\n",
       "      <td>s_003</td>\n",
       "      <td>2.012</td>\n",
       "      <td>1.813</td>\n",
       "      <td>1.724</td>\n",
       "      <td>2.131</td>\n",
       "      <td>2.225</td>\n",
       "      <td>2.572</td>\n",
       "      <td>2.525</td>\n",
       "      <td>2.349</td>\n",
       "      <td>2.738</td>\n",
       "      <td>...</td>\n",
       "      <td>1.873</td>\n",
       "      <td>2.254</td>\n",
       "      <td>2.180</td>\n",
       "      <td>1.865</td>\n",
       "      <td>1</td>\n",
       "      <td>1</td>\n",
       "      <td>0</td>\n",
       "      <td>1</td>\n",
       "      <td>1</td>\n",
       "      <td>1</td>\n",
       "    </tr>\n",
       "    <tr>\n",
       "      <th>3</th>\n",
       "      <td>s_004</td>\n",
       "      <td>2.203</td>\n",
       "      <td>1.765</td>\n",
       "      <td>2.142</td>\n",
       "      <td>2.659</td>\n",
       "      <td>2.331</td>\n",
       "      <td>2.335</td>\n",
       "      <td>2.422</td>\n",
       "      <td>2.383</td>\n",
       "      <td>2.834</td>\n",
       "      <td>...</td>\n",
       "      <td>1.987</td>\n",
       "      <td>2.418</td>\n",
       "      <td>2.404</td>\n",
       "      <td>2.451</td>\n",
       "      <td>0</td>\n",
       "      <td>1</td>\n",
       "      <td>0</td>\n",
       "      <td>2</td>\n",
       "      <td>2</td>\n",
       "      <td>1</td>\n",
       "    </tr>\n",
       "    <tr>\n",
       "      <th>4</th>\n",
       "      <td>s_005</td>\n",
       "      <td>2.118</td>\n",
       "      <td>2.013</td>\n",
       "      <td>1.582</td>\n",
       "      <td>2.062</td>\n",
       "      <td>2.233</td>\n",
       "      <td>2.541</td>\n",
       "      <td>2.652</td>\n",
       "      <td>2.526</td>\n",
       "      <td>2.885</td>\n",
       "      <td>...</td>\n",
       "      <td>2.333</td>\n",
       "      <td>2.864</td>\n",
       "      <td>2.273</td>\n",
       "      <td>1.779</td>\n",
       "      <td>1</td>\n",
       "      <td>1</td>\n",
       "      <td>1</td>\n",
       "      <td>2</td>\n",
       "      <td>2</td>\n",
       "      <td>0</td>\n",
       "    </tr>\n",
       "  </tbody>\n",
       "</table>\n",
       "<p>5 rows × 155 columns</p>\n",
       "</div>"
      ],
      "text/plain": [
       "  subject_id  left_G_and_S_frontomargin  left_G_and_S_occipital_inf  \\\n",
       "0      s_001                      1.805                       1.866   \n",
       "1      s_002                      2.201                       2.151   \n",
       "2      s_003                      2.012                       1.813   \n",
       "3      s_004                      2.203                       1.765   \n",
       "4      s_005                      2.118                       2.013   \n",
       "\n",
       "   left_G_and_S_paracentral  left_G_and_S_subcentral  \\\n",
       "0                     1.772                    2.449   \n",
       "1                     1.922                    2.447   \n",
       "2                     1.724                    2.131   \n",
       "3                     2.142                    2.659   \n",
       "4                     1.582                    2.062   \n",
       "\n",
       "   left_G_and_S_transv_frontopol  left_G_and_S_cingul-Ant  \\\n",
       "0                          1.970                    2.039   \n",
       "1                          2.263                    2.587   \n",
       "2                          2.225                    2.572   \n",
       "3                          2.331                    2.335   \n",
       "4                          2.233                    2.541   \n",
       "\n",
       "   left_G_and_S_cingul-Mid-Ant  left_G_and_S_cingul-Mid-Post  \\\n",
       "0                        2.551                         2.251   \n",
       "1                        2.524                         2.153   \n",
       "2                        2.525                         2.349   \n",
       "3                        2.422                         2.383   \n",
       "4                        2.652                         2.526   \n",
       "\n",
       "   left_G_cingul-Post-dorsal      ...       right_S_subparietal  \\\n",
       "0                      2.891      ...                     1.952   \n",
       "1                      2.621      ...                     2.167   \n",
       "2                      2.738      ...                     1.873   \n",
       "3                      2.834      ...                     1.987   \n",
       "4                      2.885      ...                     2.333   \n",
       "\n",
       "   right_S_temporal_inf  right_S_temporal_sup  right_S_temporal_transverse  \\\n",
       "0                 2.442                 2.065                        1.399   \n",
       "1                 2.541                 2.399                        2.713   \n",
       "2                 2.254                 2.180                        1.865   \n",
       "3                 2.418                 2.404                        2.451   \n",
       "4                 2.864                 2.273                        1.779   \n",
       "\n",
       "   apoe_coded  bin1_coded  clu_coded  abca7_coded  cr1_coded  picalm_coded  \n",
       "0           2           1          0            2          2             1  \n",
       "1           0           1          0            2          2             2  \n",
       "2           1           1          0            1          1             1  \n",
       "3           0           1          0            2          2             1  \n",
       "4           1           1          1            2          2             0  \n",
       "\n",
       "[5 rows x 155 columns]"
      ]
     },
     "execution_count": 199,
     "metadata": {},
     "output_type": "execute_result"
    }
   ],
   "source": [
    "full_df.head()"
   ]
  },
  {
   "cell_type": "code",
   "execution_count": 11,
   "metadata": {
    "collapsed": true
   },
   "outputs": [],
   "source": [
    "from sklearn.utils import resample\n",
    "# Separate majority and minority classes"
   ]
  },
  {
   "cell_type": "code",
   "execution_count": 12,
   "metadata": {
    "collapsed": true
   },
   "outputs": [],
   "source": [
    "def resampling(df):   \n",
    "    df_majority = df.loc[df['apoe_coded'] == 1]\n",
    "    df_minority0 = df.loc[df['apoe_coded'] == 0]\n",
    "    df_minority2 = df.loc[df['apoe_coded'] == 2]\n",
    "    df_minority3 = df.loc[df['apoe_coded'] == 3]\n",
    "\n",
    "\n",
    "    # Upsample minority class\n",
    "    df_minority_upsampled0 = resample(df_minority0, \n",
    "                                     replace=True,     # sample with replacement\n",
    "                                     n_samples=df_majority.shape[0],    # to match majority class\n",
    "                                     random_state=123) # reproducible results\n",
    "\n",
    "    df_minority_upsampled2 = resample(df_minority2, \n",
    "                                     replace=True,     # sample with replacement\n",
    "                                     n_samples=df_majority.shape[0],    # to match majority class\n",
    "                                     random_state=123) # reproducible results\n",
    "\n",
    "    df_minority_upsampled3 = resample(df_minority3, \n",
    "                                     replace=True,     # sample with replacement\n",
    "                                     n_samples=df_majority.shape[0],    # to match majority class\n",
    "                                     random_state=123) # reproducible results\n",
    "\n",
    "\n",
    "    # Combine majority class with upsampled minority class\n",
    "    df_upsampled = pd.concat([df_majority, df_minority_upsampled0, df_minority_upsampled2, df_minority_upsampled3])\n",
    "\n",
    "    # Display new class counts\n",
    "    print(collections.Counter(df.apoe_coded))\n",
    "    print(collections.Counter(df_upsampled.apoe_coded))\n",
    "    \n",
    "    return  df_upsampled"
   ]
  },
  {
   "cell_type": "code",
   "execution_count": 13,
   "metadata": {},
   "outputs": [
    {
     "name": "stdout",
     "output_type": "stream",
     "text": [
      "Counter({1: 105, 2: 35, 0: 16, 3: 3})\n",
      "Counter({1: 105, 0: 105, 2: 105, 3: 105})\n"
     ]
    }
   ],
   "source": [
    "df_upsampled_res = resampling(full_df)\n",
    "apoe_upsampled = df_upsampled_res.copy()\n",
    "apoe_upsampled.head()\n",
    "apoe_full = apoe_upsampled.drop(['bin1_coded', 'clu_coded', 'abca7_coded', 'cr1_coded', 'picalm_coded'], axis = 1)\n",
    "\n",
    "y = apoe_full\n",
    "\n",
    "apoe_X1 = pd.DataFrame(apoe_full.loc[apoe_full['subject_id'].isin(thickness_cluster3['subject_id'])], columns=list(thickness_cluster1)).drop(['subject_id'], axis = 1)\n",
    "\n",
    "apoe_X2 = pd.DataFrame(apoe_full.loc[apoe_full['subject_id'].isin(thickness_cluster4['subject_id'])], columns=list(thickness_cluster2)).drop(['subject_id'], axis = 1)\n",
    "\n",
    "apoe_X3 = pd.concat([apoe_X1, apoe_X2], axis=1, join='inner')\n",
    "\n",
    "apoe_X4 = apoe_full.loc[apoe_full['subject_id'].isin(thickness_cluster3['subject_id'])].drop(['subject_id', 'apoe_coded'], axis = 1)\n",
    "\n",
    "y = apoe_full.loc[apoe_full['subject_id'].isin(thickness_cluster3['subject_id']), 'apoe_coded']"
   ]
  },
  {
   "cell_type": "code",
   "execution_count": 19,
   "metadata": {},
   "outputs": [
    {
     "name": "stdout",
     "output_type": "stream",
     "text": [
      "(64, 43) (64, 55) (64, 98) (64, 148)\n",
      "Counter({1: 24, 2: 23, 0: 17})\n"
     ]
    }
   ],
   "source": [
    "print(apoe_X1.shape, apoe_X2.shape, apoe_X3.shape, apoe_X4.shape)\n",
    "print(collections.Counter(y))"
   ]
  },
  {
   "cell_type": "code",
   "execution_count": 20,
   "metadata": {},
   "outputs": [
    {
     "name": "stdout",
     "output_type": "stream",
     "text": [
      "0.8887279387279386\n",
      "0.9030136530136529\n",
      "0.8577755577755578\n",
      "0.8372127872127872\n"
     ]
    }
   ],
   "source": [
    "RF = RandomForestClassifier(max_depth = 5, random_state = 0)\n",
    "\n",
    "print(np.mean(cross_val_score(RF, apoe_X1, y, cv=5)))\n",
    "print(np.mean(cross_val_score(RF, apoe_X2, y, cv=5)))\n",
    "\n",
    "print(np.mean(cross_val_score(RF, apoe_X3, y, cv=5)))\n",
    "print(np.mean(cross_val_score(RF, apoe_X4, y, cv=5)))"
   ]
  },
  {
   "cell_type": "markdown",
   "metadata": {},
   "source": [
    "INITIAL FULL DATASET WITHOUT USING BICLUSTERING RESULTS\n",
    "\n",
    "UPSAMPLING AND ALL BRAIN AREAS"
   ]
  },
  {
   "cell_type": "code",
   "execution_count": 14,
   "metadata": {},
   "outputs": [
    {
     "name": "stdout",
     "output_type": "stream",
     "text": [
      "Counter({1: 105, 2: 35, 0: 16, 3: 3})\n",
      "Counter({1: 105, 0: 105, 2: 105, 3: 105})\n",
      "0.7936507936507936\n",
      "Counter({0: 35, 1: 33, 2: 32, 3: 26})\n",
      "[[33  2  0  0]\n",
      " [ 3 14 15  1]\n",
      " [ 0  5 27  0]\n",
      " [ 0  0  0 26]]\n",
      "[0.         0.         0.         0.         0.         0.\n",
      " 0.01533675 0.         0.00628184 0.         0.         0.00516854\n",
      " 0.00484578 0.         0.02307231 0.         0.         0.\n",
      " 0.00093674 0.00483825 0.01090099 0.01559188 0.00327858 0.00133649\n",
      " 0.0500072  0.01104069 0.00112589 0.00388918 0.00543327 0.\n",
      " 0.02313863 0.         0.01308659 0.         0.         0.\n",
      " 0.0565901  0.         0.         0.02018582 0.00309673 0.\n",
      " 0.         0.         0.         0.01435234 0.         0.\n",
      " 0.05739252 0.         0.00626765 0.00681603 0.01997287 0.01070172\n",
      " 0.01293997 0.00556378 0.         0.01332378 0.         0.\n",
      " 0.         0.         0.         0.         0.00135334 0.\n",
      " 0.00843955 0.0075365  0.02037307 0.00220833 0.         0.\n",
      " 0.00606013 0.         0.00783514 0.         0.         0.\n",
      " 0.         0.         0.         0.0154313  0.         0.\n",
      " 0.         0.         0.         0.03424823 0.03229224 0.03396514\n",
      " 0.0062486  0.02809186 0.         0.         0.00295882 0.\n",
      " 0.01205111 0.00300605 0.00705112 0.01963488 0.         0.\n",
      " 0.         0.         0.         0.00430208 0.01220961 0.01670222\n",
      " 0.         0.         0.00348907 0.         0.00749864 0.02070281\n",
      " 0.03515814 0.01675404 0.00444802 0.00303718 0.00177489 0.01259349\n",
      " 0.00220875 0.01555082 0.         0.         0.         0.00218608\n",
      " 0.         0.01198305 0.         0.00099013 0.         0.03683267\n",
      " 0.         0.01676549 0.00140154 0.         0.00918231 0.01735415\n",
      " 0.01982155 0.00584391 0.         0.00318411 0.00752614 0.00242239\n",
      " 0.         0.00582236 0.02366129 0.00329478]\n"
     ]
    }
   ],
   "source": [
    "df_upsampled_res = resampling(full_df)\n",
    "apoe_upsampled = df_upsampled_res.copy()\n",
    "apoe_upsampled.head()\n",
    "apoe_full = apoe_upsampled.drop(['bin1_coded', 'clu_coded', 'abca7_coded', 'cr1_coded', 'picalm_coded'], axis = 1)\n",
    "\n",
    "X_train, X_test, y_train, y_test = train_test_split(apoe_full.drop(['subject_id', 'apoe_coded'], axis = 1), \n",
    "                                                    apoe_full.apoe_coded, test_size=0.3)\n",
    "RF = RandomForestClassifier(max_depth = 5, random_state=0)\n",
    "RF.fit(X_train, y_train)\n",
    "pred = RF.predict(X_test)\n",
    "print(accuracy_score(y_test, pred))\n",
    "print(collections.Counter(y_test))\n",
    "print(confusion_matrix(y_test, pred))\n",
    "print(RF.feature_importances_)"
   ]
  },
  {
   "cell_type": "code",
   "execution_count": null,
   "metadata": {
    "collapsed": true
   },
   "outputs": [],
   "source": []
  },
  {
   "cell_type": "code",
   "execution_count": null,
   "metadata": {
    "collapsed": true
   },
   "outputs": [],
   "source": []
  },
  {
   "cell_type": "markdown",
   "metadata": {},
   "source": [
    "OTHER GENES"
   ]
  },
  {
   "cell_type": "code",
   "execution_count": 15,
   "metadata": {
    "collapsed": true
   },
   "outputs": [],
   "source": [
    "def resampling2(df, gene, major, minor1, minor2):   \n",
    "    df_majority = df.loc[df[gene] == major]\n",
    "    df_minority0 = df.loc[df[gene] == minor1]\n",
    "    df_minority2 = df.loc[df[gene] == minor2]\n",
    "\n",
    "    # Upsample minority class\n",
    "    df_minority_upsampled0 = resample(df_minority0, \n",
    "                                     replace=True,     # sample with replacement\n",
    "                                     n_samples=df_majority.shape[0],    # to match majority class\n",
    "                                     random_state=123) # reproducible results\n",
    "\n",
    "    df_minority_upsampled2 = resample(df_minority2, \n",
    "                                     replace=True,     # sample with replacement\n",
    "                                     n_samples=df_majority.shape[0],    # to match majority class\n",
    "                                     random_state=123) # reproducible results\n",
    "    \n",
    "    # Combine majority class with upsampled minority class\n",
    "    df_upsampled = pd.concat([df_majority, df_minority_upsampled0, df_minority_upsampled2])\n",
    "\n",
    "    # Display new class counts\n",
    "    print(collections.Counter(df[gene]))\n",
    "    print(collections.Counter(df_upsampled[gene]))\n",
    "    \n",
    "    return df_upsampled"
   ]
  },
  {
   "cell_type": "code",
   "execution_count": 11,
   "metadata": {},
   "outputs": [
    {
     "name": "stdout",
     "output_type": "stream",
     "text": [
      "Counter({0: 78, 1: 70, 2: 11})\n",
      "Counter({1: 76, 0: 65, 2: 18})\n",
      "Counter({2: 117, 1: 39, 0: 3})\n",
      "Counter({2: 95, 1: 59, 0: 5})\n",
      "Counter({1: 84, 0: 61, 2: 14})\n"
     ]
    }
   ],
   "source": [
    "print(collections.Counter(full_df.bin1_coded))\n",
    "print(collections.Counter(full_df.clu_coded))\n",
    "print(collections.Counter(full_df.abca7_coded))\n",
    "print(collections.Counter(full_df.cr1_coded))\n",
    "print(collections.Counter(full_df.picalm_coded))"
   ]
  },
  {
   "cell_type": "code",
   "execution_count": 15,
   "metadata": {},
   "outputs": [
    {
     "name": "stdout",
     "output_type": "stream",
     "text": [
      "Counter({0: 78, 1: 70, 2: 11})\n",
      "Counter({0: 78, 1: 78, 2: 78})\n",
      "0.760563380282\n",
      "[[15  3  1]\n",
      " [13 13  0]\n",
      " [ 0  0 26]]\n",
      "[ 0.00333071  0.          0.01510488  0.          0.00481102  0.00467773\n",
      "  0.01742802  0.0030443   0.00891371  0.          0.          0.01153826\n",
      "  0.00274764  0.00384669  0.0027526   0.          0.01935505  0.00191278\n",
      "  0.          0.          0.01089323  0.01355214  0.00336483  0.01129601\n",
      "  0.          0.0227869   0.05056718  0.          0.00303902  0.\n",
      "  0.01658163  0.          0.          0.00522893  0.00629229  0.00415443\n",
      "  0.00196554  0.00298652  0.00999022  0.00205185  0.0129201   0.00168734\n",
      "  0.01937598  0.0088707   0.0034922   0.00124623  0.00948283  0.01381775\n",
      "  0.          0.00192818  0.          0.00181501  0.          0.          0.0019811\n",
      "  0.00794968  0.01215673  0.0079501   0.          0.          0.01748111\n",
      "  0.01838031  0.00682078  0.          0.          0.          0.0068551\n",
      "  0.00971625  0.01322764  0.00787219  0.          0.00720709  0.00467396\n",
      "  0.          0.00817227  0.          0.01269066  0.          0.00699512\n",
      "  0.00367878  0.00210652  0.00525739  0.01211719  0.          0.00249825\n",
      "  0.02526674  0.          0.          0.          0.          0.00338301\n",
      "  0.01632439  0.00592739  0.00930497  0.          0.0055475   0.00686817\n",
      "  0.0212763   0.0039617   0.          0.00475972  0.01993221  0.00165173\n",
      "  0.02452346  0.          0.0035707   0.00881861  0.          0.          0.\n",
      "  0.          0.00823272  0.03546008  0.01669858  0.00949453  0.          0.\n",
      "  0.02048305  0.00300786  0.00619858  0.00835344  0.          0.0069885   0.\n",
      "  0.02671197  0.          0.          0.00190437  0.01482959  0.01052377\n",
      "  0.01097339  0.0245482   0.          0.00783151  0.          0.00398012\n",
      "  0.03037843  0.          0.01912571  0.02368626  0.          0.01063955\n",
      "  0.00344109  0.00647637  0.          0.          0.00168242  0.01259469]\n"
     ]
    }
   ],
   "source": [
    "df_upsampled_res = resampling2(full_df, 'bin1_coded', 0, 1, 2)\n",
    "bin1_upsampled = df_upsampled_res.copy()\n",
    "bin1_upsampled.head()\n",
    "bin1_full = bin1_upsampled.drop(['apoe_coded', 'clu_coded', 'abca7_coded', 'cr1_coded', 'picalm_coded'], axis = 1)\n",
    "\n",
    "X_train, X_test, y_train, y_test = train_test_split(bin1_full.drop(['subject_id', 'bin1_coded'], axis = 1), \n",
    "                                                    bin1_full.bin1_coded, test_size=0.3)\n",
    "RF = RandomForestClassifier(max_depth = 5, random_state=0)\n",
    "RF.fit(X_train, y_train)\n",
    "pred = RF.predict(X_test)\n",
    "print(accuracy_score(y_test, pred))\n",
    "print(confusion_matrix(y_test, pred))\n",
    "print(RF.feature_importances_)"
   ]
  },
  {
   "cell_type": "code",
   "execution_count": 16,
   "metadata": {},
   "outputs": [
    {
     "name": "stdout",
     "output_type": "stream",
     "text": [
      "Counter({1: 76, 0: 65, 2: 18})\n",
      "Counter({1: 76, 0: 76, 2: 76})\n",
      "0.623188405797\n",
      "[[12  5  2]\n",
      " [ 8 12  5]\n",
      " [ 3  3 19]]\n",
      "[ 0.          0.01388617  0.          0.01651031  0.02753456  0.00435837\n",
      "  0.00620986  0.          0.00663955  0.          0.01711674  0.00413293\n",
      "  0.          0.          0.01518176  0.00527483  0.03384723  0.00468948\n",
      "  0.01056898  0.00285554  0.01389798  0.0037803   0.          0.01587148\n",
      "  0.          0.00952965  0.          0.          0.          0.00679586\n",
      "  0.          0.          0.          0.00315302  0.          0.\n",
      "  0.02428899  0.00227829  0.02651344  0.          0.01374002  0.\n",
      "  0.01705457  0.          0.          0.00926148  0.00223364  0.00225728\n",
      "  0.00726018  0.          0.00704996  0.          0.00515114  0.          0.\n",
      "  0.          0.          0.          0.00264931  0.          0.          0.\n",
      "  0.00548089  0.00296061  0.          0.          0.00667432  0.\n",
      "  0.01734389  0.00429533  0.01944216  0.00261321  0.02528772  0.00441771\n",
      "  0.00160324  0.          0.          0.03189734  0.          0.00306467\n",
      "  0.00849621  0.          0.01344773  0.00534875  0.          0.          0.\n",
      "  0.          0.01106341  0.00223216  0.01101539  0.03183372  0.01934745\n",
      "  0.01098989  0.00392032  0.00755573  0.          0.02472176  0.          0.\n",
      "  0.01759005  0.          0.0094768   0.00267394  0.          0.02351665\n",
      "  0.00334824  0.00637323  0.00527333  0.          0.          0.00573999\n",
      "  0.0118137   0.          0.00637051  0.          0.00200405  0.00640776\n",
      "  0.00553353  0.05249932  0.00940171  0.01088347  0.02039935  0.0178936   0.\n",
      "  0.          0.00146969  0.00949098  0.          0.00207096  0.01493372\n",
      "  0.00360729  0.00204999  0.00565395  0.00546505  0.00908474  0.\n",
      "  0.02167994  0.          0.0054476   0.          0.02044873  0.\n",
      "  0.02477918  0.01208572  0.          0.0072082   0.02069847]\n"
     ]
    }
   ],
   "source": [
    "df_upsampled_res = resampling2(full_df, 'clu_coded', 1, 0, 2)\n",
    "clu_upsampled = df_upsampled_res.copy()\n",
    "clu_upsampled.head()\n",
    "clu_full = clu_upsampled.drop(['apoe_coded', 'bin1_coded', 'abca7_coded', 'cr1_coded', 'picalm_coded'], axis = 1)\n",
    "\n",
    "X_train, X_test, y_train, y_test = train_test_split(clu_full.drop(['subject_id', 'clu_coded'], axis = 1), \n",
    "                                                    clu_full.clu_coded, test_size=0.3)\n",
    "RF = RandomForestClassifier(max_depth = 5, random_state=0)\n",
    "RF.fit(X_train, y_train)\n",
    "pred = RF.predict(X_test)\n",
    "print(accuracy_score(y_test, pred))\n",
    "print(confusion_matrix(y_test, pred))\n",
    "print(RF.feature_importances_)"
   ]
  },
  {
   "cell_type": "code",
   "execution_count": 17,
   "metadata": {},
   "outputs": [
    {
     "name": "stdout",
     "output_type": "stream",
     "text": [
      "Counter({2: 117, 1: 39, 0: 3})\n",
      "Counter({2: 117, 1: 117, 0: 117})\n",
      "0.858490566038\n",
      "[[28  0  0]\n",
      " [ 0 34  5]\n",
      " [ 0 10 29]]\n",
      "[ 0.00681911  0.00500759  0.00653611  0.00128514  0.          0.\n",
      "  0.00350288  0.00613341  0.00320783  0.00625396  0.03781906  0.01579443\n",
      "  0.0033503   0.00214105  0.0057459   0.00124523  0.00599554  0.\n",
      "  0.01631947  0.          0.          0.00126965  0.00401994  0.00326554\n",
      "  0.0071253   0.          0.00987645  0.          0.00644196  0.0073594\n",
      "  0.01047547  0.00520605  0.0171249   0.          0.          0.00117605\n",
      "  0.00123003  0.00117598  0.01655768  0.03067283  0.00409491  0.00463101\n",
      "  0.00100568  0.004173    0.          0.          0.00119744  0.00397594\n",
      "  0.          0.00104758  0.          0.0033928   0.          0.0012806   0.\n",
      "  0.          0.          0.          0.02027211  0.          0.05334834\n",
      "  0.03733767  0.0013191   0.00205262  0.01672981  0.00214314  0.00357397\n",
      "  0.          0.00455561  0.00307887  0.0159163   0.04003647  0.03028606\n",
      "  0.00672518  0.00831534  0.01295132  0.00204041  0.00406458  0.          0.\n",
      "  0.          0.          0.          0.          0.          0.00548285\n",
      "  0.00338924  0.00562924  0.0020449   0.00088875  0.03218602  0.00443504\n",
      "  0.          0.00647901  0.00428481  0.00539671  0.00505352  0.          0.\n",
      "  0.03114705  0.00127084  0.02942954  0.00469105  0.00441543  0.\n",
      "  0.00242523  0.03105114  0.00915864  0.          0.          0.02094727\n",
      "  0.          0.0090141   0.          0.0062528   0.00220514  0.00854911\n",
      "  0.04415498  0.03447647  0.          0.          0.00473277  0.\n",
      "  0.02972566  0.00959537  0.          0.          0.          0.\n",
      "  0.00460747  0.          0.01116349  0.          0.00118656  0.          0.0025142\n",
      "  0.00367196  0.          0.          0.06311427  0.          0.          0.\n",
      "  0.01029184  0.00192817  0.00130116  0.00202815  0.        ]\n"
     ]
    }
   ],
   "source": [
    "df_upsampled_res = resampling2(full_df, 'abca7_coded', 2, 1, 0)\n",
    "abca7_upsampled = df_upsampled_res.copy()\n",
    "abca7_upsampled.head()\n",
    "abca7_full = abca7_upsampled.drop(['apoe_coded', 'bin1_coded', 'clu_coded', 'cr1_coded', 'picalm_coded'], axis = 1)\n",
    "\n",
    "X_train, X_test, y_train, y_test = train_test_split(abca7_full.drop(['subject_id', 'abca7_coded'], axis = 1), \n",
    "                                                    abca7_full.abca7_coded, test_size=0.3)\n",
    "RF = RandomForestClassifier(max_depth = 5, random_state=0)\n",
    "RF.fit(X_train, y_train)\n",
    "pred = RF.predict(X_test)\n",
    "print(accuracy_score(y_test, pred))\n",
    "print(confusion_matrix(y_test, pred))\n",
    "print(RF.feature_importances_)"
   ]
  },
  {
   "cell_type": "code",
   "execution_count": 18,
   "metadata": {},
   "outputs": [
    {
     "name": "stdout",
     "output_type": "stream",
     "text": [
      "Counter({2: 95, 1: 59, 0: 5})\n",
      "Counter({2: 95, 1: 95, 0: 95})\n",
      "0.651162790698\n",
      "[[25  0  0]\n",
      " [ 0  9 18]\n",
      " [ 1 11 22]]\n",
      "[ 0.00295103  0.0108498   0.00653754  0.          0.          0.          0.\n",
      "  0.0052833   0.02342918  0.00512455  0.03319634  0.00403314  0.00139295\n",
      "  0.00267672  0.          0.01102823  0.0128405   0.00487802  0.          0.\n",
      "  0.00172606  0.00133025  0.          0.          0.          0.00574013\n",
      "  0.01096689  0.00148554  0.          0.          0.00533166  0.00742769\n",
      "  0.08054725  0.          0.          0.00938887  0.03288946  0.\n",
      "  0.01929155  0.01647976  0.          0.          0.00421556  0.00714353\n",
      "  0.00621144  0.00151074  0.          0.00414275  0.0120387   0.01089549\n",
      "  0.          0.0095985   0.00316798  0.          0.01165576  0.00476996\n",
      "  0.          0.02070392  0.01774417  0.00146311  0.01268501  0.03336261\n",
      "  0.00298123  0.          0.          0.01873245  0.02199191  0.\n",
      "  0.01091356  0.00144628  0.00144025  0.          0.          0.01774064\n",
      "  0.          0.00457262  0.          0.          0.          0.00456443\n",
      "  0.          0.          0.          0.01417129  0.00475129  0.00424898\n",
      "  0.          0.          0.0095544   0.00157868  0.          0.00285307\n",
      "  0.          0.          0.00714242  0.00590715  0.          0.01651109\n",
      "  0.02027008  0.          0.          0.02266606  0.          0.          0.\n",
      "  0.00325911  0.0107473   0.04230809  0.          0.          0.01638761\n",
      "  0.00603529  0.          0.          0.03632813  0.00341819  0.          0.\n",
      "  0.03269986  0.          0.02081458  0.00575009  0.          0.00877223\n",
      "  0.          0.00551347  0.          0.          0.00595581  0.00232794\n",
      "  0.          0.00430851  0.00240074  0.00629523  0.0026336   0.00274347\n",
      "  0.00703682  0.          0.00164983  0.01477213  0.03671804  0.01931375\n",
      "  0.00965047  0.00514225  0.00405206  0.00883581  0.00195607  0.        ]\n"
     ]
    }
   ],
   "source": [
    "df_upsampled_res = resampling2(full_df, 'cr1_coded', 2, 1, 0)\n",
    "cr1_upsampled = df_upsampled_res.copy()\n",
    "cr1_upsampled.head()\n",
    "cr1_full = cr1_upsampled.drop(['apoe_coded', 'clu_coded', 'bin1_coded', 'abca7_coded', 'picalm_coded'], axis = 1)\n",
    "\n",
    "X_train, X_test, y_train, y_test = train_test_split(cr1_full.drop(['subject_id', 'cr1_coded'], axis = 1), \n",
    "                                                    cr1_full.cr1_coded, test_size=0.3)\n",
    "RF = RandomForestClassifier(max_depth = 5, random_state=0)\n",
    "RF.fit(X_train, y_train)\n",
    "pred = RF.predict(X_test)\n",
    "print(accuracy_score(y_test, pred))\n",
    "print(confusion_matrix(y_test, pred))\n",
    "print(RF.feature_importances_)"
   ]
  },
  {
   "cell_type": "code",
   "execution_count": 14,
   "metadata": {},
   "outputs": [
    {
     "name": "stdout",
     "output_type": "stream",
     "text": [
      "Counter({1: 84, 0: 61, 2: 14})\n",
      "Counter({1: 84, 0: 84, 2: 84})\n",
      "0.7236842105263158\n",
      "[[18  7  0]\n",
      " [ 9 11  3]\n",
      " [ 2  0 26]]\n",
      "[0.0066179  0.00363511 0.0097116  0.00838649 0.00771293 0.01257494\n",
      " 0.01093427 0.01893814 0.00759226 0.02114734 0.01724848 0.00386366\n",
      " 0.         0.         0.00603537 0.00982689 0.         0.00193108\n",
      " 0.00331452 0.0045099  0.         0.         0.00133507 0.\n",
      " 0.         0.         0.02008535 0.         0.         0.00936776\n",
      " 0.01536008 0.02170109 0.01072171 0.00746612 0.         0.00247316\n",
      " 0.00915155 0.         0.00198742 0.         0.         0.0018848\n",
      " 0.00455239 0.02994365 0.         0.00341588 0.         0.01342671\n",
      " 0.00178539 0.         0.         0.02165375 0.         0.00947628\n",
      " 0.02833542 0.00587652 0.00612919 0.00798555 0.         0.\n",
      " 0.00804039 0.00581794 0.         0.         0.         0.\n",
      " 0.01999695 0.00248024 0.01145212 0.0346734  0.         0.00620111\n",
      " 0.01269728 0.         0.00425176 0.00442718 0.01840528 0.\n",
      " 0.         0.         0.04893141 0.01344675 0.         0.\n",
      " 0.01847895 0.01367402 0.00423802 0.         0.00522991 0.00605043\n",
      " 0.00924723 0.00680757 0.00927096 0.         0.         0.\n",
      " 0.         0.         0.00845823 0.         0.00959135 0.0124659\n",
      " 0.         0.01068338 0.00742668 0.         0.0070432  0.04207136\n",
      " 0.00700964 0.         0.00958387 0.0029804  0.00879383 0.0160364\n",
      " 0.         0.00258656 0.02250863 0.01452855 0.02434845 0.\n",
      " 0.         0.00651602 0.01711364 0.00166883 0.02312693 0.00300248\n",
      " 0.00480711 0.         0.         0.00184228 0.         0.\n",
      " 0.02978201 0.         0.         0.01933484 0.00766592 0.\n",
      " 0.         0.00185956 0.         0.         0.00140712 0.\n",
      " 0.01684453 0.         0.         0.0069977 ]\n"
     ]
    }
   ],
   "source": [
    "df_upsampled_res = resampling2(full_df, 'picalm_coded', 1, 0, 2)\n",
    "picalm_upsampled = df_upsampled_res.copy()\n",
    "picalm_upsampled.head()\n",
    "picalm_full = picalm_upsampled.drop(['apoe_coded', 'bin1_coded', 'clu_coded', 'abca7_coded', 'cr1_coded'], axis = 1)\n",
    "\n",
    "X_train, X_test, y_train, y_test = train_test_split(picalm_full.drop(['subject_id', 'picalm_coded'], axis = 1), \n",
    "                                                    picalm_full.picalm_coded, test_size=0.3)\n",
    "RF = RandomForestClassifier(max_depth = 5, random_state=0)\n",
    "RF.fit(X_train, y_train)\n",
    "pred = RF.predict(X_test)\n",
    "print(accuracy_score(y_test, pred))\n",
    "print(confusion_matrix(y_test, pred))\n",
    "print(RF.feature_importances_)"
   ]
  },
  {
   "cell_type": "markdown",
   "metadata": {},
   "source": [
    "But maybe resampling in this case is made not correctly\n",
    "\n",
    "\n",
    "Because it its posible situation when after split the same rows can apeare both in train and test dataset\n"
   ]
  },
  {
   "cell_type": "markdown",
   "metadata": {},
   "source": [
    "Tha next analysis was inspired by this article\n",
    "\n",
    "http://bigdata-madesimple.com/dealing-with-unbalanced-class-svm-random-forest-and-decision-tree-in-python/"
   ]
  },
  {
   "cell_type": "code",
   "execution_count": 20,
   "metadata": {},
   "outputs": [
    {
     "data": {
      "text/html": [
       "<div>\n",
       "<style scoped>\n",
       "    .dataframe tbody tr th:only-of-type {\n",
       "        vertical-align: middle;\n",
       "    }\n",
       "\n",
       "    .dataframe tbody tr th {\n",
       "        vertical-align: top;\n",
       "    }\n",
       "\n",
       "    .dataframe thead th {\n",
       "        text-align: right;\n",
       "    }\n",
       "</style>\n",
       "<table border=\"1\" class=\"dataframe\">\n",
       "  <thead>\n",
       "    <tr style=\"text-align: right;\">\n",
       "      <th></th>\n",
       "      <th>subject_id</th>\n",
       "      <th>left_G_and_S_frontomargin</th>\n",
       "      <th>left_G_and_S_occipital_inf</th>\n",
       "      <th>left_G_and_S_paracentral</th>\n",
       "      <th>left_G_and_S_subcentral</th>\n",
       "      <th>left_G_and_S_transv_frontopol</th>\n",
       "      <th>left_G_and_S_cingul.Ant</th>\n",
       "      <th>left_G_and_S_cingul.Mid.Ant</th>\n",
       "      <th>left_G_and_S_cingul.Mid.Post</th>\n",
       "      <th>left_G_cingul.Post.dorsal</th>\n",
       "      <th>...</th>\n",
       "      <th>right_S_subparietal</th>\n",
       "      <th>right_S_temporal_inf</th>\n",
       "      <th>right_S_temporal_sup</th>\n",
       "      <th>right_S_temporal_transverse</th>\n",
       "      <th>apoe_coded</th>\n",
       "      <th>bin1_coded</th>\n",
       "      <th>clu_coded</th>\n",
       "      <th>abca7_coded</th>\n",
       "      <th>cr1_coded</th>\n",
       "      <th>picalm_coded</th>\n",
       "    </tr>\n",
       "  </thead>\n",
       "  <tbody>\n",
       "    <tr>\n",
       "      <th>0</th>\n",
       "      <td>s_001</td>\n",
       "      <td>1.805</td>\n",
       "      <td>1.866</td>\n",
       "      <td>1.772</td>\n",
       "      <td>2.449</td>\n",
       "      <td>1.970</td>\n",
       "      <td>2.039</td>\n",
       "      <td>2.551</td>\n",
       "      <td>2.251</td>\n",
       "      <td>2.891</td>\n",
       "      <td>...</td>\n",
       "      <td>1.952</td>\n",
       "      <td>2.442</td>\n",
       "      <td>2.065</td>\n",
       "      <td>1.399</td>\n",
       "      <td>2</td>\n",
       "      <td>1</td>\n",
       "      <td>0</td>\n",
       "      <td>2</td>\n",
       "      <td>2</td>\n",
       "      <td>1</td>\n",
       "    </tr>\n",
       "    <tr>\n",
       "      <th>1</th>\n",
       "      <td>s_002</td>\n",
       "      <td>2.201</td>\n",
       "      <td>2.151</td>\n",
       "      <td>1.922</td>\n",
       "      <td>2.447</td>\n",
       "      <td>2.263</td>\n",
       "      <td>2.587</td>\n",
       "      <td>2.524</td>\n",
       "      <td>2.153</td>\n",
       "      <td>2.621</td>\n",
       "      <td>...</td>\n",
       "      <td>2.167</td>\n",
       "      <td>2.541</td>\n",
       "      <td>2.399</td>\n",
       "      <td>2.713</td>\n",
       "      <td>0</td>\n",
       "      <td>1</td>\n",
       "      <td>0</td>\n",
       "      <td>2</td>\n",
       "      <td>2</td>\n",
       "      <td>2</td>\n",
       "    </tr>\n",
       "    <tr>\n",
       "      <th>2</th>\n",
       "      <td>s_003</td>\n",
       "      <td>2.012</td>\n",
       "      <td>1.813</td>\n",
       "      <td>1.724</td>\n",
       "      <td>2.131</td>\n",
       "      <td>2.225</td>\n",
       "      <td>2.572</td>\n",
       "      <td>2.525</td>\n",
       "      <td>2.349</td>\n",
       "      <td>2.738</td>\n",
       "      <td>...</td>\n",
       "      <td>1.873</td>\n",
       "      <td>2.254</td>\n",
       "      <td>2.180</td>\n",
       "      <td>1.865</td>\n",
       "      <td>1</td>\n",
       "      <td>1</td>\n",
       "      <td>0</td>\n",
       "      <td>1</td>\n",
       "      <td>1</td>\n",
       "      <td>1</td>\n",
       "    </tr>\n",
       "    <tr>\n",
       "      <th>3</th>\n",
       "      <td>s_004</td>\n",
       "      <td>2.203</td>\n",
       "      <td>1.765</td>\n",
       "      <td>2.142</td>\n",
       "      <td>2.659</td>\n",
       "      <td>2.331</td>\n",
       "      <td>2.335</td>\n",
       "      <td>2.422</td>\n",
       "      <td>2.383</td>\n",
       "      <td>2.834</td>\n",
       "      <td>...</td>\n",
       "      <td>1.987</td>\n",
       "      <td>2.418</td>\n",
       "      <td>2.404</td>\n",
       "      <td>2.451</td>\n",
       "      <td>0</td>\n",
       "      <td>1</td>\n",
       "      <td>0</td>\n",
       "      <td>2</td>\n",
       "      <td>2</td>\n",
       "      <td>1</td>\n",
       "    </tr>\n",
       "    <tr>\n",
       "      <th>4</th>\n",
       "      <td>s_005</td>\n",
       "      <td>2.118</td>\n",
       "      <td>2.013</td>\n",
       "      <td>1.582</td>\n",
       "      <td>2.062</td>\n",
       "      <td>2.233</td>\n",
       "      <td>2.541</td>\n",
       "      <td>2.652</td>\n",
       "      <td>2.526</td>\n",
       "      <td>2.885</td>\n",
       "      <td>...</td>\n",
       "      <td>2.333</td>\n",
       "      <td>2.864</td>\n",
       "      <td>2.273</td>\n",
       "      <td>1.779</td>\n",
       "      <td>1</td>\n",
       "      <td>1</td>\n",
       "      <td>1</td>\n",
       "      <td>2</td>\n",
       "      <td>2</td>\n",
       "      <td>0</td>\n",
       "    </tr>\n",
       "  </tbody>\n",
       "</table>\n",
       "<p>5 rows × 155 columns</p>\n",
       "</div>"
      ],
      "text/plain": [
       "  subject_id  left_G_and_S_frontomargin  left_G_and_S_occipital_inf  \\\n",
       "0      s_001                      1.805                       1.866   \n",
       "1      s_002                      2.201                       2.151   \n",
       "2      s_003                      2.012                       1.813   \n",
       "3      s_004                      2.203                       1.765   \n",
       "4      s_005                      2.118                       2.013   \n",
       "\n",
       "   left_G_and_S_paracentral  left_G_and_S_subcentral  \\\n",
       "0                     1.772                    2.449   \n",
       "1                     1.922                    2.447   \n",
       "2                     1.724                    2.131   \n",
       "3                     2.142                    2.659   \n",
       "4                     1.582                    2.062   \n",
       "\n",
       "   left_G_and_S_transv_frontopol  left_G_and_S_cingul.Ant  \\\n",
       "0                          1.970                    2.039   \n",
       "1                          2.263                    2.587   \n",
       "2                          2.225                    2.572   \n",
       "3                          2.331                    2.335   \n",
       "4                          2.233                    2.541   \n",
       "\n",
       "   left_G_and_S_cingul.Mid.Ant  left_G_and_S_cingul.Mid.Post  \\\n",
       "0                        2.551                         2.251   \n",
       "1                        2.524                         2.153   \n",
       "2                        2.525                         2.349   \n",
       "3                        2.422                         2.383   \n",
       "4                        2.652                         2.526   \n",
       "\n",
       "   left_G_cingul.Post.dorsal      ...       right_S_subparietal  \\\n",
       "0                      2.891      ...                     1.952   \n",
       "1                      2.621      ...                     2.167   \n",
       "2                      2.738      ...                     1.873   \n",
       "3                      2.834      ...                     1.987   \n",
       "4                      2.885      ...                     2.333   \n",
       "\n",
       "   right_S_temporal_inf  right_S_temporal_sup  right_S_temporal_transverse  \\\n",
       "0                 2.442                 2.065                        1.399   \n",
       "1                 2.541                 2.399                        2.713   \n",
       "2                 2.254                 2.180                        1.865   \n",
       "3                 2.418                 2.404                        2.451   \n",
       "4                 2.864                 2.273                        1.779   \n",
       "\n",
       "   apoe_coded  bin1_coded  clu_coded  abca7_coded  cr1_coded  picalm_coded  \n",
       "0           2           1          0            2          2             1  \n",
       "1           0           1          0            2          2             2  \n",
       "2           1           1          0            1          1             1  \n",
       "3           0           1          0            2          2             1  \n",
       "4           1           1          1            2          2             0  \n",
       "\n",
       "[5 rows x 155 columns]"
      ]
     },
     "execution_count": 20,
     "metadata": {},
     "output_type": "execute_result"
    }
   ],
   "source": [
    "full_df.head()"
   ]
  },
  {
   "cell_type": "code",
   "execution_count": 22,
   "metadata": {},
   "outputs": [
    {
     "name": "stderr",
     "output_type": "stream",
     "text": [
      "C:\\Users\\jeka1\\Anaconda2\\envs\\py36\\lib\\site-packages\\sklearn\\model_selection\\_split.py:605: Warning: The least populated class in y has only 3 members, which is too few. The minimum number of members in any class cannot be less than n_splits=5.\n",
      "  % (min_groups, self.n_splits)), Warning)\n",
      "C:\\Users\\jeka1\\Anaconda2\\envs\\py36\\lib\\site-packages\\sklearn\\model_selection\\_split.py:605: Warning: The least populated class in y has only 3 members, which is too few. The minimum number of members in any class cannot be less than n_splits=5.\n",
      "  % (min_groups, self.n_splits)), Warning)\n",
      "C:\\Users\\jeka1\\Anaconda2\\envs\\py36\\lib\\site-packages\\sklearn\\model_selection\\_split.py:605: Warning: The least populated class in y has only 3 members, which is too few. The minimum number of members in any class cannot be less than n_splits=5.\n",
      "  % (min_groups, self.n_splits)), Warning)\n",
      "C:\\Users\\jeka1\\Anaconda2\\envs\\py36\\lib\\site-packages\\sklearn\\model_selection\\_split.py:605: Warning: The least populated class in y has only 3 members, which is too few. The minimum number of members in any class cannot be less than n_splits=5.\n",
      "  % (min_groups, self.n_splits)), Warning)\n",
      "C:\\Users\\jeka1\\Anaconda2\\envs\\py36\\lib\\site-packages\\sklearn\\model_selection\\_split.py:605: Warning: The least populated class in y has only 3 members, which is too few. The minimum number of members in any class cannot be less than n_splits=5.\n",
      "  % (min_groups, self.n_splits)), Warning)\n",
      "C:\\Users\\jeka1\\Anaconda2\\envs\\py36\\lib\\site-packages\\sklearn\\model_selection\\_split.py:605: Warning: The least populated class in y has only 3 members, which is too few. The minimum number of members in any class cannot be less than n_splits=5.\n",
      "  % (min_groups, self.n_splits)), Warning)\n",
      "C:\\Users\\jeka1\\Anaconda2\\envs\\py36\\lib\\site-packages\\sklearn\\model_selection\\_split.py:605: Warning: The least populated class in y has only 3 members, which is too few. The minimum number of members in any class cannot be less than n_splits=5.\n",
      "  % (min_groups, self.n_splits)), Warning)\n",
      "C:\\Users\\jeka1\\Anaconda2\\envs\\py36\\lib\\site-packages\\sklearn\\model_selection\\_split.py:605: Warning: The least populated class in y has only 3 members, which is too few. The minimum number of members in any class cannot be less than n_splits=5.\n",
      "  % (min_groups, self.n_splits)), Warning)\n",
      "C:\\Users\\jeka1\\Anaconda2\\envs\\py36\\lib\\site-packages\\sklearn\\model_selection\\_split.py:605: Warning: The least populated class in y has only 3 members, which is too few. The minimum number of members in any class cannot be less than n_splits=5.\n",
      "  % (min_groups, self.n_splits)), Warning)\n",
      "C:\\Users\\jeka1\\Anaconda2\\envs\\py36\\lib\\site-packages\\sklearn\\model_selection\\_split.py:605: Warning: The least populated class in y has only 3 members, which is too few. The minimum number of members in any class cannot be less than n_splits=5.\n",
      "  % (min_groups, self.n_splits)), Warning)\n",
      "C:\\Users\\jeka1\\Anaconda2\\envs\\py36\\lib\\site-packages\\sklearn\\model_selection\\_split.py:605: Warning: The least populated class in y has only 3 members, which is too few. The minimum number of members in any class cannot be less than n_splits=5.\n",
      "  % (min_groups, self.n_splits)), Warning)\n",
      "C:\\Users\\jeka1\\Anaconda2\\envs\\py36\\lib\\site-packages\\sklearn\\model_selection\\_split.py:605: Warning: The least populated class in y has only 3 members, which is too few. The minimum number of members in any class cannot be less than n_splits=5.\n",
      "  % (min_groups, self.n_splits)), Warning)\n",
      "C:\\Users\\jeka1\\Anaconda2\\envs\\py36\\lib\\site-packages\\sklearn\\model_selection\\_split.py:605: Warning: The least populated class in y has only 3 members, which is too few. The minimum number of members in any class cannot be less than n_splits=5.\n",
      "  % (min_groups, self.n_splits)), Warning)\n",
      "C:\\Users\\jeka1\\Anaconda2\\envs\\py36\\lib\\site-packages\\sklearn\\model_selection\\_split.py:605: Warning: The least populated class in y has only 3 members, which is too few. The minimum number of members in any class cannot be less than n_splits=5.\n",
      "  % (min_groups, self.n_splits)), Warning)\n",
      "C:\\Users\\jeka1\\Anaconda2\\envs\\py36\\lib\\site-packages\\sklearn\\model_selection\\_split.py:605: Warning: The least populated class in y has only 3 members, which is too few. The minimum number of members in any class cannot be less than n_splits=5.\n",
      "  % (min_groups, self.n_splits)), Warning)\n",
      "C:\\Users\\jeka1\\Anaconda2\\envs\\py36\\lib\\site-packages\\sklearn\\model_selection\\_split.py:605: Warning: The least populated class in y has only 3 members, which is too few. The minimum number of members in any class cannot be less than n_splits=5.\n",
      "  % (min_groups, self.n_splits)), Warning)\n",
      "C:\\Users\\jeka1\\Anaconda2\\envs\\py36\\lib\\site-packages\\sklearn\\model_selection\\_split.py:605: Warning: The least populated class in y has only 3 members, which is too few. The minimum number of members in any class cannot be less than n_splits=5.\n",
      "  % (min_groups, self.n_splits)), Warning)\n",
      "C:\\Users\\jeka1\\Anaconda2\\envs\\py36\\lib\\site-packages\\sklearn\\model_selection\\_split.py:605: Warning: The least populated class in y has only 3 members, which is too few. The minimum number of members in any class cannot be less than n_splits=5.\n",
      "  % (min_groups, self.n_splits)), Warning)\n",
      "C:\\Users\\jeka1\\Anaconda2\\envs\\py36\\lib\\site-packages\\sklearn\\model_selection\\_split.py:605: Warning: The least populated class in y has only 3 members, which is too few. The minimum number of members in any class cannot be less than n_splits=5.\n",
      "  % (min_groups, self.n_splits)), Warning)\n",
      "C:\\Users\\jeka1\\Anaconda2\\envs\\py36\\lib\\site-packages\\sklearn\\model_selection\\_split.py:605: Warning: The least populated class in y has only 3 members, which is too few. The minimum number of members in any class cannot be less than n_splits=5.\n",
      "  % (min_groups, self.n_splits)), Warning)\n",
      "C:\\Users\\jeka1\\Anaconda2\\envs\\py36\\lib\\site-packages\\sklearn\\model_selection\\_split.py:605: Warning: The least populated class in y has only 3 members, which is too few. The minimum number of members in any class cannot be less than n_splits=5.\n",
      "  % (min_groups, self.n_splits)), Warning)\n",
      "C:\\Users\\jeka1\\Anaconda2\\envs\\py36\\lib\\site-packages\\sklearn\\model_selection\\_split.py:605: Warning: The least populated class in y has only 3 members, which is too few. The minimum number of members in any class cannot be less than n_splits=5.\n",
      "  % (min_groups, self.n_splits)), Warning)\n",
      "C:\\Users\\jeka1\\Anaconda2\\envs\\py36\\lib\\site-packages\\sklearn\\model_selection\\_split.py:605: Warning: The least populated class in y has only 3 members, which is too few. The minimum number of members in any class cannot be less than n_splits=5.\n",
      "  % (min_groups, self.n_splits)), Warning)\n",
      "C:\\Users\\jeka1\\Anaconda2\\envs\\py36\\lib\\site-packages\\sklearn\\model_selection\\_split.py:605: Warning: The least populated class in y has only 3 members, which is too few. The minimum number of members in any class cannot be less than n_splits=5.\n",
      "  % (min_groups, self.n_splits)), Warning)\n",
      "C:\\Users\\jeka1\\Anaconda2\\envs\\py36\\lib\\site-packages\\sklearn\\model_selection\\_split.py:605: Warning: The least populated class in y has only 3 members, which is too few. The minimum number of members in any class cannot be less than n_splits=5.\n",
      "  % (min_groups, self.n_splits)), Warning)\n",
      "C:\\Users\\jeka1\\Anaconda2\\envs\\py36\\lib\\site-packages\\sklearn\\model_selection\\_split.py:605: Warning: The least populated class in y has only 3 members, which is too few. The minimum number of members in any class cannot be less than n_splits=5.\n",
      "  % (min_groups, self.n_splits)), Warning)\n",
      "C:\\Users\\jeka1\\Anaconda2\\envs\\py36\\lib\\site-packages\\sklearn\\model_selection\\_split.py:605: Warning: The least populated class in y has only 3 members, which is too few. The minimum number of members in any class cannot be less than n_splits=5.\n",
      "  % (min_groups, self.n_splits)), Warning)\n",
      "C:\\Users\\jeka1\\Anaconda2\\envs\\py36\\lib\\site-packages\\sklearn\\model_selection\\_split.py:605: Warning: The least populated class in y has only 3 members, which is too few. The minimum number of members in any class cannot be less than n_splits=5.\n",
      "  % (min_groups, self.n_splits)), Warning)\n",
      "C:\\Users\\jeka1\\Anaconda2\\envs\\py36\\lib\\site-packages\\sklearn\\model_selection\\_split.py:605: Warning: The least populated class in y has only 3 members, which is too few. The minimum number of members in any class cannot be less than n_splits=5.\n",
      "  % (min_groups, self.n_splits)), Warning)\n"
     ]
    },
    {
     "name": "stderr",
     "output_type": "stream",
     "text": [
      "C:\\Users\\jeka1\\Anaconda2\\envs\\py36\\lib\\site-packages\\sklearn\\model_selection\\_split.py:605: Warning: The least populated class in y has only 3 members, which is too few. The minimum number of members in any class cannot be less than n_splits=5.\n",
      "  % (min_groups, self.n_splits)), Warning)\n",
      "C:\\Users\\jeka1\\Anaconda2\\envs\\py36\\lib\\site-packages\\sklearn\\model_selection\\_split.py:605: Warning: The least populated class in y has only 3 members, which is too few. The minimum number of members in any class cannot be less than n_splits=5.\n",
      "  % (min_groups, self.n_splits)), Warning)\n",
      "C:\\Users\\jeka1\\Anaconda2\\envs\\py36\\lib\\site-packages\\sklearn\\model_selection\\_split.py:605: Warning: The least populated class in y has only 3 members, which is too few. The minimum number of members in any class cannot be less than n_splits=5.\n",
      "  % (min_groups, self.n_splits)), Warning)\n",
      "C:\\Users\\jeka1\\Anaconda2\\envs\\py36\\lib\\site-packages\\sklearn\\model_selection\\_split.py:605: Warning: The least populated class in y has only 3 members, which is too few. The minimum number of members in any class cannot be less than n_splits=5.\n",
      "  % (min_groups, self.n_splits)), Warning)\n",
      "C:\\Users\\jeka1\\Anaconda2\\envs\\py36\\lib\\site-packages\\sklearn\\model_selection\\_split.py:605: Warning: The least populated class in y has only 3 members, which is too few. The minimum number of members in any class cannot be less than n_splits=5.\n",
      "  % (min_groups, self.n_splits)), Warning)\n",
      "C:\\Users\\jeka1\\Anaconda2\\envs\\py36\\lib\\site-packages\\sklearn\\model_selection\\_split.py:605: Warning: The least populated class in y has only 3 members, which is too few. The minimum number of members in any class cannot be less than n_splits=5.\n",
      "  % (min_groups, self.n_splits)), Warning)\n",
      "C:\\Users\\jeka1\\Anaconda2\\envs\\py36\\lib\\site-packages\\sklearn\\model_selection\\_split.py:605: Warning: The least populated class in y has only 3 members, which is too few. The minimum number of members in any class cannot be less than n_splits=5.\n",
      "  % (min_groups, self.n_splits)), Warning)\n",
      "C:\\Users\\jeka1\\Anaconda2\\envs\\py36\\lib\\site-packages\\sklearn\\model_selection\\_split.py:605: Warning: The least populated class in y has only 3 members, which is too few. The minimum number of members in any class cannot be less than n_splits=5.\n",
      "  % (min_groups, self.n_splits)), Warning)\n",
      "C:\\Users\\jeka1\\Anaconda2\\envs\\py36\\lib\\site-packages\\sklearn\\model_selection\\_split.py:605: Warning: The least populated class in y has only 3 members, which is too few. The minimum number of members in any class cannot be less than n_splits=5.\n",
      "  % (min_groups, self.n_splits)), Warning)\n",
      "C:\\Users\\jeka1\\Anaconda2\\envs\\py36\\lib\\site-packages\\sklearn\\model_selection\\_split.py:605: Warning: The least populated class in y has only 3 members, which is too few. The minimum number of members in any class cannot be less than n_splits=5.\n",
      "  % (min_groups, self.n_splits)), Warning)\n",
      "C:\\Users\\jeka1\\Anaconda2\\envs\\py36\\lib\\site-packages\\sklearn\\model_selection\\_split.py:605: Warning: The least populated class in y has only 3 members, which is too few. The minimum number of members in any class cannot be less than n_splits=5.\n",
      "  % (min_groups, self.n_splits)), Warning)\n"
     ]
    }
   ],
   "source": [
    "scores = []\n",
    "\n",
    "for val in range(1, 41):\n",
    "    RF = RandomForestClassifier(n_estimators = val)\n",
    "    validated = cross_val_score(RF, full_df.drop(['subject_id', 'apoe_coded', 'bin1_coded', 'clu_coded', 'abca7_coded', 'cr1_coded', \n",
    "                                       'picalm_coded'], axis = 1), full_df.apoe_coded, cv = 5)\n",
    "    scores.append(validated)\n"
   ]
  },
  {
   "cell_type": "code",
   "execution_count": 23,
   "metadata": {},
   "outputs": [
    {
     "data": {
      "image/png": "[encoded data removed]",
      "text/plain": [
       "<matplotlib.figure.Figure at 0x175ba4a4048>"
      ]
     },
     "metadata": {},
     "output_type": "display_data"
    }
   ],
   "source": [
    "sns.set(rc={'figure.figsize':(11.7,8.27)})\n",
    "sns.boxplot(np.arange(40)+1, scores)\n",
    "plt.xlabel('number of trees')\n",
    "plt.ylabel('classification score')\n",
    "plt.show()"
   ]
  },
  {
   "cell_type": "code",
   "execution_count": 24,
   "metadata": {},
   "outputs": [
    {
     "data": {
      "image/png": "[encoded data removed]",
      "text/plain": [
       "<matplotlib.figure.Figure at 0x175ba4c90b8>"
      ]
     },
     "metadata": {},
     "output_type": "display_data"
    }
   ],
   "source": [
    "sns.set(rc={'figure.figsize':(11.7,8.27)})\n",
    "sns.boxplot(np.arange(40)+1, scores)\n",
    "plt.xlabel('number of trees')\n",
    "plt.ylabel('classification score')\n",
    "plt.show()"
   ]
  },
  {
   "cell_type": "markdown",
   "metadata": {},
   "source": [
    "Perfect number of trees is 6 ??"
   ]
  },
  {
   "cell_type": "code",
   "execution_count": 12,
   "metadata": {},
   "outputs": [
    {
     "data": {
      "text/plain": [
       "(159, 155)"
      ]
     },
     "execution_count": 12,
     "metadata": {},
     "output_type": "execute_result"
    }
   ],
   "source": [
    "full_df.shape"
   ]
  },
  {
   "cell_type": "code",
   "execution_count": 13,
   "metadata": {},
   "outputs": [
    {
     "name": "stdout",
     "output_type": "stream",
     "text": [
      "0.53125\n",
      "[[ 0  2  1  0]\n",
      " [ 0 17  2  0]\n",
      " [ 0  9  0  0]\n",
      " [ 0  1  0  0]]\n"
     ]
    }
   ],
   "source": [
    "X_train, X_test, y_train, y_test = train_test_split(full_df.drop(['subject_id', 'apoe_coded', 'bin1_coded', 'clu_coded', 'abca7_coded', 'cr1_coded', \n",
    "                                       'picalm_coded'], axis = 1), full_df.apoe_coded, test_size=0.2)\n",
    "RF = RandomForestClassifier(n_estimators = 7)\n",
    "RF.fit(X_train, y_train)\n",
    "pred = RF.predict(X_test)\n",
    "print(accuracy_score(pred, y_test))\n",
    "print(confusion_matrix(y_test, pred))\n",
    "\n",
    "#RF.predict_proba(X_test)\n",
    "x_tr, x_val, y_tr, y_val = train_test_split(X_train, y_train, test_size=0.1)"
   ]
  },
  {
   "cell_type": "code",
   "execution_count": 49,
   "metadata": {},
   "outputs": [
    {
     "data": {
      "text/plain": [
       "[(0, 61), (1, 84), (2, 14)]"
      ]
     },
     "execution_count": 49,
     "metadata": {},
     "output_type": "execute_result"
    }
   ],
   "source": [
    "sorted(collections.Counter(full_df.picalm_coded).items())"
   ]
  },
  {
   "cell_type": "code",
   "execution_count": 52,
   "metadata": {
    "scrolled": true
   },
   "outputs": [
    {
     "name": "stdout",
     "output_type": "stream",
     "text": [
      "[(0, 81), (1, 83), (2, 78), (3, 82)]\n",
      "[(0, 83), (1, 83), (2, 83), (3, 83)]\n",
      "0.07692307692307693\n",
      "0.07692307692307693\n",
      "0.041666666666666664\n",
      "0.10256410256410256\n",
      "[[0 2 0 0]\n",
      " [3 1 0 0]\n",
      " [0 5 0 1]\n",
      " [1 0 0 0]]\n",
      "0.46875\n",
      "0.46875\n",
      "0.2698412698412698\n",
      "0.5133928571428571\n",
      "[[ 0  3  0]\n",
      " [ 2 14  2]\n",
      " [ 3  7  1]]\n"
     ]
    },
    {
     "name": "stderr",
     "output_type": "stream",
     "text": [
      "C:\\Users\\jeka1\\Anaconda2\\envs\\py36\\lib\\site-packages\\sklearn\\metrics\\classification.py:1137: UndefinedMetricWarning: F-score is ill-defined and being set to 0.0 in labels with no true samples.\n",
      "  'recall', 'true', average, warn_for)\n",
      "C:\\Users\\jeka1\\Anaconda2\\envs\\py36\\lib\\site-packages\\sklearn\\model_selection\\_split.py:605: Warning: The least populated class in y has only 3 members, which is too few. The minimum number of members in any class cannot be less than n_splits=10.\n",
      "  % (min_groups, self.n_splits)), Warning)\n",
      "C:\\Users\\jeka1\\Anaconda2\\envs\\py36\\lib\\site-packages\\sklearn\\metrics\\classification.py:1135: UndefinedMetricWarning: F-score is ill-defined and being set to 0.0 in labels with no predicted samples.\n",
      "  'precision', 'predicted', average, warn_for)\n",
      "C:\\Users\\jeka1\\Anaconda2\\envs\\py36\\lib\\site-packages\\sklearn\\metrics\\classification.py:1135: UndefinedMetricWarning: F-score is ill-defined and being set to 0.0 in labels with no predicted samples.\n",
      "  'precision', 'predicted', average, warn_for)\n",
      "C:\\Users\\jeka1\\Anaconda2\\envs\\py36\\lib\\site-packages\\sklearn\\metrics\\classification.py:1135: UndefinedMetricWarning: F-score is ill-defined and being set to 0.0 in labels with no predicted samples.\n",
      "  'precision', 'predicted', average, warn_for)\n",
      "C:\\Users\\jeka1\\Anaconda2\\envs\\py36\\lib\\site-packages\\sklearn\\metrics\\classification.py:1135: UndefinedMetricWarning: F-score is ill-defined and being set to 0.0 in labels with no predicted samples.\n",
      "  'precision', 'predicted', average, warn_for)\n",
      "C:\\Users\\jeka1\\Anaconda2\\envs\\py36\\lib\\site-packages\\sklearn\\metrics\\classification.py:1135: UndefinedMetricWarning: F-score is ill-defined and being set to 0.0 in labels with no predicted samples.\n",
      "  'precision', 'predicted', average, warn_for)\n",
      "C:\\Users\\jeka1\\Anaconda2\\envs\\py36\\lib\\site-packages\\sklearn\\metrics\\classification.py:1135: UndefinedMetricWarning: F-score is ill-defined and being set to 0.0 in labels with no predicted samples.\n",
      "  'precision', 'predicted', average, warn_for)\n",
      "C:\\Users\\jeka1\\Anaconda2\\envs\\py36\\lib\\site-packages\\sklearn\\model_selection\\_split.py:605: Warning: The least populated class in y has only 3 members, which is too few. The minimum number of members in any class cannot be less than n_splits=10.\n",
      "  % (min_groups, self.n_splits)), Warning)\n",
      "C:\\Users\\jeka1\\Anaconda2\\envs\\py36\\lib\\site-packages\\sklearn\\metrics\\classification.py:1135: UndefinedMetricWarning: F-score is ill-defined and being set to 0.0 in labels with no predicted samples.\n",
      "  'precision', 'predicted', average, warn_for)\n",
      "C:\\Users\\jeka1\\Anaconda2\\envs\\py36\\lib\\site-packages\\sklearn\\metrics\\classification.py:1135: UndefinedMetricWarning: F-score is ill-defined and being set to 0.0 in labels with no predicted samples.\n",
      "  'precision', 'predicted', average, warn_for)\n",
      "C:\\Users\\jeka1\\Anaconda2\\envs\\py36\\lib\\site-packages\\sklearn\\metrics\\classification.py:1135: UndefinedMetricWarning: F-score is ill-defined and being set to 0.0 in labels with no predicted samples.\n",
      "  'precision', 'predicted', average, warn_for)\n",
      "C:\\Users\\jeka1\\Anaconda2\\envs\\py36\\lib\\site-packages\\sklearn\\metrics\\classification.py:1135: UndefinedMetricWarning: F-score is ill-defined and being set to 0.0 in labels with no predicted samples.\n",
      "  'precision', 'predicted', average, warn_for)\n",
      "C:\\Users\\jeka1\\Anaconda2\\envs\\py36\\lib\\site-packages\\sklearn\\metrics\\classification.py:1135: UndefinedMetricWarning: F-score is ill-defined and being set to 0.0 in labels with no predicted samples.\n",
      "  'precision', 'predicted', average, warn_for)\n",
      "C:\\Users\\jeka1\\Anaconda2\\envs\\py36\\lib\\site-packages\\sklearn\\metrics\\classification.py:1135: UndefinedMetricWarning: F-score is ill-defined and being set to 0.0 in labels with no predicted samples.\n",
      "  'precision', 'predicted', average, warn_for)\n",
      "C:\\Users\\jeka1\\Anaconda2\\envs\\py36\\lib\\site-packages\\sklearn\\metrics\\classification.py:1135: UndefinedMetricWarning: F-score is ill-defined and being set to 0.0 in labels with no predicted samples.\n",
      "  'precision', 'predicted', average, warn_for)\n"
     ]
    }
   ],
   "source": [
    "X_resampled_adasyn, y_resampled_adasyn = ADASYN(n_neighbors=1).fit_sample(x_tr, y_tr)\n",
    "print(sorted(collections.Counter(y_resampled_adasyn).items()))\n",
    "X_resampled, y_resampled = SMOTE(k_neighbors=1).fit_sample(x_tr, y_tr)\n",
    "print(sorted(collections.Counter(y_resampled).items()))\n",
    "\n",
    "RF = RandomForestClassifier(n_estimators = 5)\n",
    "RF.fit(X_resampled, y_resampled)\n",
    "pred = RF.predict(x_val)\n",
    "print(accuracy_score(pred, y_val))\n",
    "print(f1_score(pred, y_val, average = 'micro'))\n",
    "print(f1_score(pred, y_val, average = 'macro'))\n",
    "print(f1_score(pred, y_val, average = 'weighted'))\n",
    "print(confusion_matrix(y_val, pred))\n",
    "\n",
    "pred = RF.predict(X_test)\n",
    "print(accuracy_score(pred, y_test))\n",
    "print(f1_score(pred, y_test, average = 'micro'))\n",
    "print(f1_score(pred, y_test, average = 'macro'))\n",
    "print(f1_score(pred, y_test, average = 'weighted'))\n",
    "print(confusion_matrix(y_test, pred))\n",
    "\n",
    "\n",
    "scores = []\n",
    "\n",
    "RF = RandomForestClassifier(n_estimators = 5)\n",
    "\n",
    "#initial dataset , apoe, [(0, 16), (1, 105), (2, 35), (3, 3)]\n",
    "scores.append(cross_val_score(RF, full_df.drop(['subject_id', 'apoe_coded', 'bin1_coded', 'clu_coded', 'abca7_coded', 'cr1_coded',  'picalm_coded'], axis = 1), full_df.apoe_coded, cv = 10, scoring='f1_macro'))\n",
    "\n",
    "#resampling, repeating existing rows, [(0, 105), (1, 105), (2, 105), (3, 105)]\n",
    "scores.append(cross_val_score(RF, apoe_full.drop(['subject_id', 'apoe_coded'], axis = 1), apoe_full.apoe_coded , cv = 10, scoring='f1_macro'))\n",
    "\n",
    "#oversampling, SMOTE tehcnique [(0, 105), (1, 105), (2, 105), (3, 105)]\n",
    "scores.append(cross_val_score(RF, X_resampled, y_resampled, cv = 10, scoring='f1_macro'))\n",
    "\n",
    "#oversampling, ADASYN tehcnique [(0, 100), (1, 105), (2, 91), (3, 105)]\n",
    "scores.append(cross_val_score(RF, X_resampled_adasyn, y_resampled_adasyn, cv = 10, scoring='f1_macro'))\n",
    "\n",
    "RF = RandomForestClassifier(n_estimators = 5, class_weight = \"balanced\")\n",
    "#initial dataset , apoe, [(0, 16), (1, 105), (2, 35), (3, 3)]\n",
    "scores.append(cross_val_score(RF, full_df.drop(['subject_id', 'apoe_coded', 'bin1_coded', 'clu_coded', 'abca7_coded', 'cr1_coded',  'picalm_coded'], axis = 1), full_df.apoe_coded, cv = 10, scoring='f1_macro'))\n"
   ]
  },
  {
   "cell_type": "code",
   "execution_count": null,
   "metadata": {
    "collapsed": true
   },
   "outputs": [],
   "source": []
  },
  {
   "cell_type": "code",
   "execution_count": 53,
   "metadata": {},
   "outputs": [
    {
     "data": {
      "image/png": "[encoded data removed]",
      "text/plain": [
       "<matplotlib.figure.Figure at 0x205444b3470>"
      ]
     },
     "metadata": {},
     "output_type": "display_data"
    }
   ],
   "source": [
    "#APOE\n",
    "sns.set(rc={'figure.figsize':(11.7,8.27)})\n",
    "sns.boxplot(['initial values', 'resampling', 'SMOTE', \"ADASYN\", \"RF with class_weight = balanced\"], scores)\n",
    "plt.xlabel('Method')\n",
    "plt.ylabel('classification score')\n",
    "plt.title('apoe gene', fontsize=20)\n",
    "plt.show()"
   ]
  },
  {
   "cell_type": "code",
   "execution_count": 27,
   "metadata": {
    "scrolled": true
   },
   "outputs": [
    {
     "name": "stdout",
     "output_type": "stream",
     "text": [
      "[(0, 68), (1, 61), (2, 62)]\n",
      "[(0, 61), (1, 61), (2, 61)]\n",
      "0.23076923076923078\n",
      "0.23076923076923078\n",
      "0.13333333333333333\n",
      "0.24615384615384614\n",
      "[[0 4 1]\n",
      " [4 3 0]\n",
      " [0 1 0]]\n",
      "0.53125\n",
      "0.53125\n",
      "0.3703703703703704\n",
      "0.5069444444444444\n",
      "[[11  2  3]\n",
      " [ 9  6  1]\n",
      " [ 0  0  0]]\n"
     ]
    },
    {
     "name": "stderr",
     "output_type": "stream",
     "text": [
      "C:\\Users\\jeka1\\Anaconda2\\envs\\py36\\lib\\site-packages\\sklearn\\metrics\\classification.py:1135: UndefinedMetricWarning: F-score is ill-defined and being set to 0.0 in labels with no predicted samples.\n",
      "  'precision', 'predicted', average, warn_for)\n",
      "C:\\Users\\jeka1\\Anaconda2\\envs\\py36\\lib\\site-packages\\sklearn\\metrics\\classification.py:1135: UndefinedMetricWarning: F-score is ill-defined and being set to 0.0 in labels with no predicted samples.\n",
      "  'precision', 'predicted', average, warn_for)\n",
      "C:\\Users\\jeka1\\Anaconda2\\envs\\py36\\lib\\site-packages\\sklearn\\metrics\\classification.py:1135: UndefinedMetricWarning: F-score is ill-defined and being set to 0.0 in labels with no predicted samples.\n",
      "  'precision', 'predicted', average, warn_for)\n",
      "C:\\Users\\jeka1\\Anaconda2\\envs\\py36\\lib\\site-packages\\sklearn\\metrics\\classification.py:1135: UndefinedMetricWarning: F-score is ill-defined and being set to 0.0 in labels with no predicted samples.\n",
      "  'precision', 'predicted', average, warn_for)\n",
      "C:\\Users\\jeka1\\Anaconda2\\envs\\py36\\lib\\site-packages\\sklearn\\metrics\\classification.py:1135: UndefinedMetricWarning: F-score is ill-defined and being set to 0.0 in labels with no predicted samples.\n",
      "  'precision', 'predicted', average, warn_for)\n",
      "C:\\Users\\jeka1\\Anaconda2\\envs\\py36\\lib\\site-packages\\sklearn\\metrics\\classification.py:1135: UndefinedMetricWarning: F-score is ill-defined and being set to 0.0 in labels with no predicted samples.\n",
      "  'precision', 'predicted', average, warn_for)\n",
      "C:\\Users\\jeka1\\Anaconda2\\envs\\py36\\lib\\site-packages\\sklearn\\metrics\\classification.py:1135: UndefinedMetricWarning: F-score is ill-defined and being set to 0.0 in labels with no predicted samples.\n",
      "  'precision', 'predicted', average, warn_for)\n",
      "C:\\Users\\jeka1\\Anaconda2\\envs\\py36\\lib\\site-packages\\sklearn\\metrics\\classification.py:1135: UndefinedMetricWarning: F-score is ill-defined and being set to 0.0 in labels with no predicted samples.\n",
      "  'precision', 'predicted', average, warn_for)\n",
      "C:\\Users\\jeka1\\Anaconda2\\envs\\py36\\lib\\site-packages\\sklearn\\metrics\\classification.py:1135: UndefinedMetricWarning: F-score is ill-defined and being set to 0.0 in labels with no predicted samples.\n",
      "  'precision', 'predicted', average, warn_for)\n"
     ]
    }
   ],
   "source": [
    "X_resampled_adasyn, y_resampled_adasyn = ADASYN(n_neighbors=1).fit_sample(x_tr, y_tr)\n",
    "print(sorted(collections.Counter(y_resampled_adasyn).items()))\n",
    "X_resampled, y_resampled = SMOTE(k_neighbors=1).fit_sample(x_tr, y_tr)\n",
    "print(sorted(collections.Counter(y_resampled).items()))\n",
    "\n",
    "RF = RandomForestClassifier(n_estimators = 5)\n",
    "RF.fit(X_resampled, y_resampled)\n",
    "pred = RF.predict(x_val)\n",
    "print(accuracy_score(pred, y_val))\n",
    "print(f1_score(pred, y_val, average = 'micro'))\n",
    "print(f1_score(pred, y_val, average = 'macro'))\n",
    "print(f1_score(pred, y_val, average = 'weighted'))\n",
    "print(confusion_matrix(y_val, pred))\n",
    "\n",
    "pred = RF.predict(X_test)\n",
    "print(accuracy_score(pred, y_test))\n",
    "print(f1_score(pred, y_test, average = 'micro'))\n",
    "print(f1_score(pred, y_test, average = 'macro'))\n",
    "print(f1_score(pred, y_test, average = 'weighted'))\n",
    "print(confusion_matrix(y_test, pred))\n",
    "\n",
    "\n",
    "scores = []\n",
    "\n",
    "RF = RandomForestClassifier(n_estimators = 5)\n",
    "\n",
    "#initial dataset\n",
    "scores.append(cross_val_score(RF, full_df.drop(['subject_id', 'apoe_coded', 'bin1_coded', 'clu_coded', 'abca7_coded', 'cr1_coded',  'picalm_coded'], axis = 1), full_df.picalm_coded, cv = 10, scoring='f1_macro'))\n",
    "\n",
    "#resampling\n",
    "scores.append(cross_val_score(RF, picalm_full.drop(['subject_id', 'picalm_coded'], axis = 1), picalm_full.picalm_coded , cv = 10, scoring='f1_macro'))\n",
    "\n",
    "#oversampling, SMOTE tehcnique \n",
    "scores.append(cross_val_score(RF, X_resampled, y_resampled, cv = 10, scoring='f1_macro'))\n",
    "\n",
    "#oversampling, ADASYN tehcnique \n",
    "scores.append(cross_val_score(RF, X_resampled_adasyn, y_resampled_adasyn, cv = 10, scoring='f1_macro'))\n"
   ]
  },
  {
   "cell_type": "code",
   "execution_count": 28,
   "metadata": {},
   "outputs": [
    {
     "data": {
      "image/png": "[encoded data removed]",
      "text/plain": [
       "<matplotlib.figure.Figure at 0x2053d5eb240>"
      ]
     },
     "metadata": {},
     "output_type": "display_data"
    }
   ],
   "source": [
    "#PICALM\n",
    "sns.set(rc={'figure.figsize':(11.7,8.27)})\n",
    "sns.boxplot(['initial values', 'resampling', 'SMOTE', \"ADASYN\"], scores)\n",
    "plt.xlabel('Method')\n",
    "plt.ylabel('classification score')\n",
    "plt.show()"
   ]
  },
  {
   "cell_type": "markdown",
   "metadata": {},
   "source": [
    "When upsampling using SMOTE, I don’t create duplicate observations. However, because the SMOTE algorithm uses the nearest neighbors of observations to create synthetic data, it still bleeds information. If the nearest neighbors of minority class observations in the training set end up in the validation set, their information is partially captured by the synthetic data in the training set. Since I’m splitting the data randomly, we’d expect to have this happen. As a result, the model will be better able to predict validation set values than completely new data.\n",
    "\n"
   ]
  },
  {
   "cell_type": "code",
   "execution_count": null,
   "metadata": {
    "collapsed": true
   },
   "outputs": [],
   "source": []
  },
  {
   "cell_type": "markdown",
   "metadata": {},
   "source": [
    "CORRECT WORK WITH RESAMPLING TECHIQUE"
   ]
  },
  {
   "cell_type": "raw",
   "metadata": {},
   "source": [
    "resampling only on train data"
   ]
  },
  {
   "cell_type": "code",
   "execution_count": 16,
   "metadata": {},
   "outputs": [
    {
     "name": "stdout",
     "output_type": "stream",
     "text": [
      "['E2E3', 'E3E3', 'E3E4', 'E4E4']\n",
      "['AA', 'AG', 'GG']\n",
      "['CC', 'CT', 'TT']\n",
      "['GG', 'GT', 'TT']\n",
      "['AA', 'AG', 'GG']\n",
      "['CC', 'CT', 'TT']\n"
     ]
    }
   ],
   "source": [
    "genotypes = pd.read_csv(\"Table_genotypes_full.csv\")\n",
    "thickness = pd.read_csv(\"cortical_thickness_by_subject_full.csv\")\n",
    "full_df = pd.merge(thickness, genotypes, on='subject_id')\n",
    "\n",
    "#changing categorical values by numeric\n",
    "le = preprocessing.LabelEncoder()\n",
    "le.fit(full_df.apoe)\n",
    "print(list(le.classes_))\n",
    "full_df['apoe_coded'] = le.transform(full_df.apoe) \n",
    "collections.Counter(full_df['apoe_coded'] )\n",
    "\n",
    "le.fit(full_df.bin1)\n",
    "print(list(le.classes_))\n",
    "full_df['bin1_coded'] = le.transform(full_df.bin1) \n",
    "collections.Counter(full_df['bin1_coded'] )\n",
    "\n",
    "le.fit(full_df.clu)\n",
    "print(list(le.classes_))\n",
    "full_df['clu_coded'] = le.transform(full_df.clu) \n",
    "collections.Counter(full_df['clu_coded'] )\n",
    "\n",
    "le.fit(full_df.abca7)\n",
    "print(list(le.classes_))\n",
    "full_df['abca7_coded'] = le.transform(full_df.abca7) \n",
    "collections.Counter(full_df['abca7_coded'] )\n",
    "\n",
    "le.fit(full_df.cr1)\n",
    "print(list(le.classes_))\n",
    "full_df['cr1_coded'] = le.transform(full_df.cr1) \n",
    "collections.Counter(full_df['cr1_coded'] )\n",
    "\n",
    "le.fit(full_df.picalm)\n",
    "print(list(le.classes_))\n",
    "full_df['picalm_coded'] = le.transform(full_df.picalm) \n",
    "collections.Counter(full_df['picalm_coded'] )\n",
    "\n",
    "full_df = full_df.drop(['sex', 'age', 'apoe', 'bin1', 'clu', 'abca7', 'cr1', 'picalm'], axis = 1)\n",
    "full_df = full_df.dropna()"
   ]
  },
  {
   "cell_type": "code",
   "execution_count": 76,
   "metadata": {
    "scrolled": true
   },
   "outputs": [
    {
     "name": "stdout",
     "output_type": "stream",
     "text": [
      "Counter({1: 132, 2: 43, 0: 17, 3: 2})\n",
      "Counter({1: 132, 0: 132, 2: 132, 3: 132})\n",
      "Counter({1: 131, 2: 39, 0: 21, 3: 3})\n",
      "Counter({1: 131, 0: 131, 2: 131, 3: 131})\n"
     ]
    },
    {
     "name": "stderr",
     "output_type": "stream",
     "text": [
      "C:\\Users\\jeka1\\Anaconda2\\envs\\py36\\lib\\site-packages\\sklearn\\metrics\\classification.py:1137: UndefinedMetricWarning: F-score is ill-defined and being set to 0.0 in labels with no true samples.\n",
      "  'recall', 'true', average, warn_for)\n",
      "C:\\Users\\jeka1\\Anaconda2\\envs\\py36\\lib\\site-packages\\sklearn\\metrics\\classification.py:1137: UndefinedMetricWarning: F-score is ill-defined and being set to 0.0 in labels with no true samples.\n",
      "  'recall', 'true', average, warn_for)\n",
      "C:\\Users\\jeka1\\Anaconda2\\envs\\py36\\lib\\site-packages\\sklearn\\metrics\\classification.py:1137: UndefinedMetricWarning: F-score is ill-defined and being set to 0.0 in labels with no true samples.\n",
      "  'recall', 'true', average, warn_for)\n",
      "C:\\Users\\jeka1\\Anaconda2\\envs\\py36\\lib\\site-packages\\sklearn\\metrics\\classification.py:1137: UndefinedMetricWarning: F-score is ill-defined and being set to 0.0 in labels with no true samples.\n",
      "  'recall', 'true', average, warn_for)\n",
      "C:\\Users\\jeka1\\Anaconda2\\envs\\py36\\lib\\site-packages\\sklearn\\metrics\\classification.py:1137: UndefinedMetricWarning: F-score is ill-defined and being set to 0.0 in labels with no true samples.\n",
      "  'recall', 'true', average, warn_for)\n",
      "C:\\Users\\jeka1\\Anaconda2\\envs\\py36\\lib\\site-packages\\sklearn\\metrics\\classification.py:1137: UndefinedMetricWarning: F-score is ill-defined and being set to 0.0 in labels with no true samples.\n",
      "  'recall', 'true', average, warn_for)\n",
      "C:\\Users\\jeka1\\Anaconda2\\envs\\py36\\lib\\site-packages\\sklearn\\metrics\\classification.py:1137: UndefinedMetricWarning: F-score is ill-defined and being set to 0.0 in labels with no true samples.\n",
      "  'recall', 'true', average, warn_for)\n",
      "C:\\Users\\jeka1\\Anaconda2\\envs\\py36\\lib\\site-packages\\sklearn\\metrics\\classification.py:1137: UndefinedMetricWarning: F-score is ill-defined and being set to 0.0 in labels with no true samples.\n",
      "  'recall', 'true', average, warn_for)\n",
      "C:\\Users\\jeka1\\Anaconda2\\envs\\py36\\lib\\site-packages\\sklearn\\metrics\\classification.py:1137: UndefinedMetricWarning: F-score is ill-defined and being set to 0.0 in labels with no true samples.\n",
      "  'recall', 'true', average, warn_for)\n",
      "C:\\Users\\jeka1\\Anaconda2\\envs\\py36\\lib\\site-packages\\sklearn\\metrics\\classification.py:1137: UndefinedMetricWarning: F-score is ill-defined and being set to 0.0 in labels with no true samples.\n",
      "  'recall', 'true', average, warn_for)\n"
     ]
    },
    {
     "name": "stdout",
     "output_type": "stream",
     "text": [
      "Counter({1: 131, 2: 42, 0: 18, 3: 3})\n",
      "Counter({1: 131, 0: 131, 2: 131, 3: 131})\n"
     ]
    },
    {
     "name": "stderr",
     "output_type": "stream",
     "text": [
      "C:\\Users\\jeka1\\Anaconda2\\envs\\py36\\lib\\site-packages\\sklearn\\metrics\\classification.py:1137: UndefinedMetricWarning: F-score is ill-defined and being set to 0.0 in labels with no true samples.\n",
      "  'recall', 'true', average, warn_for)\n",
      "C:\\Users\\jeka1\\Anaconda2\\envs\\py36\\lib\\site-packages\\sklearn\\metrics\\classification.py:1137: UndefinedMetricWarning: F-score is ill-defined and being set to 0.0 in labels with no true samples.\n",
      "  'recall', 'true', average, warn_for)\n",
      "C:\\Users\\jeka1\\Anaconda2\\envs\\py36\\lib\\site-packages\\sklearn\\metrics\\classification.py:1137: UndefinedMetricWarning: F-score is ill-defined and being set to 0.0 in labels with no true samples.\n",
      "  'recall', 'true', average, warn_for)\n",
      "C:\\Users\\jeka1\\Anaconda2\\envs\\py36\\lib\\site-packages\\sklearn\\metrics\\classification.py:1137: UndefinedMetricWarning: F-score is ill-defined and being set to 0.0 in labels with no true samples.\n",
      "  'recall', 'true', average, warn_for)\n"
     ]
    },
    {
     "name": "stdout",
     "output_type": "stream",
     "text": [
      "Counter({1: 132, 2: 38, 0: 22, 3: 2})\n",
      "Counter({1: 132, 0: 132, 2: 132, 3: 132})\n"
     ]
    },
    {
     "name": "stderr",
     "output_type": "stream",
     "text": [
      "C:\\Users\\jeka1\\Anaconda2\\envs\\py36\\lib\\site-packages\\sklearn\\metrics\\classification.py:1137: UndefinedMetricWarning: F-score is ill-defined and being set to 0.0 in labels with no true samples.\n",
      "  'recall', 'true', average, warn_for)\n",
      "C:\\Users\\jeka1\\Anaconda2\\envs\\py36\\lib\\site-packages\\sklearn\\metrics\\classification.py:1137: UndefinedMetricWarning: F-score is ill-defined and being set to 0.0 in labels with no true samples.\n",
      "  'recall', 'true', average, warn_for)\n",
      "C:\\Users\\jeka1\\Anaconda2\\envs\\py36\\lib\\site-packages\\sklearn\\metrics\\classification.py:1137: UndefinedMetricWarning: F-score is ill-defined and being set to 0.0 in labels with no true samples.\n",
      "  'recall', 'true', average, warn_for)\n",
      "C:\\Users\\jeka1\\Anaconda2\\envs\\py36\\lib\\site-packages\\sklearn\\metrics\\classification.py:1137: UndefinedMetricWarning: F-score is ill-defined and being set to 0.0 in labels with no true samples.\n",
      "  'recall', 'true', average, warn_for)\n"
     ]
    },
    {
     "name": "stdout",
     "output_type": "stream",
     "text": [
      "Counter({1: 129, 2: 43, 0: 18, 3: 4})\n",
      "Counter({1: 129, 0: 129, 2: 129, 3: 129})\n"
     ]
    },
    {
     "name": "stderr",
     "output_type": "stream",
     "text": [
      "C:\\Users\\jeka1\\Anaconda2\\envs\\py36\\lib\\site-packages\\sklearn\\metrics\\classification.py:1135: UndefinedMetricWarning: F-score is ill-defined and being set to 0.0 in labels with no predicted samples.\n",
      "  'precision', 'predicted', average, warn_for)\n",
      "C:\\Users\\jeka1\\Anaconda2\\envs\\py36\\lib\\site-packages\\sklearn\\metrics\\classification.py:1137: UndefinedMetricWarning: F-score is ill-defined and being set to 0.0 in labels with no true samples.\n",
      "  'recall', 'true', average, warn_for)\n"
     ]
    },
    {
     "name": "stdout",
     "output_type": "stream",
     "text": [
      "Counter({1: 124, 2: 46, 0: 21, 3: 3})\n",
      "Counter({1: 124, 0: 124, 2: 124, 3: 124})\n"
     ]
    },
    {
     "name": "stderr",
     "output_type": "stream",
     "text": [
      "C:\\Users\\jeka1\\Anaconda2\\envs\\py36\\lib\\site-packages\\sklearn\\metrics\\classification.py:1137: UndefinedMetricWarning: F-score is ill-defined and being set to 0.0 in labels with no true samples.\n",
      "  'recall', 'true', average, warn_for)\n",
      "C:\\Users\\jeka1\\Anaconda2\\envs\\py36\\lib\\site-packages\\sklearn\\metrics\\classification.py:1137: UndefinedMetricWarning: F-score is ill-defined and being set to 0.0 in labels with no true samples.\n",
      "  'recall', 'true', average, warn_for)\n",
      "C:\\Users\\jeka1\\Anaconda2\\envs\\py36\\lib\\site-packages\\sklearn\\metrics\\classification.py:1137: UndefinedMetricWarning: F-score is ill-defined and being set to 0.0 in labels with no true samples.\n",
      "  'recall', 'true', average, warn_for)\n",
      "C:\\Users\\jeka1\\Anaconda2\\envs\\py36\\lib\\site-packages\\sklearn\\metrics\\classification.py:1137: UndefinedMetricWarning: F-score is ill-defined and being set to 0.0 in labels with no true samples.\n",
      "  'recall', 'true', average, warn_for)\n",
      "C:\\Users\\jeka1\\Anaconda2\\envs\\py36\\lib\\site-packages\\sklearn\\metrics\\classification.py:1137: UndefinedMetricWarning: F-score is ill-defined and being set to 0.0 in labels with no true samples.\n",
      "  'recall', 'true', average, warn_for)\n"
     ]
    },
    {
     "name": "stdout",
     "output_type": "stream",
     "text": [
      "Counter({1: 126, 2: 45, 0: 19, 3: 4})\n",
      "Counter({1: 126, 0: 126, 2: 126, 3: 126})\n",
      "Counter({1: 130, 2: 42, 0: 18, 3: 4})\n",
      "Counter({1: 130, 0: 130, 2: 130, 3: 130})\n"
     ]
    },
    {
     "name": "stderr",
     "output_type": "stream",
     "text": [
      "C:\\Users\\jeka1\\Anaconda2\\envs\\py36\\lib\\site-packages\\sklearn\\metrics\\classification.py:1135: UndefinedMetricWarning: F-score is ill-defined and being set to 0.0 in labels with no predicted samples.\n",
      "  'precision', 'predicted', average, warn_for)\n",
      "C:\\Users\\jeka1\\Anaconda2\\envs\\py36\\lib\\site-packages\\sklearn\\metrics\\classification.py:1135: UndefinedMetricWarning: F-score is ill-defined and being set to 0.0 in labels with no predicted samples.\n",
      "  'precision', 'predicted', average, warn_for)\n",
      "C:\\Users\\jeka1\\Anaconda2\\envs\\py36\\lib\\site-packages\\sklearn\\metrics\\classification.py:1137: UndefinedMetricWarning: F-score is ill-defined and being set to 0.0 in labels with no true samples.\n",
      "  'recall', 'true', average, warn_for)\n",
      "C:\\Users\\jeka1\\Anaconda2\\envs\\py36\\lib\\site-packages\\sklearn\\metrics\\classification.py:1135: UndefinedMetricWarning: F-score is ill-defined and being set to 0.0 in labels with no predicted samples.\n",
      "  'precision', 'predicted', average, warn_for)\n",
      "C:\\Users\\jeka1\\Anaconda2\\envs\\py36\\lib\\site-packages\\sklearn\\metrics\\classification.py:1137: UndefinedMetricWarning: F-score is ill-defined and being set to 0.0 in labels with no true samples.\n",
      "  'recall', 'true', average, warn_for)\n",
      "C:\\Users\\jeka1\\Anaconda2\\envs\\py36\\lib\\site-packages\\sklearn\\metrics\\classification.py:1135: UndefinedMetricWarning: F-score is ill-defined and being set to 0.0 in labels with no predicted samples.\n",
      "  'precision', 'predicted', average, warn_for)\n",
      "C:\\Users\\jeka1\\Anaconda2\\envs\\py36\\lib\\site-packages\\sklearn\\metrics\\classification.py:1137: UndefinedMetricWarning: F-score is ill-defined and being set to 0.0 in labels with no true samples.\n",
      "  'recall', 'true', average, warn_for)\n"
     ]
    },
    {
     "name": "stdout",
     "output_type": "stream",
     "text": [
      "Counter({1: 130, 2: 42, 0: 19, 3: 3})\n",
      "Counter({1: 130, 0: 130, 2: 130, 3: 130})\n"
     ]
    },
    {
     "name": "stderr",
     "output_type": "stream",
     "text": [
      "C:\\Users\\jeka1\\Anaconda2\\envs\\py36\\lib\\site-packages\\sklearn\\metrics\\classification.py:1137: UndefinedMetricWarning: F-score is ill-defined and being set to 0.0 in labels with no true samples.\n",
      "  'recall', 'true', average, warn_for)\n",
      "C:\\Users\\jeka1\\Anaconda2\\envs\\py36\\lib\\site-packages\\sklearn\\metrics\\classification.py:1137: UndefinedMetricWarning: F-score is ill-defined and being set to 0.0 in labels with no true samples.\n",
      "  'recall', 'true', average, warn_for)\n",
      "C:\\Users\\jeka1\\Anaconda2\\envs\\py36\\lib\\site-packages\\sklearn\\metrics\\classification.py:1137: UndefinedMetricWarning: F-score is ill-defined and being set to 0.0 in labels with no true samples.\n",
      "  'recall', 'true', average, warn_for)\n",
      "C:\\Users\\jeka1\\Anaconda2\\envs\\py36\\lib\\site-packages\\sklearn\\metrics\\classification.py:1137: UndefinedMetricWarning: F-score is ill-defined and being set to 0.0 in labels with no true samples.\n",
      "  'recall', 'true', average, warn_for)\n"
     ]
    },
    {
     "name": "stdout",
     "output_type": "stream",
     "text": [
      "Counter({1: 132, 2: 40, 0: 18, 3: 4})\n",
      "Counter({1: 132, 0: 132, 2: 132, 3: 132})\n"
     ]
    },
    {
     "name": "stderr",
     "output_type": "stream",
     "text": [
      "C:\\Users\\jeka1\\Anaconda2\\envs\\py36\\lib\\site-packages\\sklearn\\metrics\\classification.py:1137: UndefinedMetricWarning: F-score is ill-defined and being set to 0.0 in labels with no true samples.\n",
      "  'recall', 'true', average, warn_for)\n",
      "C:\\Users\\jeka1\\Anaconda2\\envs\\py36\\lib\\site-packages\\sklearn\\metrics\\classification.py:1137: UndefinedMetricWarning: F-score is ill-defined and being set to 0.0 in labels with no true samples.\n",
      "  'recall', 'true', average, warn_for)\n",
      "C:\\Users\\jeka1\\Anaconda2\\envs\\py36\\lib\\site-packages\\sklearn\\metrics\\classification.py:1137: UndefinedMetricWarning: F-score is ill-defined and being set to 0.0 in labels with no true samples.\n",
      "  'recall', 'true', average, warn_for)\n",
      "C:\\Users\\jeka1\\Anaconda2\\envs\\py36\\lib\\site-packages\\sklearn\\metrics\\classification.py:1137: UndefinedMetricWarning: F-score is ill-defined and being set to 0.0 in labels with no true samples.\n",
      "  'recall', 'true', average, warn_for)\n"
     ]
    },
    {
     "name": "stdout",
     "output_type": "stream",
     "text": [
      "Counter({1: 134, 2: 34, 0: 23, 3: 3})\n",
      "Counter({1: 134, 0: 134, 2: 134, 3: 134})\n",
      "Counter({1: 131, 2: 38, 0: 22, 3: 3})\n",
      "Counter({1: 131, 0: 131, 2: 131, 3: 131})\n"
     ]
    },
    {
     "name": "stderr",
     "output_type": "stream",
     "text": [
      "C:\\Users\\jeka1\\Anaconda2\\envs\\py36\\lib\\site-packages\\sklearn\\metrics\\classification.py:1137: UndefinedMetricWarning: F-score is ill-defined and being set to 0.0 in labels with no true samples.\n",
      "  'recall', 'true', average, warn_for)\n",
      "C:\\Users\\jeka1\\Anaconda2\\envs\\py36\\lib\\site-packages\\sklearn\\metrics\\classification.py:1137: UndefinedMetricWarning: F-score is ill-defined and being set to 0.0 in labels with no true samples.\n",
      "  'recall', 'true', average, warn_for)\n",
      "C:\\Users\\jeka1\\Anaconda2\\envs\\py36\\lib\\site-packages\\sklearn\\metrics\\classification.py:1137: UndefinedMetricWarning: F-score is ill-defined and being set to 0.0 in labels with no true samples.\n",
      "  'recall', 'true', average, warn_for)\n",
      "C:\\Users\\jeka1\\Anaconda2\\envs\\py36\\lib\\site-packages\\sklearn\\metrics\\classification.py:1137: UndefinedMetricWarning: F-score is ill-defined and being set to 0.0 in labels with no true samples.\n",
      "  'recall', 'true', average, warn_for)\n",
      "C:\\Users\\jeka1\\Anaconda2\\envs\\py36\\lib\\site-packages\\sklearn\\metrics\\classification.py:1137: UndefinedMetricWarning: F-score is ill-defined and being set to 0.0 in labels with no true samples.\n",
      "  'recall', 'true', average, warn_for)\n",
      "C:\\Users\\jeka1\\Anaconda2\\envs\\py36\\lib\\site-packages\\sklearn\\metrics\\classification.py:1137: UndefinedMetricWarning: F-score is ill-defined and being set to 0.0 in labels with no true samples.\n",
      "  'recall', 'true', average, warn_for)\n",
      "C:\\Users\\jeka1\\Anaconda2\\envs\\py36\\lib\\site-packages\\sklearn\\metrics\\classification.py:1137: UndefinedMetricWarning: F-score is ill-defined and being set to 0.0 in labels with no true samples.\n",
      "  'recall', 'true', average, warn_for)\n"
     ]
    },
    {
     "name": "stdout",
     "output_type": "stream",
     "text": [
      "Counter({1: 131, 2: 40, 0: 19, 3: 4})\n",
      "Counter({1: 131, 0: 131, 2: 131, 3: 131})\n",
      "Counter({1: 131, 2: 40, 0: 19, 3: 4})\n",
      "Counter({1: 131, 0: 131, 2: 131, 3: 131})\n"
     ]
    },
    {
     "name": "stderr",
     "output_type": "stream",
     "text": [
      "C:\\Users\\jeka1\\Anaconda2\\envs\\py36\\lib\\site-packages\\sklearn\\metrics\\classification.py:1137: UndefinedMetricWarning: F-score is ill-defined and being set to 0.0 in labels with no true samples.\n",
      "  'recall', 'true', average, warn_for)\n",
      "C:\\Users\\jeka1\\Anaconda2\\envs\\py36\\lib\\site-packages\\sklearn\\metrics\\classification.py:1137: UndefinedMetricWarning: F-score is ill-defined and being set to 0.0 in labels with no true samples.\n",
      "  'recall', 'true', average, warn_for)\n"
     ]
    },
    {
     "name": "stdout",
     "output_type": "stream",
     "text": [
      "Counter({1: 124, 2: 44, 0: 22, 3: 4})\n",
      "Counter({1: 124, 0: 124, 2: 124, 3: 124})\n",
      "Counter({1: 126, 2: 41, 0: 23, 3: 4})\n",
      "Counter({1: 126, 0: 126, 2: 126, 3: 126})\n"
     ]
    },
    {
     "name": "stderr",
     "output_type": "stream",
     "text": [
      "C:\\Users\\jeka1\\Anaconda2\\envs\\py36\\lib\\site-packages\\sklearn\\metrics\\classification.py:1135: UndefinedMetricWarning: F-score is ill-defined and being set to 0.0 in labels with no predicted samples.\n",
      "  'precision', 'predicted', average, warn_for)\n"
     ]
    },
    {
     "name": "stdout",
     "output_type": "stream",
     "text": [
      "Counter({1: 126, 2: 42, 0: 22, 3: 4})\n",
      "Counter({1: 126, 0: 126, 2: 126, 3: 126})\n",
      "Counter({1: 131, 2: 42, 0: 17, 3: 4})\n",
      "Counter({1: 131, 0: 131, 2: 131, 3: 131})\n"
     ]
    },
    {
     "name": "stderr",
     "output_type": "stream",
     "text": [
      "C:\\Users\\jeka1\\Anaconda2\\envs\\py36\\lib\\site-packages\\sklearn\\metrics\\classification.py:1135: UndefinedMetricWarning: F-score is ill-defined and being set to 0.0 in labels with no predicted samples.\n",
      "  'precision', 'predicted', average, warn_for)\n",
      "C:\\Users\\jeka1\\Anaconda2\\envs\\py36\\lib\\site-packages\\sklearn\\metrics\\classification.py:1137: UndefinedMetricWarning: F-score is ill-defined and being set to 0.0 in labels with no true samples.\n",
      "  'recall', 'true', average, warn_for)\n"
     ]
    },
    {
     "name": "stdout",
     "output_type": "stream",
     "text": [
      "Counter({1: 130, 2: 42, 0: 19, 3: 3})\n",
      "Counter({1: 130, 0: 130, 2: 130, 3: 130})\n"
     ]
    },
    {
     "name": "stderr",
     "output_type": "stream",
     "text": [
      "C:\\Users\\jeka1\\Anaconda2\\envs\\py36\\lib\\site-packages\\sklearn\\metrics\\classification.py:1137: UndefinedMetricWarning: F-score is ill-defined and being set to 0.0 in labels with no true samples.\n",
      "  'recall', 'true', average, warn_for)\n",
      "C:\\Users\\jeka1\\Anaconda2\\envs\\py36\\lib\\site-packages\\sklearn\\metrics\\classification.py:1137: UndefinedMetricWarning: F-score is ill-defined and being set to 0.0 in labels with no true samples.\n",
      "  'recall', 'true', average, warn_for)\n",
      "C:\\Users\\jeka1\\Anaconda2\\envs\\py36\\lib\\site-packages\\sklearn\\metrics\\classification.py:1137: UndefinedMetricWarning: F-score is ill-defined and being set to 0.0 in labels with no true samples.\n",
      "  'recall', 'true', average, warn_for)\n",
      "C:\\Users\\jeka1\\Anaconda2\\envs\\py36\\lib\\site-packages\\sklearn\\metrics\\classification.py:1137: UndefinedMetricWarning: F-score is ill-defined and being set to 0.0 in labels with no true samples.\n",
      "  'recall', 'true', average, warn_for)\n",
      "C:\\Users\\jeka1\\Anaconda2\\envs\\py36\\lib\\site-packages\\sklearn\\metrics\\classification.py:1137: UndefinedMetricWarning: F-score is ill-defined and being set to 0.0 in labels with no true samples.\n",
      "  'recall', 'true', average, warn_for)\n"
     ]
    },
    {
     "name": "stdout",
     "output_type": "stream",
     "text": [
      "Counter({1: 129, 2: 40, 0: 21, 3: 4})\n",
      "Counter({1: 129, 0: 129, 2: 129, 3: 129})\n",
      "Counter({1: 128, 2: 41, 0: 21, 3: 4})\n",
      "Counter({1: 128, 0: 128, 2: 128, 3: 128})\n"
     ]
    },
    {
     "name": "stderr",
     "output_type": "stream",
     "text": [
      "C:\\Users\\jeka1\\Anaconda2\\envs\\py36\\lib\\site-packages\\sklearn\\metrics\\classification.py:1135: UndefinedMetricWarning: F-score is ill-defined and being set to 0.0 in labels with no predicted samples.\n",
      "  'precision', 'predicted', average, warn_for)\n",
      "C:\\Users\\jeka1\\Anaconda2\\envs\\py36\\lib\\site-packages\\sklearn\\metrics\\classification.py:1137: UndefinedMetricWarning: F-score is ill-defined and being set to 0.0 in labels with no true samples.\n",
      "  'recall', 'true', average, warn_for)\n",
      "C:\\Users\\jeka1\\Anaconda2\\envs\\py36\\lib\\site-packages\\sklearn\\metrics\\classification.py:1137: UndefinedMetricWarning: F-score is ill-defined and being set to 0.0 in labels with no true samples.\n",
      "  'recall', 'true', average, warn_for)\n",
      "C:\\Users\\jeka1\\Anaconda2\\envs\\py36\\lib\\site-packages\\sklearn\\metrics\\classification.py:1137: UndefinedMetricWarning: F-score is ill-defined and being set to 0.0 in labels with no true samples.\n",
      "  'recall', 'true', average, warn_for)\n"
     ]
    },
    {
     "name": "stdout",
     "output_type": "stream",
     "text": [
      "Counter({1: 123, 2: 48, 0: 21, 3: 2})\n",
      "Counter({1: 123, 0: 123, 2: 123, 3: 123})\n",
      "Counter({1: 129, 2: 42, 0: 21, 3: 2})\n",
      "Counter({1: 129, 0: 129, 2: 129, 3: 129})\n"
     ]
    },
    {
     "name": "stderr",
     "output_type": "stream",
     "text": [
      "C:\\Users\\jeka1\\Anaconda2\\envs\\py36\\lib\\site-packages\\sklearn\\metrics\\classification.py:1137: UndefinedMetricWarning: F-score is ill-defined and being set to 0.0 in labels with no true samples.\n",
      "  'recall', 'true', average, warn_for)\n",
      "C:\\Users\\jeka1\\Anaconda2\\envs\\py36\\lib\\site-packages\\sklearn\\metrics\\classification.py:1137: UndefinedMetricWarning: F-score is ill-defined and being set to 0.0 in labels with no true samples.\n",
      "  'recall', 'true', average, warn_for)\n",
      "C:\\Users\\jeka1\\Anaconda2\\envs\\py36\\lib\\site-packages\\sklearn\\metrics\\classification.py:1137: UndefinedMetricWarning: F-score is ill-defined and being set to 0.0 in labels with no true samples.\n",
      "  'recall', 'true', average, warn_for)\n",
      "C:\\Users\\jeka1\\Anaconda2\\envs\\py36\\lib\\site-packages\\sklearn\\metrics\\classification.py:1137: UndefinedMetricWarning: F-score is ill-defined and being set to 0.0 in labels with no true samples.\n",
      "  'recall', 'true', average, warn_for)\n",
      "C:\\Users\\jeka1\\Anaconda2\\envs\\py36\\lib\\site-packages\\sklearn\\metrics\\classification.py:1137: UndefinedMetricWarning: F-score is ill-defined and being set to 0.0 in labels with no true samples.\n",
      "  'recall', 'true', average, warn_for)\n",
      "C:\\Users\\jeka1\\Anaconda2\\envs\\py36\\lib\\site-packages\\sklearn\\metrics\\classification.py:1137: UndefinedMetricWarning: F-score is ill-defined and being set to 0.0 in labels with no true samples.\n",
      "  'recall', 'true', average, warn_for)\n",
      "C:\\Users\\jeka1\\Anaconda2\\envs\\py36\\lib\\site-packages\\sklearn\\metrics\\classification.py:1137: UndefinedMetricWarning: F-score is ill-defined and being set to 0.0 in labels with no true samples.\n",
      "  'recall', 'true', average, warn_for)\n",
      "C:\\Users\\jeka1\\Anaconda2\\envs\\py36\\lib\\site-packages\\sklearn\\metrics\\classification.py:1137: UndefinedMetricWarning: F-score is ill-defined and being set to 0.0 in labels with no true samples.\n",
      "  'recall', 'true', average, warn_for)\n",
      "C:\\Users\\jeka1\\Anaconda2\\envs\\py36\\lib\\site-packages\\sklearn\\metrics\\classification.py:1137: UndefinedMetricWarning: F-score is ill-defined and being set to 0.0 in labels with no true samples.\n",
      "  'recall', 'true', average, warn_for)\n",
      "C:\\Users\\jeka1\\Anaconda2\\envs\\py36\\lib\\site-packages\\sklearn\\metrics\\classification.py:1135: UndefinedMetricWarning: F-score is ill-defined and being set to 0.0 in labels with no predicted samples.\n",
      "  'precision', 'predicted', average, warn_for)\n",
      "C:\\Users\\jeka1\\Anaconda2\\envs\\py36\\lib\\site-packages\\sklearn\\metrics\\classification.py:1135: UndefinedMetricWarning: F-score is ill-defined and being set to 0.0 in labels with no predicted samples.\n",
      "  'precision', 'predicted', average, warn_for)\n"
     ]
    },
    {
     "name": "stdout",
     "output_type": "stream",
     "text": [
      "Counter({1: 124, 2: 47, 0: 19, 3: 4})\n",
      "Counter({1: 124, 0: 124, 2: 124, 3: 124})\n",
      "Counter({1: 126, 2: 43, 0: 21, 3: 4})\n",
      "Counter({1: 126, 0: 126, 2: 126, 3: 126})\n"
     ]
    },
    {
     "name": "stderr",
     "output_type": "stream",
     "text": [
      "C:\\Users\\jeka1\\Anaconda2\\envs\\py36\\lib\\site-packages\\sklearn\\metrics\\classification.py:1137: UndefinedMetricWarning: F-score is ill-defined and being set to 0.0 in labels with no true samples.\n",
      "  'recall', 'true', average, warn_for)\n",
      "C:\\Users\\jeka1\\Anaconda2\\envs\\py36\\lib\\site-packages\\sklearn\\metrics\\classification.py:1137: UndefinedMetricWarning: F-score is ill-defined and being set to 0.0 in labels with no true samples.\n",
      "  'recall', 'true', average, warn_for)\n"
     ]
    },
    {
     "name": "stdout",
     "output_type": "stream",
     "text": [
      "Counter({1: 131, 2: 39, 0: 21, 3: 3})\n",
      "Counter({1: 131, 0: 131, 2: 131, 3: 131})\n",
      "Counter({1: 126, 2: 44, 0: 20, 3: 4})\n",
      "Counter({1: 126, 0: 126, 2: 126, 3: 126})\n"
     ]
    },
    {
     "name": "stderr",
     "output_type": "stream",
     "text": [
      "C:\\Users\\jeka1\\Anaconda2\\envs\\py36\\lib\\site-packages\\sklearn\\metrics\\classification.py:1137: UndefinedMetricWarning: F-score is ill-defined and being set to 0.0 in labels with no true samples.\n",
      "  'recall', 'true', average, warn_for)\n",
      "C:\\Users\\jeka1\\Anaconda2\\envs\\py36\\lib\\site-packages\\sklearn\\metrics\\classification.py:1137: UndefinedMetricWarning: F-score is ill-defined and being set to 0.0 in labels with no true samples.\n",
      "  'recall', 'true', average, warn_for)\n",
      "C:\\Users\\jeka1\\Anaconda2\\envs\\py36\\lib\\site-packages\\sklearn\\metrics\\classification.py:1137: UndefinedMetricWarning: F-score is ill-defined and being set to 0.0 in labels with no true samples.\n",
      "  'recall', 'true', average, warn_for)\n",
      "C:\\Users\\jeka1\\Anaconda2\\envs\\py36\\lib\\site-packages\\sklearn\\metrics\\classification.py:1137: UndefinedMetricWarning: F-score is ill-defined and being set to 0.0 in labels with no true samples.\n",
      "  'recall', 'true', average, warn_for)\n",
      "C:\\Users\\jeka1\\Anaconda2\\envs\\py36\\lib\\site-packages\\sklearn\\metrics\\classification.py:1137: UndefinedMetricWarning: F-score is ill-defined and being set to 0.0 in labels with no true samples.\n",
      "  'recall', 'true', average, warn_for)\n"
     ]
    },
    {
     "name": "stdout",
     "output_type": "stream",
     "text": [
      "Counter({1: 126, 2: 46, 0: 19, 3: 3})\n",
      "Counter({1: 126, 0: 126, 2: 126, 3: 126})\n",
      "Counter({1: 127, 2: 46, 0: 17, 3: 4})\n",
      "Counter({1: 127, 0: 127, 2: 127, 3: 127})\n"
     ]
    },
    {
     "name": "stderr",
     "output_type": "stream",
     "text": [
      "C:\\Users\\jeka1\\Anaconda2\\envs\\py36\\lib\\site-packages\\sklearn\\metrics\\classification.py:1137: UndefinedMetricWarning: F-score is ill-defined and being set to 0.0 in labels with no true samples.\n",
      "  'recall', 'true', average, warn_for)\n",
      "C:\\Users\\jeka1\\Anaconda2\\envs\\py36\\lib\\site-packages\\sklearn\\metrics\\classification.py:1137: UndefinedMetricWarning: F-score is ill-defined and being set to 0.0 in labels with no true samples.\n",
      "  'recall', 'true', average, warn_for)\n",
      "C:\\Users\\jeka1\\Anaconda2\\envs\\py36\\lib\\site-packages\\sklearn\\metrics\\classification.py:1137: UndefinedMetricWarning: F-score is ill-defined and being set to 0.0 in labels with no true samples.\n",
      "  'recall', 'true', average, warn_for)\n",
      "C:\\Users\\jeka1\\Anaconda2\\envs\\py36\\lib\\site-packages\\sklearn\\metrics\\classification.py:1137: UndefinedMetricWarning: F-score is ill-defined and being set to 0.0 in labels with no true samples.\n",
      "  'recall', 'true', average, warn_for)\n",
      "C:\\Users\\jeka1\\Anaconda2\\envs\\py36\\lib\\site-packages\\sklearn\\metrics\\classification.py:1137: UndefinedMetricWarning: F-score is ill-defined and being set to 0.0 in labels with no true samples.\n",
      "  'recall', 'true', average, warn_for)\n",
      "C:\\Users\\jeka1\\Anaconda2\\envs\\py36\\lib\\site-packages\\sklearn\\metrics\\classification.py:1135: UndefinedMetricWarning: F-score is ill-defined and being set to 0.0 in labels with no predicted samples.\n",
      "  'precision', 'predicted', average, warn_for)\n",
      "C:\\Users\\jeka1\\Anaconda2\\envs\\py36\\lib\\site-packages\\sklearn\\metrics\\classification.py:1137: UndefinedMetricWarning: F-score is ill-defined and being set to 0.0 in labels with no true samples.\n",
      "  'recall', 'true', average, warn_for)\n",
      "C:\\Users\\jeka1\\Anaconda2\\envs\\py36\\lib\\site-packages\\sklearn\\metrics\\classification.py:1137: UndefinedMetricWarning: F-score is ill-defined and being set to 0.0 in labels with no true samples.\n",
      "  'recall', 'true', average, warn_for)\n",
      "C:\\Users\\jeka1\\Anaconda2\\envs\\py36\\lib\\site-packages\\sklearn\\metrics\\classification.py:1135: UndefinedMetricWarning: F-score is ill-defined and being set to 0.0 in labels with no predicted samples.\n",
      "  'precision', 'predicted', average, warn_for)\n"
     ]
    },
    {
     "name": "stdout",
     "output_type": "stream",
     "text": [
      "Counter({1: 126, 2: 45, 0: 19, 3: 4})\n",
      "Counter({1: 126, 0: 126, 2: 126, 3: 126})\n"
     ]
    },
    {
     "name": "stderr",
     "output_type": "stream",
     "text": [
      "C:\\Users\\jeka1\\Anaconda2\\envs\\py36\\lib\\site-packages\\sklearn\\metrics\\classification.py:1137: UndefinedMetricWarning: F-score is ill-defined and being set to 0.0 in labels with no true samples.\n",
      "  'recall', 'true', average, warn_for)\n"
     ]
    },
    {
     "name": "stdout",
     "output_type": "stream",
     "text": [
      "Counter({1: 126, 2: 45, 0: 19, 3: 4})\n",
      "Counter({1: 126, 0: 126, 2: 126, 3: 126})\n"
     ]
    },
    {
     "name": "stderr",
     "output_type": "stream",
     "text": [
      "C:\\Users\\jeka1\\Anaconda2\\envs\\py36\\lib\\site-packages\\sklearn\\metrics\\classification.py:1137: UndefinedMetricWarning: F-score is ill-defined and being set to 0.0 in labels with no true samples.\n",
      "  'recall', 'true', average, warn_for)\n",
      "C:\\Users\\jeka1\\Anaconda2\\envs\\py36\\lib\\site-packages\\sklearn\\metrics\\classification.py:1137: UndefinedMetricWarning: F-score is ill-defined and being set to 0.0 in labels with no true samples.\n",
      "  'recall', 'true', average, warn_for)\n"
     ]
    },
    {
     "ename": "ValueError",
     "evalue": "Expected n_neighbors <= n_samples,  but n_samples = 1, n_neighbors = 2",
     "output_type": "error",
     "traceback": [
      "\u001b[1;31m---------------------------------------------------------------------------\u001b[0m",
      "\u001b[1;31mValueError\u001b[0m                                Traceback (most recent call last)",
      "\u001b[1;32m<ipython-input-76-f6b5b45b5c83>\u001b[0m in \u001b[0;36m<module>\u001b[1;34m()\u001b[0m\n\u001b[0;32m     15\u001b[0m                                            'picalm_coded'], axis = 1), full_df.apoe_coded, test_size=0.2)\n\u001b[0;32m     16\u001b[0m \u001b[1;33m\u001b[0m\u001b[0m\n\u001b[1;32m---> 17\u001b[1;33m     \u001b[0mX_resampled_adasyn\u001b[0m\u001b[1;33m,\u001b[0m \u001b[0my_resampled_adasyn\u001b[0m \u001b[1;33m=\u001b[0m \u001b[0mADASYN\u001b[0m\u001b[1;33m(\u001b[0m\u001b[0mn_neighbors\u001b[0m\u001b[1;33m=\u001b[0m\u001b[1;36m1\u001b[0m\u001b[1;33m)\u001b[0m\u001b[1;33m.\u001b[0m\u001b[0mfit_sample\u001b[0m\u001b[1;33m(\u001b[0m\u001b[0mx_tr\u001b[0m\u001b[1;33m,\u001b[0m \u001b[0my_tr\u001b[0m\u001b[1;33m)\u001b[0m\u001b[1;33m\u001b[0m\u001b[0m\n\u001b[0m\u001b[0;32m     18\u001b[0m     \u001b[0mX_resampled_smote\u001b[0m\u001b[1;33m,\u001b[0m \u001b[0my_resampled_smote\u001b[0m \u001b[1;33m=\u001b[0m \u001b[0mSMOTE\u001b[0m\u001b[1;33m(\u001b[0m\u001b[0mk_neighbors\u001b[0m\u001b[1;33m=\u001b[0m\u001b[1;36m1\u001b[0m\u001b[1;33m)\u001b[0m\u001b[1;33m.\u001b[0m\u001b[0mfit_sample\u001b[0m\u001b[1;33m(\u001b[0m\u001b[0mx_tr\u001b[0m\u001b[1;33m,\u001b[0m \u001b[0my_tr\u001b[0m\u001b[1;33m)\u001b[0m\u001b[1;33m\u001b[0m\u001b[0m\n\u001b[0;32m     19\u001b[0m     \u001b[0mdf_upsampled_res\u001b[0m \u001b[1;33m=\u001b[0m \u001b[0mresampling\u001b[0m\u001b[1;33m(\u001b[0m\u001b[0mpd\u001b[0m\u001b[1;33m.\u001b[0m\u001b[0mconcat\u001b[0m\u001b[1;33m(\u001b[0m\u001b[1;33m[\u001b[0m\u001b[0mx_tr\u001b[0m\u001b[1;33m,\u001b[0m \u001b[0my_tr\u001b[0m\u001b[1;33m]\u001b[0m\u001b[1;33m,\u001b[0m \u001b[0maxis\u001b[0m\u001b[1;33m=\u001b[0m\u001b[1;36m1\u001b[0m\u001b[1;33m)\u001b[0m\u001b[1;33m)\u001b[0m\u001b[1;33m\u001b[0m\u001b[0m\n",
      "\u001b[1;32m~\\Anaconda2\\envs\\py36\\lib\\site-packages\\imblearn\\base.py\u001b[0m in \u001b[0;36mfit_sample\u001b[1;34m(self, X, y)\u001b[0m\n\u001b[0;32m     86\u001b[0m         \"\"\"\n\u001b[0;32m     87\u001b[0m \u001b[1;33m\u001b[0m\u001b[0m\n\u001b[1;32m---> 88\u001b[1;33m         \u001b[1;32mreturn\u001b[0m \u001b[0mself\u001b[0m\u001b[1;33m.\u001b[0m\u001b[0mfit\u001b[0m\u001b[1;33m(\u001b[0m\u001b[0mX\u001b[0m\u001b[1;33m,\u001b[0m \u001b[0my\u001b[0m\u001b[1;33m)\u001b[0m\u001b[1;33m.\u001b[0m\u001b[0msample\u001b[0m\u001b[1;33m(\u001b[0m\u001b[0mX\u001b[0m\u001b[1;33m,\u001b[0m \u001b[0my\u001b[0m\u001b[1;33m)\u001b[0m\u001b[1;33m\u001b[0m\u001b[0m\n\u001b[0m\u001b[0;32m     89\u001b[0m \u001b[1;33m\u001b[0m\u001b[0m\n\u001b[0;32m     90\u001b[0m     \u001b[1;33m@\u001b[0m\u001b[0mabstractmethod\u001b[0m\u001b[1;33m\u001b[0m\u001b[0m\n",
      "\u001b[1;32m~\\Anaconda2\\envs\\py36\\lib\\site-packages\\imblearn\\base.py\u001b[0m in \u001b[0;36msample\u001b[1;34m(self, X, y)\u001b[0m\n\u001b[0;32m     62\u001b[0m         \u001b[0mself\u001b[0m\u001b[1;33m.\u001b[0m\u001b[0m_check_X_y\u001b[0m\u001b[1;33m(\u001b[0m\u001b[0mX\u001b[0m\u001b[1;33m,\u001b[0m \u001b[0my\u001b[0m\u001b[1;33m)\u001b[0m\u001b[1;33m\u001b[0m\u001b[0m\n\u001b[0;32m     63\u001b[0m \u001b[1;33m\u001b[0m\u001b[0m\n\u001b[1;32m---> 64\u001b[1;33m         \u001b[1;32mreturn\u001b[0m \u001b[0mself\u001b[0m\u001b[1;33m.\u001b[0m\u001b[0m_sample\u001b[0m\u001b[1;33m(\u001b[0m\u001b[0mX\u001b[0m\u001b[1;33m,\u001b[0m \u001b[0my\u001b[0m\u001b[1;33m)\u001b[0m\u001b[1;33m\u001b[0m\u001b[0m\n\u001b[0m\u001b[0;32m     65\u001b[0m \u001b[1;33m\u001b[0m\u001b[0m\n\u001b[0;32m     66\u001b[0m     \u001b[1;32mdef\u001b[0m \u001b[0mfit_sample\u001b[0m\u001b[1;33m(\u001b[0m\u001b[0mself\u001b[0m\u001b[1;33m,\u001b[0m \u001b[0mX\u001b[0m\u001b[1;33m,\u001b[0m \u001b[0my\u001b[0m\u001b[1;33m)\u001b[0m\u001b[1;33m:\u001b[0m\u001b[1;33m\u001b[0m\u001b[0m\n",
      "\u001b[1;32m~\\Anaconda2\\envs\\py36\\lib\\site-packages\\imblearn\\over_sampling\\adasyn.py\u001b[0m in \u001b[0;36m_sample\u001b[1;34m(self, X, y)\u001b[0m\n\u001b[0;32m    184\u001b[0m             \u001b[1;31m# to find the class NN to generate new samples\u001b[0m\u001b[1;33m\u001b[0m\u001b[1;33m\u001b[0m\u001b[0m\n\u001b[0;32m    185\u001b[0m             \u001b[0mself\u001b[0m\u001b[1;33m.\u001b[0m\u001b[0mnn_\u001b[0m\u001b[1;33m.\u001b[0m\u001b[0mfit\u001b[0m\u001b[1;33m(\u001b[0m\u001b[0mX_class\u001b[0m\u001b[1;33m)\u001b[0m\u001b[1;33m\u001b[0m\u001b[0m\n\u001b[1;32m--> 186\u001b[1;33m             \u001b[0m_\u001b[0m\u001b[1;33m,\u001b[0m \u001b[0mnn_index\u001b[0m \u001b[1;33m=\u001b[0m \u001b[0mself\u001b[0m\u001b[1;33m.\u001b[0m\u001b[0mnn_\u001b[0m\u001b[1;33m.\u001b[0m\u001b[0mkneighbors\u001b[0m\u001b[1;33m(\u001b[0m\u001b[0mX_class\u001b[0m\u001b[1;33m)\u001b[0m\u001b[1;33m\u001b[0m\u001b[0m\n\u001b[0m\u001b[0;32m    187\u001b[0m \u001b[1;33m\u001b[0m\u001b[0m\n\u001b[0;32m    188\u001b[0m             \u001b[1;32mif\u001b[0m \u001b[0msparse\u001b[0m\u001b[1;33m.\u001b[0m\u001b[0missparse\u001b[0m\u001b[1;33m(\u001b[0m\u001b[0mX\u001b[0m\u001b[1;33m)\u001b[0m\u001b[1;33m:\u001b[0m\u001b[1;33m\u001b[0m\u001b[0m\n",
      "\u001b[1;32m~\\Anaconda2\\envs\\py36\\lib\\site-packages\\sklearn\\neighbors\\base.py\u001b[0m in \u001b[0;36mkneighbors\u001b[1;34m(self, X, n_neighbors, return_distance)\u001b[0m\n\u001b[0;32m    345\u001b[0m                 \u001b[1;34m\"Expected n_neighbors <= n_samples, \"\u001b[0m\u001b[1;33m\u001b[0m\u001b[0m\n\u001b[0;32m    346\u001b[0m                 \u001b[1;34m\" but n_samples = %d, n_neighbors = %d\"\u001b[0m \u001b[1;33m%\u001b[0m\u001b[1;33m\u001b[0m\u001b[0m\n\u001b[1;32m--> 347\u001b[1;33m                 \u001b[1;33m(\u001b[0m\u001b[0mtrain_size\u001b[0m\u001b[1;33m,\u001b[0m \u001b[0mn_neighbors\u001b[0m\u001b[1;33m)\u001b[0m\u001b[1;33m\u001b[0m\u001b[0m\n\u001b[0m\u001b[0;32m    348\u001b[0m             )\n\u001b[0;32m    349\u001b[0m         \u001b[0mn_samples\u001b[0m\u001b[1;33m,\u001b[0m \u001b[0m_\u001b[0m \u001b[1;33m=\u001b[0m \u001b[0mX\u001b[0m\u001b[1;33m.\u001b[0m\u001b[0mshape\u001b[0m\u001b[1;33m\u001b[0m\u001b[0m\n",
      "\u001b[1;31mValueError\u001b[0m: Expected n_neighbors <= n_samples,  but n_samples = 1, n_neighbors = 2"
     ]
    }
   ],
   "source": [
    "scores_adasyn = []\n",
    "scores_smote = []\n",
    "scores_resampled = []\n",
    "scores_initial = []\n",
    "scores_RF_updated = []\n",
    "\n",
    "f_i_adasyn = []\n",
    "f_i_smote = []\n",
    "f_i_resampled = []\n",
    "f_i_initial = []\n",
    "f_i_RF_updated = []\n",
    "\n",
    "for i in range(1000):\n",
    "    x_tr, x_val, y_tr, y_val = train_test_split(full_df.drop(['subject_id', 'apoe_coded', 'bin1_coded', 'clu_coded', 'abca7_coded', 'cr1_coded', \n",
    "                                           'picalm_coded'], axis = 1), full_df.apoe_coded, test_size=0.2)\n",
    "\n",
    "    X_resampled_adasyn, y_resampled_adasyn = ADASYN(n_neighbors=1).fit_sample(x_tr, y_tr)\n",
    "    X_resampled_smote, y_resampled_smote = SMOTE(k_neighbors=1).fit_sample(x_tr, y_tr)\n",
    "    df_upsampled_res = resampling(pd.concat([x_tr, y_tr], axis=1))\n",
    "    X_resampled, y_resampled = df_upsampled_res.drop(['apoe_coded'], axis = 1), df_upsampled_res.apoe_coded\n",
    "    \n",
    "    RF = RandomForestClassifier(n_estimators = 11)\n",
    "    RF.fit(X_resampled_adasyn, y_resampled_adasyn)\n",
    "    pred = RF.predict(x_val)\n",
    "    scores_adasyn.append(f1_score(pred, y_val, average = 'weighted'))\n",
    "    f_i_adasyn.append(RF.feature_importances_)\n",
    "\n",
    "\n",
    "    RF.fit(X_resampled_smote, y_resampled_smote)\n",
    "    pred = RF.predict(x_val)\n",
    "    scores_smote.append(f1_score(pred, y_val, average = 'weighted'))\n",
    "    f_i_smote.append(RF.feature_importances_)\n",
    "\n",
    "    RF.fit(X_resampled, y_resampled)\n",
    "    pred = RF.predict(x_val)\n",
    "    scores_resampled.append(f1_score(pred, y_val, average = 'weighted'))\n",
    "    f_i_resampled.append(RF.feature_importances_)\n",
    "\n",
    "    RF.fit(x_tr, y_tr)\n",
    "    pred = RF.predict(x_val)\n",
    "    scores_initial.append(f1_score(pred, y_val, average = 'weighted'))\n",
    "    f_i_initial.append(RF.feature_importances_)\n",
    "\n",
    "    RF = RandomForestClassifier(n_estimators =11, class_weight = \"balanced\")\n",
    "    RF.fit(x_tr, y_tr)\n",
    "    pred = RF.predict(x_val)\n",
    "    scores_RF_updated.append(f1_score(pred, y_val, average = 'weighted'))\n",
    "    f_i_RF_updated.append(RF.feature_importances_)\n"
   ]
  },
  {
   "cell_type": "code",
   "execution_count": 77,
   "metadata": {},
   "outputs": [
    {
     "data": {
      "image/png": "[encoded data removed]",
      "text/plain": [
       "<matplotlib.figure.Figure at 0x1768a80c5f8>"
      ]
     },
     "metadata": {},
     "output_type": "display_data"
    }
   ],
   "source": [
    "scores = [scores_initial, scores_RF_updated, scores_resampled, scores_smote, scores_adasyn]\n",
    "sns.set(rc={'figure.figsize':(11.7,8.27)})\n",
    "sns.boxplot(['initial values', 'RF with class_weight = balanced', 'resampling', 'SMOTE', 'ADASYN'], scores)\n",
    "plt.xlabel('Method')\n",
    "plt.ylabel('classification score')\n",
    "plt.title('APOE gene')\n",
    "plt.savefig('foo.png')\n",
    "plt.show()"
   ]
  },
  {
   "cell_type": "code",
   "execution_count": null,
   "metadata": {
    "collapsed": true
   },
   "outputs": [],
   "source": []
  },
  {
   "cell_type": "code",
   "execution_count": 51,
   "metadata": {
    "collapsed": true
   },
   "outputs": [],
   "source": [
    "pd.DataFrame(f_i_adasyn).to_csv(\"f_i_adasyn.csv\")\n",
    "pd.DataFrame(f_i_smote).to_csv(\"f_i_smote.csv\")\n",
    "pd.DataFrame(f_i_resampled).to_csv(\"f_i_resampled.csv\")\n",
    "pd.DataFrame(f_i_initial).to_csv(\"f_i_initial.csv\")\n",
    "pd.DataFrame(f_i_RF_updated).to_csv(\"f_i_RF_updated.csv\")"
   ]
  },
  {
   "cell_type": "markdown",
   "metadata": {},
   "source": [
    "top 5 feature importance"
   ]
  },
  {
   "cell_type": "code",
   "execution_count": 24,
   "metadata": {},
   "outputs": [
    {
     "data": {
      "text/plain": [
       "Index(['left_G_front_sup', 'left_G_subcallosal', 'left_G_precuneus',\n",
       "       'left_S_occipital_ant', 'left_Lat_Fis.ant.Horizont'],\n",
       "      dtype='object')"
      ]
     },
     "execution_count": 24,
     "metadata": {},
     "output_type": "execute_result"
    }
   ],
   "source": [
    "full_df.columns[[16, 32, 30, 59, 39]]"
   ]
  },
  {
   "cell_type": "markdown",
   "metadata": {},
   "source": [
    "Single brain area instead of all 148 "
   ]
  },
  {
   "cell_type": "code",
   "execution_count": 17,
   "metadata": {
    "collapsed": true
   },
   "outputs": [],
   "source": [
    "single = full_df[['left_G_front_sup','left_G_subcallosal', 'apoe_coded']]"
   ]
  },
  {
   "cell_type": "code",
   "execution_count": 22,
   "metadata": {},
   "outputs": [
    {
     "name": "stdout",
     "output_type": "stream",
     "text": [
      "Counter({1: 122, 2: 47, 0: 21, 3: 4})\n",
      "Counter({1: 122, 0: 122, 2: 122, 3: 122})\n",
      "Counter({1: 128, 2: 42, 0: 20, 3: 4})\n",
      "Counter({1: 128, 0: 128, 2: 128, 3: 128})\n"
     ]
    },
    {
     "name": "stderr",
     "output_type": "stream",
     "text": [
      "C:\\Users\\jeka1\\Anaconda2\\envs\\py36\\lib\\site-packages\\sklearn\\metrics\\classification.py:1135: UndefinedMetricWarning: F-score is ill-defined and being set to 0.0 in labels with no predicted samples.\n",
      "  'precision', 'predicted', average, warn_for)\n",
      "C:\\Users\\jeka1\\Anaconda2\\envs\\py36\\lib\\site-packages\\sklearn\\metrics\\classification.py:1135: UndefinedMetricWarning: F-score is ill-defined and being set to 0.0 in labels with no predicted samples.\n",
      "  'precision', 'predicted', average, warn_for)\n",
      "C:\\Users\\jeka1\\Anaconda2\\envs\\py36\\lib\\site-packages\\sklearn\\metrics\\classification.py:1135: UndefinedMetricWarning: F-score is ill-defined and being set to 0.0 in labels with no predicted samples.\n",
      "  'precision', 'predicted', average, warn_for)\n",
      "C:\\Users\\jeka1\\Anaconda2\\envs\\py36\\lib\\site-packages\\sklearn\\metrics\\classification.py:1135: UndefinedMetricWarning: F-score is ill-defined and being set to 0.0 in labels with no predicted samples.\n",
      "  'precision', 'predicted', average, warn_for)\n",
      "C:\\Users\\jeka1\\Anaconda2\\envs\\py36\\lib\\site-packages\\sklearn\\metrics\\classification.py:1135: UndefinedMetricWarning: F-score is ill-defined and being set to 0.0 in labels with no predicted samples.\n",
      "  'precision', 'predicted', average, warn_for)\n",
      "C:\\Users\\jeka1\\Anaconda2\\envs\\py36\\lib\\site-packages\\sklearn\\metrics\\classification.py:1135: UndefinedMetricWarning: F-score is ill-defined and being set to 0.0 in labels with no predicted samples.\n",
      "  'precision', 'predicted', average, warn_for)\n",
      "C:\\Users\\jeka1\\Anaconda2\\envs\\py36\\lib\\site-packages\\sklearn\\metrics\\classification.py:1135: UndefinedMetricWarning: F-score is ill-defined and being set to 0.0 in labels with no predicted samples.\n",
      "  'precision', 'predicted', average, warn_for)\n",
      "C:\\Users\\jeka1\\Anaconda2\\envs\\py36\\lib\\site-packages\\sklearn\\metrics\\classification.py:1135: UndefinedMetricWarning: F-score is ill-defined and being set to 0.0 in labels with no predicted samples.\n",
      "  'precision', 'predicted', average, warn_for)\n"
     ]
    },
    {
     "name": "stdout",
     "output_type": "stream",
     "text": [
      "Counter({1: 123, 2: 48, 0: 20, 3: 3})\n",
      "Counter({1: 123, 0: 123, 2: 123, 3: 123})\n",
      "Counter({1: 129, 2: 43, 0: 20, 3: 2})\n",
      "Counter({1: 129, 0: 129, 2: 129, 3: 129})\n"
     ]
    },
    {
     "name": "stderr",
     "output_type": "stream",
     "text": [
      "C:\\Users\\jeka1\\Anaconda2\\envs\\py36\\lib\\site-packages\\sklearn\\metrics\\classification.py:1137: UndefinedMetricWarning: F-score is ill-defined and being set to 0.0 in labels with no true samples.\n",
      "  'recall', 'true', average, warn_for)\n",
      "C:\\Users\\jeka1\\Anaconda2\\envs\\py36\\lib\\site-packages\\sklearn\\metrics\\classification.py:1137: UndefinedMetricWarning: F-score is ill-defined and being set to 0.0 in labels with no true samples.\n",
      "  'recall', 'true', average, warn_for)\n",
      "C:\\Users\\jeka1\\Anaconda2\\envs\\py36\\lib\\site-packages\\sklearn\\metrics\\classification.py:1137: UndefinedMetricWarning: F-score is ill-defined and being set to 0.0 in labels with no true samples.\n",
      "  'recall', 'true', average, warn_for)\n",
      "C:\\Users\\jeka1\\Anaconda2\\envs\\py36\\lib\\site-packages\\sklearn\\metrics\\classification.py:1137: UndefinedMetricWarning: F-score is ill-defined and being set to 0.0 in labels with no true samples.\n",
      "  'recall', 'true', average, warn_for)\n",
      "C:\\Users\\jeka1\\Anaconda2\\envs\\py36\\lib\\site-packages\\sklearn\\metrics\\classification.py:1137: UndefinedMetricWarning: F-score is ill-defined and being set to 0.0 in labels with no true samples.\n",
      "  'recall', 'true', average, warn_for)\n",
      "C:\\Users\\jeka1\\Anaconda2\\envs\\py36\\lib\\site-packages\\sklearn\\metrics\\classification.py:1137: UndefinedMetricWarning: F-score is ill-defined and being set to 0.0 in labels with no true samples.\n",
      "  'recall', 'true', average, warn_for)\n"
     ]
    },
    {
     "name": "stdout",
     "output_type": "stream",
     "text": [
      "Counter({1: 131, 2: 42, 0: 19, 3: 2})\n",
      "Counter({1: 131, 0: 131, 2: 131, 3: 131})\n",
      "Counter({1: 127, 2: 43, 0: 20, 3: 4})\n",
      "Counter({1: 127, 0: 127, 2: 127, 3: 127})\n"
     ]
    },
    {
     "name": "stderr",
     "output_type": "stream",
     "text": [
      "C:\\Users\\jeka1\\Anaconda2\\envs\\py36\\lib\\site-packages\\sklearn\\metrics\\classification.py:1137: UndefinedMetricWarning: F-score is ill-defined and being set to 0.0 in labels with no true samples.\n",
      "  'recall', 'true', average, warn_for)\n",
      "C:\\Users\\jeka1\\Anaconda2\\envs\\py36\\lib\\site-packages\\sklearn\\metrics\\classification.py:1135: UndefinedMetricWarning: F-score is ill-defined and being set to 0.0 in labels with no predicted samples.\n",
      "  'precision', 'predicted', average, warn_for)\n",
      "C:\\Users\\jeka1\\Anaconda2\\envs\\py36\\lib\\site-packages\\sklearn\\metrics\\classification.py:1135: UndefinedMetricWarning: F-score is ill-defined and being set to 0.0 in labels with no predicted samples.\n",
      "  'precision', 'predicted', average, warn_for)\n"
     ]
    },
    {
     "name": "stdout",
     "output_type": "stream",
     "text": [
      "Counter({1: 135, 2: 41, 0: 14, 3: 4})\n",
      "Counter({1: 135, 0: 135, 2: 135, 3: 135})\n",
      "Counter({1: 123, 2: 46, 0: 21, 3: 4})\n",
      "Counter({1: 123, 0: 123, 2: 123, 3: 123})\n"
     ]
    },
    {
     "name": "stderr",
     "output_type": "stream",
     "text": [
      "C:\\Users\\jeka1\\Anaconda2\\envs\\py36\\lib\\site-packages\\sklearn\\metrics\\classification.py:1135: UndefinedMetricWarning: F-score is ill-defined and being set to 0.0 in labels with no predicted samples.\n",
      "  'precision', 'predicted', average, warn_for)\n",
      "C:\\Users\\jeka1\\Anaconda2\\envs\\py36\\lib\\site-packages\\sklearn\\metrics\\classification.py:1135: UndefinedMetricWarning: F-score is ill-defined and being set to 0.0 in labels with no predicted samples.\n",
      "  'precision', 'predicted', average, warn_for)\n",
      "C:\\Users\\jeka1\\Anaconda2\\envs\\py36\\lib\\site-packages\\sklearn\\metrics\\classification.py:1137: UndefinedMetricWarning: F-score is ill-defined and being set to 0.0 in labels with no true samples.\n",
      "  'recall', 'true', average, warn_for)\n",
      "C:\\Users\\jeka1\\Anaconda2\\envs\\py36\\lib\\site-packages\\sklearn\\metrics\\classification.py:1135: UndefinedMetricWarning: F-score is ill-defined and being set to 0.0 in labels with no predicted samples.\n",
      "  'precision', 'predicted', average, warn_for)\n",
      "C:\\Users\\jeka1\\Anaconda2\\envs\\py36\\lib\\site-packages\\sklearn\\metrics\\classification.py:1135: UndefinedMetricWarning: F-score is ill-defined and being set to 0.0 in labels with no predicted samples.\n",
      "  'precision', 'predicted', average, warn_for)\n",
      "C:\\Users\\jeka1\\Anaconda2\\envs\\py36\\lib\\site-packages\\sklearn\\metrics\\classification.py:1135: UndefinedMetricWarning: F-score is ill-defined and being set to 0.0 in labels with no predicted samples.\n",
      "  'precision', 'predicted', average, warn_for)\n",
      "C:\\Users\\jeka1\\Anaconda2\\envs\\py36\\lib\\site-packages\\sklearn\\metrics\\classification.py:1135: UndefinedMetricWarning: F-score is ill-defined and being set to 0.0 in labels with no predicted samples.\n",
      "  'precision', 'predicted', average, warn_for)\n",
      "C:\\Users\\jeka1\\Anaconda2\\envs\\py36\\lib\\site-packages\\sklearn\\metrics\\classification.py:1137: UndefinedMetricWarning: F-score is ill-defined and being set to 0.0 in labels with no true samples.\n",
      "  'recall', 'true', average, warn_for)\n",
      "C:\\Users\\jeka1\\Anaconda2\\envs\\py36\\lib\\site-packages\\sklearn\\metrics\\classification.py:1137: UndefinedMetricWarning: F-score is ill-defined and being set to 0.0 in labels with no true samples.\n",
      "  'recall', 'true', average, warn_for)\n",
      "C:\\Users\\jeka1\\Anaconda2\\envs\\py36\\lib\\site-packages\\sklearn\\metrics\\classification.py:1137: UndefinedMetricWarning: F-score is ill-defined and being set to 0.0 in labels with no true samples.\n",
      "  'recall', 'true', average, warn_for)\n",
      "C:\\Users\\jeka1\\Anaconda2\\envs\\py36\\lib\\site-packages\\sklearn\\metrics\\classification.py:1135: UndefinedMetricWarning: F-score is ill-defined and being set to 0.0 in labels with no predicted samples.\n",
      "  'precision', 'predicted', average, warn_for)\n",
      "C:\\Users\\jeka1\\Anaconda2\\envs\\py36\\lib\\site-packages\\sklearn\\metrics\\classification.py:1135: UndefinedMetricWarning: F-score is ill-defined and being set to 0.0 in labels with no predicted samples.\n",
      "  'precision', 'predicted', average, warn_for)\n"
     ]
    },
    {
     "name": "stdout",
     "output_type": "stream",
     "text": [
      "Counter({1: 128, 2: 39, 0: 24, 3: 3})\n",
      "Counter({1: 128, 0: 128, 2: 128, 3: 128})\n",
      "Counter({1: 127, 2: 44, 0: 19, 3: 4})\n",
      "Counter({1: 127, 0: 127, 2: 127, 3: 127})\n",
      "Counter({1: 129, 2: 43, 0: 18, 3: 4})\n",
      "Counter({1: 129, 0: 129, 2: 129, 3: 129})\n",
      "Counter({1: 127, 2: 43, 0: 20, 3: 4})\n",
      "Counter({1: 127, 0: 127, 2: 127, 3: 127})\n",
      "Counter({1: 128, 2: 41, 0: 21, 3: 4})\n",
      "Counter({1: 128, 0: 128, 2: 128, 3: 128})\n"
     ]
    },
    {
     "name": "stderr",
     "output_type": "stream",
     "text": [
      "C:\\Users\\jeka1\\Anaconda2\\envs\\py36\\lib\\site-packages\\sklearn\\metrics\\classification.py:1135: UndefinedMetricWarning: F-score is ill-defined and being set to 0.0 in labels with no predicted samples.\n",
      "  'precision', 'predicted', average, warn_for)\n",
      "C:\\Users\\jeka1\\Anaconda2\\envs\\py36\\lib\\site-packages\\sklearn\\metrics\\classification.py:1135: UndefinedMetricWarning: F-score is ill-defined and being set to 0.0 in labels with no predicted samples.\n",
      "  'precision', 'predicted', average, warn_for)\n",
      "C:\\Users\\jeka1\\Anaconda2\\envs\\py36\\lib\\site-packages\\sklearn\\metrics\\classification.py:1135: UndefinedMetricWarning: F-score is ill-defined and being set to 0.0 in labels with no predicted samples.\n",
      "  'precision', 'predicted', average, warn_for)\n",
      "C:\\Users\\jeka1\\Anaconda2\\envs\\py36\\lib\\site-packages\\sklearn\\metrics\\classification.py:1135: UndefinedMetricWarning: F-score is ill-defined and being set to 0.0 in labels with no predicted samples.\n",
      "  'precision', 'predicted', average, warn_for)\n",
      "C:\\Users\\jeka1\\Anaconda2\\envs\\py36\\lib\\site-packages\\sklearn\\metrics\\classification.py:1135: UndefinedMetricWarning: F-score is ill-defined and being set to 0.0 in labels with no predicted samples.\n",
      "  'precision', 'predicted', average, warn_for)\n",
      "C:\\Users\\jeka1\\Anaconda2\\envs\\py36\\lib\\site-packages\\sklearn\\metrics\\classification.py:1135: UndefinedMetricWarning: F-score is ill-defined and being set to 0.0 in labels with no predicted samples.\n",
      "  'precision', 'predicted', average, warn_for)\n",
      "C:\\Users\\jeka1\\Anaconda2\\envs\\py36\\lib\\site-packages\\sklearn\\metrics\\classification.py:1135: UndefinedMetricWarning: F-score is ill-defined and being set to 0.0 in labels with no predicted samples.\n",
      "  'precision', 'predicted', average, warn_for)\n",
      "C:\\Users\\jeka1\\Anaconda2\\envs\\py36\\lib\\site-packages\\sklearn\\metrics\\classification.py:1135: UndefinedMetricWarning: F-score is ill-defined and being set to 0.0 in labels with no predicted samples.\n",
      "  'precision', 'predicted', average, warn_for)\n",
      "C:\\Users\\jeka1\\Anaconda2\\envs\\py36\\lib\\site-packages\\sklearn\\metrics\\classification.py:1135: UndefinedMetricWarning: F-score is ill-defined and being set to 0.0 in labels with no predicted samples.\n",
      "  'precision', 'predicted', average, warn_for)\n",
      "C:\\Users\\jeka1\\Anaconda2\\envs\\py36\\lib\\site-packages\\sklearn\\metrics\\classification.py:1135: UndefinedMetricWarning: F-score is ill-defined and being set to 0.0 in labels with no predicted samples.\n",
      "  'precision', 'predicted', average, warn_for)\n",
      "C:\\Users\\jeka1\\Anaconda2\\envs\\py36\\lib\\site-packages\\sklearn\\metrics\\classification.py:1135: UndefinedMetricWarning: F-score is ill-defined and being set to 0.0 in labels with no predicted samples.\n",
      "  'precision', 'predicted', average, warn_for)\n",
      "C:\\Users\\jeka1\\Anaconda2\\envs\\py36\\lib\\site-packages\\sklearn\\metrics\\classification.py:1135: UndefinedMetricWarning: F-score is ill-defined and being set to 0.0 in labels with no predicted samples.\n",
      "  'precision', 'predicted', average, warn_for)\n"
     ]
    },
    {
     "name": "stdout",
     "output_type": "stream",
     "text": [
      "Counter({1: 132, 2: 39, 0: 19, 3: 4})\n",
      "Counter({1: 132, 0: 132, 2: 132, 3: 132})\n",
      "Counter({1: 124, 2: 46, 0: 21, 3: 3})\n",
      "Counter({1: 124, 0: 124, 2: 124, 3: 124})\n"
     ]
    },
    {
     "name": "stderr",
     "output_type": "stream",
     "text": [
      "C:\\Users\\jeka1\\Anaconda2\\envs\\py36\\lib\\site-packages\\sklearn\\metrics\\classification.py:1137: UndefinedMetricWarning: F-score is ill-defined and being set to 0.0 in labels with no true samples.\n",
      "  'recall', 'true', average, warn_for)\n",
      "C:\\Users\\jeka1\\Anaconda2\\envs\\py36\\lib\\site-packages\\sklearn\\metrics\\classification.py:1137: UndefinedMetricWarning: F-score is ill-defined and being set to 0.0 in labels with no true samples.\n",
      "  'recall', 'true', average, warn_for)\n",
      "C:\\Users\\jeka1\\Anaconda2\\envs\\py36\\lib\\site-packages\\sklearn\\metrics\\classification.py:1137: UndefinedMetricWarning: F-score is ill-defined and being set to 0.0 in labels with no true samples.\n",
      "  'recall', 'true', average, warn_for)\n",
      "C:\\Users\\jeka1\\Anaconda2\\envs\\py36\\lib\\site-packages\\sklearn\\metrics\\classification.py:1137: UndefinedMetricWarning: F-score is ill-defined and being set to 0.0 in labels with no true samples.\n",
      "  'recall', 'true', average, warn_for)\n",
      "C:\\Users\\jeka1\\Anaconda2\\envs\\py36\\lib\\site-packages\\sklearn\\metrics\\classification.py:1137: UndefinedMetricWarning: F-score is ill-defined and being set to 0.0 in labels with no true samples.\n",
      "  'recall', 'true', average, warn_for)\n",
      "C:\\Users\\jeka1\\Anaconda2\\envs\\py36\\lib\\site-packages\\sklearn\\metrics\\classification.py:1137: UndefinedMetricWarning: F-score is ill-defined and being set to 0.0 in labels with no true samples.\n",
      "  'recall', 'true', average, warn_for)\n"
     ]
    },
    {
     "name": "stdout",
     "output_type": "stream",
     "text": [
      "Counter({1: 128, 2: 41, 0: 22, 3: 3})\n",
      "Counter({1: 128, 0: 128, 2: 128, 3: 128})\n",
      "Counter({1: 126, 2: 43, 0: 22, 3: 3})\n",
      "Counter({1: 126, 0: 126, 2: 126, 3: 126})\n"
     ]
    },
    {
     "name": "stderr",
     "output_type": "stream",
     "text": [
      "C:\\Users\\jeka1\\Anaconda2\\envs\\py36\\lib\\site-packages\\sklearn\\metrics\\classification.py:1137: UndefinedMetricWarning: F-score is ill-defined and being set to 0.0 in labels with no true samples.\n",
      "  'recall', 'true', average, warn_for)\n",
      "C:\\Users\\jeka1\\Anaconda2\\envs\\py36\\lib\\site-packages\\sklearn\\metrics\\classification.py:1135: UndefinedMetricWarning: F-score is ill-defined and being set to 0.0 in labels with no predicted samples.\n",
      "  'precision', 'predicted', average, warn_for)\n",
      "C:\\Users\\jeka1\\Anaconda2\\envs\\py36\\lib\\site-packages\\sklearn\\metrics\\classification.py:1135: UndefinedMetricWarning: F-score is ill-defined and being set to 0.0 in labels with no predicted samples.\n",
      "  'precision', 'predicted', average, warn_for)\n",
      "C:\\Users\\jeka1\\Anaconda2\\envs\\py36\\lib\\site-packages\\sklearn\\metrics\\classification.py:1137: UndefinedMetricWarning: F-score is ill-defined and being set to 0.0 in labels with no true samples.\n",
      "  'recall', 'true', average, warn_for)\n",
      "C:\\Users\\jeka1\\Anaconda2\\envs\\py36\\lib\\site-packages\\sklearn\\metrics\\classification.py:1137: UndefinedMetricWarning: F-score is ill-defined and being set to 0.0 in labels with no true samples.\n",
      "  'recall', 'true', average, warn_for)\n",
      "C:\\Users\\jeka1\\Anaconda2\\envs\\py36\\lib\\site-packages\\sklearn\\metrics\\classification.py:1137: UndefinedMetricWarning: F-score is ill-defined and being set to 0.0 in labels with no true samples.\n",
      "  'recall', 'true', average, warn_for)\n"
     ]
    },
    {
     "name": "stdout",
     "output_type": "stream",
     "text": [
      "Counter({1: 128, 2: 41, 0: 21, 3: 4})\n",
      "Counter({1: 128, 0: 128, 2: 128, 3: 128})\n",
      "Counter({1: 129, 2: 41, 0: 21, 3: 3})\n",
      "Counter({1: 129, 0: 129, 2: 129, 3: 129})\n",
      "Counter({1: 130, 2: 43, 0: 18, 3: 3})\n",
      "Counter({1: 130, 0: 130, 2: 130, 3: 130})\n"
     ]
    },
    {
     "name": "stderr",
     "output_type": "stream",
     "text": [
      "C:\\Users\\jeka1\\Anaconda2\\envs\\py36\\lib\\site-packages\\sklearn\\metrics\\classification.py:1137: UndefinedMetricWarning: F-score is ill-defined and being set to 0.0 in labels with no true samples.\n",
      "  'recall', 'true', average, warn_for)\n",
      "C:\\Users\\jeka1\\Anaconda2\\envs\\py36\\lib\\site-packages\\sklearn\\metrics\\classification.py:1137: UndefinedMetricWarning: F-score is ill-defined and being set to 0.0 in labels with no true samples.\n",
      "  'recall', 'true', average, warn_for)\n",
      "C:\\Users\\jeka1\\Anaconda2\\envs\\py36\\lib\\site-packages\\sklearn\\metrics\\classification.py:1137: UndefinedMetricWarning: F-score is ill-defined and being set to 0.0 in labels with no true samples.\n",
      "  'recall', 'true', average, warn_for)\n",
      "C:\\Users\\jeka1\\Anaconda2\\envs\\py36\\lib\\site-packages\\sklearn\\metrics\\classification.py:1137: UndefinedMetricWarning: F-score is ill-defined and being set to 0.0 in labels with no true samples.\n",
      "  'recall', 'true', average, warn_for)\n",
      "C:\\Users\\jeka1\\Anaconda2\\envs\\py36\\lib\\site-packages\\sklearn\\metrics\\classification.py:1137: UndefinedMetricWarning: F-score is ill-defined and being set to 0.0 in labels with no true samples.\n",
      "  'recall', 'true', average, warn_for)\n",
      "C:\\Users\\jeka1\\Anaconda2\\envs\\py36\\lib\\site-packages\\sklearn\\metrics\\classification.py:1137: UndefinedMetricWarning: F-score is ill-defined and being set to 0.0 in labels with no true samples.\n",
      "  'recall', 'true', average, warn_for)\n",
      "C:\\Users\\jeka1\\Anaconda2\\envs\\py36\\lib\\site-packages\\sklearn\\metrics\\classification.py:1137: UndefinedMetricWarning: F-score is ill-defined and being set to 0.0 in labels with no true samples.\n",
      "  'recall', 'true', average, warn_for)\n"
     ]
    },
    {
     "name": "stdout",
     "output_type": "stream",
     "text": [
      "Counter({1: 129, 2: 42, 0: 21, 3: 2})\n",
      "Counter({1: 129, 0: 129, 2: 129, 3: 129})\n",
      "Counter({1: 125, 2: 46, 0: 21, 3: 2})\n",
      "Counter({1: 125, 0: 125, 2: 125, 3: 125})\n",
      "Counter({1: 129, 2: 43, 0: 19, 3: 3})\n",
      "Counter({1: 129, 0: 129, 2: 129, 3: 129})\n"
     ]
    },
    {
     "name": "stderr",
     "output_type": "stream",
     "text": [
      "C:\\Users\\jeka1\\Anaconda2\\envs\\py36\\lib\\site-packages\\sklearn\\metrics\\classification.py:1137: UndefinedMetricWarning: F-score is ill-defined and being set to 0.0 in labels with no true samples.\n",
      "  'recall', 'true', average, warn_for)\n",
      "C:\\Users\\jeka1\\Anaconda2\\envs\\py36\\lib\\site-packages\\sklearn\\metrics\\classification.py:1137: UndefinedMetricWarning: F-score is ill-defined and being set to 0.0 in labels with no true samples.\n",
      "  'recall', 'true', average, warn_for)\n",
      "C:\\Users\\jeka1\\Anaconda2\\envs\\py36\\lib\\site-packages\\sklearn\\metrics\\classification.py:1137: UndefinedMetricWarning: F-score is ill-defined and being set to 0.0 in labels with no true samples.\n",
      "  'recall', 'true', average, warn_for)\n",
      "C:\\Users\\jeka1\\Anaconda2\\envs\\py36\\lib\\site-packages\\sklearn\\metrics\\classification.py:1137: UndefinedMetricWarning: F-score is ill-defined and being set to 0.0 in labels with no true samples.\n",
      "  'recall', 'true', average, warn_for)\n",
      "C:\\Users\\jeka1\\Anaconda2\\envs\\py36\\lib\\site-packages\\sklearn\\metrics\\classification.py:1137: UndefinedMetricWarning: F-score is ill-defined and being set to 0.0 in labels with no true samples.\n",
      "  'recall', 'true', average, warn_for)\n",
      "C:\\Users\\jeka1\\Anaconda2\\envs\\py36\\lib\\site-packages\\sklearn\\metrics\\classification.py:1137: UndefinedMetricWarning: F-score is ill-defined and being set to 0.0 in labels with no true samples.\n",
      "  'recall', 'true', average, warn_for)\n",
      "C:\\Users\\jeka1\\Anaconda2\\envs\\py36\\lib\\site-packages\\sklearn\\metrics\\classification.py:1137: UndefinedMetricWarning: F-score is ill-defined and being set to 0.0 in labels with no true samples.\n",
      "  'recall', 'true', average, warn_for)\n",
      "C:\\Users\\jeka1\\Anaconda2\\envs\\py36\\lib\\site-packages\\sklearn\\metrics\\classification.py:1135: UndefinedMetricWarning: F-score is ill-defined and being set to 0.0 in labels with no predicted samples.\n",
      "  'precision', 'predicted', average, warn_for)\n"
     ]
    },
    {
     "name": "stdout",
     "output_type": "stream",
     "text": [
      "Counter({1: 127, 2: 43, 0: 20, 3: 4})\n",
      "Counter({1: 127, 0: 127, 2: 127, 3: 127})\n",
      "Counter({1: 122, 2: 45, 0: 24, 3: 3})\n",
      "Counter({1: 122, 0: 122, 2: 122, 3: 122})\n"
     ]
    },
    {
     "name": "stderr",
     "output_type": "stream",
     "text": [
      "C:\\Users\\jeka1\\Anaconda2\\envs\\py36\\lib\\site-packages\\sklearn\\metrics\\classification.py:1135: UndefinedMetricWarning: F-score is ill-defined and being set to 0.0 in labels with no predicted samples.\n",
      "  'precision', 'predicted', average, warn_for)\n",
      "C:\\Users\\jeka1\\Anaconda2\\envs\\py36\\lib\\site-packages\\sklearn\\metrics\\classification.py:1137: UndefinedMetricWarning: F-score is ill-defined and being set to 0.0 in labels with no true samples.\n",
      "  'recall', 'true', average, warn_for)\n",
      "C:\\Users\\jeka1\\Anaconda2\\envs\\py36\\lib\\site-packages\\sklearn\\metrics\\classification.py:1137: UndefinedMetricWarning: F-score is ill-defined and being set to 0.0 in labels with no true samples.\n",
      "  'recall', 'true', average, warn_for)\n"
     ]
    },
    {
     "name": "stdout",
     "output_type": "stream",
     "text": [
      "Counter({1: 124, 2: 47, 0: 20, 3: 3})\n",
      "Counter({1: 124, 0: 124, 2: 124, 3: 124})\n",
      "Counter({1: 132, 2: 41, 0: 18, 3: 3})\n",
      "Counter({1: 132, 0: 132, 2: 132, 3: 132})\n"
     ]
    },
    {
     "name": "stderr",
     "output_type": "stream",
     "text": [
      "C:\\Users\\jeka1\\Anaconda2\\envs\\py36\\lib\\site-packages\\sklearn\\metrics\\classification.py:1137: UndefinedMetricWarning: F-score is ill-defined and being set to 0.0 in labels with no true samples.\n",
      "  'recall', 'true', average, warn_for)\n",
      "C:\\Users\\jeka1\\Anaconda2\\envs\\py36\\lib\\site-packages\\sklearn\\metrics\\classification.py:1137: UndefinedMetricWarning: F-score is ill-defined and being set to 0.0 in labels with no true samples.\n",
      "  'recall', 'true', average, warn_for)\n",
      "C:\\Users\\jeka1\\Anaconda2\\envs\\py36\\lib\\site-packages\\sklearn\\metrics\\classification.py:1137: UndefinedMetricWarning: F-score is ill-defined and being set to 0.0 in labels with no true samples.\n",
      "  'recall', 'true', average, warn_for)\n",
      "C:\\Users\\jeka1\\Anaconda2\\envs\\py36\\lib\\site-packages\\sklearn\\metrics\\classification.py:1137: UndefinedMetricWarning: F-score is ill-defined and being set to 0.0 in labels with no true samples.\n",
      "  'recall', 'true', average, warn_for)\n",
      "C:\\Users\\jeka1\\Anaconda2\\envs\\py36\\lib\\site-packages\\sklearn\\metrics\\classification.py:1137: UndefinedMetricWarning: F-score is ill-defined and being set to 0.0 in labels with no true samples.\n",
      "  'recall', 'true', average, warn_for)\n",
      "C:\\Users\\jeka1\\Anaconda2\\envs\\py36\\lib\\site-packages\\sklearn\\metrics\\classification.py:1137: UndefinedMetricWarning: F-score is ill-defined and being set to 0.0 in labels with no true samples.\n",
      "  'recall', 'true', average, warn_for)\n",
      "C:\\Users\\jeka1\\Anaconda2\\envs\\py36\\lib\\site-packages\\sklearn\\metrics\\classification.py:1137: UndefinedMetricWarning: F-score is ill-defined and being set to 0.0 in labels with no true samples.\n",
      "  'recall', 'true', average, warn_for)\n"
     ]
    },
    {
     "name": "stdout",
     "output_type": "stream",
     "text": [
      "Counter({1: 128, 2: 40, 0: 23, 3: 3})\n",
      "Counter({1: 128, 0: 128, 2: 128, 3: 128})\n",
      "Counter({1: 130, 2: 45, 0: 17, 3: 2})\n",
      "Counter({1: 130, 0: 130, 2: 130, 3: 130})\n"
     ]
    },
    {
     "name": "stderr",
     "output_type": "stream",
     "text": [
      "C:\\Users\\jeka1\\Anaconda2\\envs\\py36\\lib\\site-packages\\sklearn\\metrics\\classification.py:1137: UndefinedMetricWarning: F-score is ill-defined and being set to 0.0 in labels with no true samples.\n",
      "  'recall', 'true', average, warn_for)\n",
      "C:\\Users\\jeka1\\Anaconda2\\envs\\py36\\lib\\site-packages\\sklearn\\metrics\\classification.py:1137: UndefinedMetricWarning: F-score is ill-defined and being set to 0.0 in labels with no true samples.\n",
      "  'recall', 'true', average, warn_for)\n",
      "C:\\Users\\jeka1\\Anaconda2\\envs\\py36\\lib\\site-packages\\sklearn\\metrics\\classification.py:1135: UndefinedMetricWarning: F-score is ill-defined and being set to 0.0 in labels with no predicted samples.\n",
      "  'precision', 'predicted', average, warn_for)\n",
      "C:\\Users\\jeka1\\Anaconda2\\envs\\py36\\lib\\site-packages\\sklearn\\metrics\\classification.py:1135: UndefinedMetricWarning: F-score is ill-defined and being set to 0.0 in labels with no predicted samples.\n",
      "  'precision', 'predicted', average, warn_for)\n",
      "C:\\Users\\jeka1\\Anaconda2\\envs\\py36\\lib\\site-packages\\sklearn\\metrics\\classification.py:1135: UndefinedMetricWarning: F-score is ill-defined and being set to 0.0 in labels with no predicted samples.\n",
      "  'precision', 'predicted', average, warn_for)\n",
      "C:\\Users\\jeka1\\Anaconda2\\envs\\py36\\lib\\site-packages\\sklearn\\metrics\\classification.py:1135: UndefinedMetricWarning: F-score is ill-defined and being set to 0.0 in labels with no predicted samples.\n",
      "  'precision', 'predicted', average, warn_for)\n",
      "C:\\Users\\jeka1\\Anaconda2\\envs\\py36\\lib\\site-packages\\sklearn\\metrics\\classification.py:1135: UndefinedMetricWarning: F-score is ill-defined and being set to 0.0 in labels with no predicted samples.\n",
      "  'precision', 'predicted', average, warn_for)\n",
      "C:\\Users\\jeka1\\Anaconda2\\envs\\py36\\lib\\site-packages\\sklearn\\metrics\\classification.py:1135: UndefinedMetricWarning: F-score is ill-defined and being set to 0.0 in labels with no predicted samples.\n",
      "  'precision', 'predicted', average, warn_for)\n",
      "C:\\Users\\jeka1\\Anaconda2\\envs\\py36\\lib\\site-packages\\sklearn\\metrics\\classification.py:1135: UndefinedMetricWarning: F-score is ill-defined and being set to 0.0 in labels with no predicted samples.\n",
      "  'precision', 'predicted', average, warn_for)\n"
     ]
    },
    {
     "name": "stdout",
     "output_type": "stream",
     "text": [
      "Counter({1: 127, 2: 42, 0: 21, 3: 4})\n",
      "Counter({1: 127, 0: 127, 2: 127, 3: 127})\n",
      "Counter({1: 128, 2: 44, 0: 18, 3: 4})\n",
      "Counter({1: 128, 0: 128, 2: 128, 3: 128})\n",
      "Counter({1: 126, 2: 44, 0: 21, 3: 3})\n",
      "Counter({1: 126, 0: 126, 2: 126, 3: 126})\n",
      "Counter({1: 131, 2: 41, 0: 18, 3: 4})\n",
      "Counter({1: 131, 0: 131, 2: 131, 3: 131})\n"
     ]
    },
    {
     "name": "stderr",
     "output_type": "stream",
     "text": [
      "C:\\Users\\jeka1\\Anaconda2\\envs\\py36\\lib\\site-packages\\sklearn\\metrics\\classification.py:1137: UndefinedMetricWarning: F-score is ill-defined and being set to 0.0 in labels with no true samples.\n",
      "  'recall', 'true', average, warn_for)\n",
      "C:\\Users\\jeka1\\Anaconda2\\envs\\py36\\lib\\site-packages\\sklearn\\metrics\\classification.py:1137: UndefinedMetricWarning: F-score is ill-defined and being set to 0.0 in labels with no true samples.\n",
      "  'recall', 'true', average, warn_for)\n",
      "C:\\Users\\jeka1\\Anaconda2\\envs\\py36\\lib\\site-packages\\sklearn\\metrics\\classification.py:1137: UndefinedMetricWarning: F-score is ill-defined and being set to 0.0 in labels with no true samples.\n",
      "  'recall', 'true', average, warn_for)\n",
      "C:\\Users\\jeka1\\Anaconda2\\envs\\py36\\lib\\site-packages\\sklearn\\metrics\\classification.py:1135: UndefinedMetricWarning: F-score is ill-defined and being set to 0.0 in labels with no predicted samples.\n",
      "  'precision', 'predicted', average, warn_for)\n",
      "C:\\Users\\jeka1\\Anaconda2\\envs\\py36\\lib\\site-packages\\sklearn\\metrics\\classification.py:1135: UndefinedMetricWarning: F-score is ill-defined and being set to 0.0 in labels with no predicted samples.\n",
      "  'precision', 'predicted', average, warn_for)\n",
      "C:\\Users\\jeka1\\Anaconda2\\envs\\py36\\lib\\site-packages\\sklearn\\metrics\\classification.py:1135: UndefinedMetricWarning: F-score is ill-defined and being set to 0.0 in labels with no predicted samples.\n",
      "  'precision', 'predicted', average, warn_for)\n"
     ]
    },
    {
     "name": "stdout",
     "output_type": "stream",
     "text": [
      "Counter({1: 127, 2: 43, 0: 21, 3: 3})\n",
      "Counter({1: 127, 0: 127, 2: 127, 3: 127})\n",
      "Counter({1: 129, 2: 42, 0: 19, 3: 4})\n",
      "Counter({1: 129, 0: 129, 2: 129, 3: 129})\n"
     ]
    },
    {
     "name": "stderr",
     "output_type": "stream",
     "text": [
      "C:\\Users\\jeka1\\Anaconda2\\envs\\py36\\lib\\site-packages\\sklearn\\metrics\\classification.py:1137: UndefinedMetricWarning: F-score is ill-defined and being set to 0.0 in labels with no true samples.\n",
      "  'recall', 'true', average, warn_for)\n",
      "C:\\Users\\jeka1\\Anaconda2\\envs\\py36\\lib\\site-packages\\sklearn\\metrics\\classification.py:1137: UndefinedMetricWarning: F-score is ill-defined and being set to 0.0 in labels with no true samples.\n",
      "  'recall', 'true', average, warn_for)\n",
      "C:\\Users\\jeka1\\Anaconda2\\envs\\py36\\lib\\site-packages\\sklearn\\metrics\\classification.py:1135: UndefinedMetricWarning: F-score is ill-defined and being set to 0.0 in labels with no predicted samples.\n",
      "  'precision', 'predicted', average, warn_for)\n",
      "C:\\Users\\jeka1\\Anaconda2\\envs\\py36\\lib\\site-packages\\sklearn\\metrics\\classification.py:1135: UndefinedMetricWarning: F-score is ill-defined and being set to 0.0 in labels with no predicted samples.\n",
      "  'precision', 'predicted', average, warn_for)\n"
     ]
    },
    {
     "name": "stdout",
     "output_type": "stream",
     "text": [
      "Counter({1: 128, 2: 45, 0: 18, 3: 3})\n",
      "Counter({1: 128, 0: 128, 2: 128, 3: 128})\n",
      "Counter({1: 132, 2: 41, 0: 17, 3: 4})\n",
      "Counter({1: 132, 0: 132, 2: 132, 3: 132})\n"
     ]
    },
    {
     "name": "stderr",
     "output_type": "stream",
     "text": [
      "C:\\Users\\jeka1\\Anaconda2\\envs\\py36\\lib\\site-packages\\sklearn\\metrics\\classification.py:1137: UndefinedMetricWarning: F-score is ill-defined and being set to 0.0 in labels with no true samples.\n",
      "  'recall', 'true', average, warn_for)\n",
      "C:\\Users\\jeka1\\Anaconda2\\envs\\py36\\lib\\site-packages\\sklearn\\metrics\\classification.py:1137: UndefinedMetricWarning: F-score is ill-defined and being set to 0.0 in labels with no true samples.\n",
      "  'recall', 'true', average, warn_for)\n",
      "C:\\Users\\jeka1\\Anaconda2\\envs\\py36\\lib\\site-packages\\sklearn\\metrics\\classification.py:1135: UndefinedMetricWarning: F-score is ill-defined and being set to 0.0 in labels with no predicted samples.\n",
      "  'precision', 'predicted', average, warn_for)\n",
      "C:\\Users\\jeka1\\Anaconda2\\envs\\py36\\lib\\site-packages\\sklearn\\metrics\\classification.py:1135: UndefinedMetricWarning: F-score is ill-defined and being set to 0.0 in labels with no predicted samples.\n",
      "  'precision', 'predicted', average, warn_for)\n",
      "C:\\Users\\jeka1\\Anaconda2\\envs\\py36\\lib\\site-packages\\sklearn\\metrics\\classification.py:1135: UndefinedMetricWarning: F-score is ill-defined and being set to 0.0 in labels with no predicted samples.\n",
      "  'precision', 'predicted', average, warn_for)\n",
      "C:\\Users\\jeka1\\Anaconda2\\envs\\py36\\lib\\site-packages\\sklearn\\metrics\\classification.py:1135: UndefinedMetricWarning: F-score is ill-defined and being set to 0.0 in labels with no predicted samples.\n",
      "  'precision', 'predicted', average, warn_for)\n"
     ]
    },
    {
     "name": "stdout",
     "output_type": "stream",
     "text": [
      "Counter({1: 126, 2: 44, 0: 20, 3: 4})\n",
      "Counter({1: 126, 0: 126, 2: 126, 3: 126})\n",
      "Counter({1: 129, 2: 39, 0: 23, 3: 3})\n",
      "Counter({1: 129, 0: 129, 2: 129, 3: 129})\n"
     ]
    },
    {
     "name": "stderr",
     "output_type": "stream",
     "text": [
      "C:\\Users\\jeka1\\Anaconda2\\envs\\py36\\lib\\site-packages\\sklearn\\metrics\\classification.py:1137: UndefinedMetricWarning: F-score is ill-defined and being set to 0.0 in labels with no true samples.\n",
      "  'recall', 'true', average, warn_for)\n",
      "C:\\Users\\jeka1\\Anaconda2\\envs\\py36\\lib\\site-packages\\sklearn\\metrics\\classification.py:1137: UndefinedMetricWarning: F-score is ill-defined and being set to 0.0 in labels with no true samples.\n",
      "  'recall', 'true', average, warn_for)\n",
      "C:\\Users\\jeka1\\Anaconda2\\envs\\py36\\lib\\site-packages\\sklearn\\metrics\\classification.py:1135: UndefinedMetricWarning: F-score is ill-defined and being set to 0.0 in labels with no predicted samples.\n",
      "  'precision', 'predicted', average, warn_for)\n",
      "C:\\Users\\jeka1\\Anaconda2\\envs\\py36\\lib\\site-packages\\sklearn\\metrics\\classification.py:1135: UndefinedMetricWarning: F-score is ill-defined and being set to 0.0 in labels with no predicted samples.\n",
      "  'precision', 'predicted', average, warn_for)\n",
      "C:\\Users\\jeka1\\Anaconda2\\envs\\py36\\lib\\site-packages\\sklearn\\metrics\\classification.py:1135: UndefinedMetricWarning: F-score is ill-defined and being set to 0.0 in labels with no predicted samples.\n",
      "  'precision', 'predicted', average, warn_for)\n",
      "C:\\Users\\jeka1\\Anaconda2\\envs\\py36\\lib\\site-packages\\sklearn\\metrics\\classification.py:1135: UndefinedMetricWarning: F-score is ill-defined and being set to 0.0 in labels with no predicted samples.\n",
      "  'precision', 'predicted', average, warn_for)\n"
     ]
    },
    {
     "name": "stdout",
     "output_type": "stream",
     "text": [
      "Counter({1: 128, 2: 42, 0: 20, 3: 4})\n",
      "Counter({1: 128, 0: 128, 2: 128, 3: 128})\n",
      "Counter({1: 126, 2: 44, 0: 20, 3: 4})\n",
      "Counter({1: 126, 0: 126, 2: 126, 3: 126})\n",
      "Counter({1: 126, 2: 44, 0: 20, 3: 4})\n",
      "Counter({1: 126, 0: 126, 2: 126, 3: 126})\n"
     ]
    },
    {
     "name": "stderr",
     "output_type": "stream",
     "text": [
      "C:\\Users\\jeka1\\Anaconda2\\envs\\py36\\lib\\site-packages\\sklearn\\metrics\\classification.py:1137: UndefinedMetricWarning: F-score is ill-defined and being set to 0.0 in labels with no true samples.\n",
      "  'recall', 'true', average, warn_for)\n",
      "C:\\Users\\jeka1\\Anaconda2\\envs\\py36\\lib\\site-packages\\sklearn\\metrics\\classification.py:1135: UndefinedMetricWarning: F-score is ill-defined and being set to 0.0 in labels with no predicted samples.\n",
      "  'precision', 'predicted', average, warn_for)\n",
      "C:\\Users\\jeka1\\Anaconda2\\envs\\py36\\lib\\site-packages\\sklearn\\metrics\\classification.py:1135: UndefinedMetricWarning: F-score is ill-defined and being set to 0.0 in labels with no predicted samples.\n",
      "  'precision', 'predicted', average, warn_for)\n",
      "C:\\Users\\jeka1\\Anaconda2\\envs\\py36\\lib\\site-packages\\sklearn\\metrics\\classification.py:1137: UndefinedMetricWarning: F-score is ill-defined and being set to 0.0 in labels with no true samples.\n",
      "  'recall', 'true', average, warn_for)\n"
     ]
    },
    {
     "name": "stdout",
     "output_type": "stream",
     "text": [
      "Counter({1: 128, 2: 45, 0: 18, 3: 3})\n",
      "Counter({1: 128, 0: 128, 2: 128, 3: 128})\n",
      "Counter({1: 125, 2: 45, 0: 20, 3: 4})\n",
      "Counter({1: 125, 0: 125, 2: 125, 3: 125})\n"
     ]
    },
    {
     "name": "stderr",
     "output_type": "stream",
     "text": [
      "C:\\Users\\jeka1\\Anaconda2\\envs\\py36\\lib\\site-packages\\sklearn\\metrics\\classification.py:1137: UndefinedMetricWarning: F-score is ill-defined and being set to 0.0 in labels with no true samples.\n",
      "  'recall', 'true', average, warn_for)\n",
      "C:\\Users\\jeka1\\Anaconda2\\envs\\py36\\lib\\site-packages\\sklearn\\metrics\\classification.py:1135: UndefinedMetricWarning: F-score is ill-defined and being set to 0.0 in labels with no predicted samples.\n",
      "  'precision', 'predicted', average, warn_for)\n",
      "C:\\Users\\jeka1\\Anaconda2\\envs\\py36\\lib\\site-packages\\sklearn\\metrics\\classification.py:1135: UndefinedMetricWarning: F-score is ill-defined and being set to 0.0 in labels with no predicted samples.\n",
      "  'precision', 'predicted', average, warn_for)\n",
      "C:\\Users\\jeka1\\Anaconda2\\envs\\py36\\lib\\site-packages\\sklearn\\metrics\\classification.py:1135: UndefinedMetricWarning: F-score is ill-defined and being set to 0.0 in labels with no predicted samples.\n",
      "  'precision', 'predicted', average, warn_for)\n",
      "C:\\Users\\jeka1\\Anaconda2\\envs\\py36\\lib\\site-packages\\sklearn\\metrics\\classification.py:1135: UndefinedMetricWarning: F-score is ill-defined and being set to 0.0 in labels with no predicted samples.\n",
      "  'precision', 'predicted', average, warn_for)\n",
      "C:\\Users\\jeka1\\Anaconda2\\envs\\py36\\lib\\site-packages\\sklearn\\metrics\\classification.py:1137: UndefinedMetricWarning: F-score is ill-defined and being set to 0.0 in labels with no true samples.\n",
      "  'recall', 'true', average, warn_for)\n"
     ]
    },
    {
     "name": "stdout",
     "output_type": "stream",
     "text": [
      "Counter({1: 127, 2: 44, 0: 19, 3: 4})\n",
      "Counter({1: 127, 0: 127, 2: 127, 3: 127})\n",
      "Counter({1: 132, 2: 39, 0: 21, 3: 2})\n",
      "Counter({1: 132, 0: 132, 2: 132, 3: 132})\n"
     ]
    },
    {
     "name": "stderr",
     "output_type": "stream",
     "text": [
      "C:\\Users\\jeka1\\Anaconda2\\envs\\py36\\lib\\site-packages\\sklearn\\metrics\\classification.py:1137: UndefinedMetricWarning: F-score is ill-defined and being set to 0.0 in labels with no true samples.\n",
      "  'recall', 'true', average, warn_for)\n",
      "C:\\Users\\jeka1\\Anaconda2\\envs\\py36\\lib\\site-packages\\sklearn\\metrics\\classification.py:1137: UndefinedMetricWarning: F-score is ill-defined and being set to 0.0 in labels with no true samples.\n",
      "  'recall', 'true', average, warn_for)\n",
      "C:\\Users\\jeka1\\Anaconda2\\envs\\py36\\lib\\site-packages\\sklearn\\metrics\\classification.py:1135: UndefinedMetricWarning: F-score is ill-defined and being set to 0.0 in labels with no predicted samples.\n",
      "  'precision', 'predicted', average, warn_for)\n",
      "C:\\Users\\jeka1\\Anaconda2\\envs\\py36\\lib\\site-packages\\sklearn\\metrics\\classification.py:1135: UndefinedMetricWarning: F-score is ill-defined and being set to 0.0 in labels with no predicted samples.\n",
      "  'precision', 'predicted', average, warn_for)\n",
      "C:\\Users\\jeka1\\Anaconda2\\envs\\py36\\lib\\site-packages\\sklearn\\metrics\\classification.py:1135: UndefinedMetricWarning: F-score is ill-defined and being set to 0.0 in labels with no predicted samples.\n",
      "  'precision', 'predicted', average, warn_for)\n",
      "C:\\Users\\jeka1\\Anaconda2\\envs\\py36\\lib\\site-packages\\sklearn\\metrics\\classification.py:1135: UndefinedMetricWarning: F-score is ill-defined and being set to 0.0 in labels with no predicted samples.\n",
      "  'precision', 'predicted', average, warn_for)\n",
      "C:\\Users\\jeka1\\Anaconda2\\envs\\py36\\lib\\site-packages\\sklearn\\metrics\\classification.py:1137: UndefinedMetricWarning: F-score is ill-defined and being set to 0.0 in labels with no true samples.\n",
      "  'recall', 'true', average, warn_for)\n"
     ]
    },
    {
     "name": "stdout",
     "output_type": "stream",
     "text": [
      "Counter({1: 131, 2: 41, 0: 18, 3: 4})\n",
      "Counter({1: 131, 0: 131, 2: 131, 3: 131})\n",
      "Counter({1: 130, 2: 40, 0: 21, 3: 3})\n",
      "Counter({1: 130, 0: 130, 2: 130, 3: 130})\n",
      "Counter({1: 130, 2: 40, 0: 21, 3: 3})\n",
      "Counter({1: 130, 0: 130, 2: 130, 3: 130})\n",
      "Counter({1: 122, 2: 48, 0: 20, 3: 4})\n",
      "Counter({1: 122, 0: 122, 2: 122, 3: 122})\n",
      "Counter({1: 127, 2: 44, 0: 19, 3: 4})\n",
      "Counter({1: 127, 0: 127, 2: 127, 3: 127})\n"
     ]
    },
    {
     "name": "stderr",
     "output_type": "stream",
     "text": [
      "C:\\Users\\jeka1\\Anaconda2\\envs\\py36\\lib\\site-packages\\sklearn\\metrics\\classification.py:1135: UndefinedMetricWarning: F-score is ill-defined and being set to 0.0 in labels with no predicted samples.\n",
      "  'precision', 'predicted', average, warn_for)\n",
      "C:\\Users\\jeka1\\Anaconda2\\envs\\py36\\lib\\site-packages\\sklearn\\metrics\\classification.py:1135: UndefinedMetricWarning: F-score is ill-defined and being set to 0.0 in labels with no predicted samples.\n",
      "  'precision', 'predicted', average, warn_for)\n",
      "C:\\Users\\jeka1\\Anaconda2\\envs\\py36\\lib\\site-packages\\sklearn\\metrics\\classification.py:1135: UndefinedMetricWarning: F-score is ill-defined and being set to 0.0 in labels with no predicted samples.\n",
      "  'precision', 'predicted', average, warn_for)\n",
      "C:\\Users\\jeka1\\Anaconda2\\envs\\py36\\lib\\site-packages\\sklearn\\metrics\\classification.py:1135: UndefinedMetricWarning: F-score is ill-defined and being set to 0.0 in labels with no predicted samples.\n",
      "  'precision', 'predicted', average, warn_for)\n"
     ]
    },
    {
     "name": "stdout",
     "output_type": "stream",
     "text": [
      "Counter({1: 127, 2: 43, 0: 20, 3: 4})\n",
      "Counter({1: 127, 0: 127, 2: 127, 3: 127})\n"
     ]
    },
    {
     "name": "stderr",
     "output_type": "stream",
     "text": [
      "C:\\Users\\jeka1\\Anaconda2\\envs\\py36\\lib\\site-packages\\sklearn\\metrics\\classification.py:1135: UndefinedMetricWarning: F-score is ill-defined and being set to 0.0 in labels with no predicted samples.\n",
      "  'precision', 'predicted', average, warn_for)\n",
      "C:\\Users\\jeka1\\Anaconda2\\envs\\py36\\lib\\site-packages\\sklearn\\metrics\\classification.py:1135: UndefinedMetricWarning: F-score is ill-defined and being set to 0.0 in labels with no predicted samples.\n",
      "  'precision', 'predicted', average, warn_for)\n"
     ]
    },
    {
     "name": "stdout",
     "output_type": "stream",
     "text": [
      "Counter({1: 126, 2: 44, 0: 21, 3: 3})\n",
      "Counter({1: 126, 0: 126, 2: 126, 3: 126})\n",
      "Counter({1: 127, 2: 41, 0: 22, 3: 4})\n",
      "Counter({1: 127, 0: 127, 2: 127, 3: 127})\n"
     ]
    },
    {
     "name": "stderr",
     "output_type": "stream",
     "text": [
      "C:\\Users\\jeka1\\Anaconda2\\envs\\py36\\lib\\site-packages\\sklearn\\metrics\\classification.py:1137: UndefinedMetricWarning: F-score is ill-defined and being set to 0.0 in labels with no true samples.\n",
      "  'recall', 'true', average, warn_for)\n",
      "C:\\Users\\jeka1\\Anaconda2\\envs\\py36\\lib\\site-packages\\sklearn\\metrics\\classification.py:1137: UndefinedMetricWarning: F-score is ill-defined and being set to 0.0 in labels with no true samples.\n",
      "  'recall', 'true', average, warn_for)\n",
      "C:\\Users\\jeka1\\Anaconda2\\envs\\py36\\lib\\site-packages\\sklearn\\metrics\\classification.py:1137: UndefinedMetricWarning: F-score is ill-defined and being set to 0.0 in labels with no true samples.\n",
      "  'recall', 'true', average, warn_for)\n",
      "C:\\Users\\jeka1\\Anaconda2\\envs\\py36\\lib\\site-packages\\sklearn\\metrics\\classification.py:1135: UndefinedMetricWarning: F-score is ill-defined and being set to 0.0 in labels with no predicted samples.\n",
      "  'precision', 'predicted', average, warn_for)\n",
      "C:\\Users\\jeka1\\Anaconda2\\envs\\py36\\lib\\site-packages\\sklearn\\metrics\\classification.py:1135: UndefinedMetricWarning: F-score is ill-defined and being set to 0.0 in labels with no predicted samples.\n",
      "  'precision', 'predicted', average, warn_for)\n",
      "C:\\Users\\jeka1\\Anaconda2\\envs\\py36\\lib\\site-packages\\sklearn\\metrics\\classification.py:1135: UndefinedMetricWarning: F-score is ill-defined and being set to 0.0 in labels with no predicted samples.\n",
      "  'precision', 'predicted', average, warn_for)\n",
      "C:\\Users\\jeka1\\Anaconda2\\envs\\py36\\lib\\site-packages\\sklearn\\metrics\\classification.py:1135: UndefinedMetricWarning: F-score is ill-defined and being set to 0.0 in labels with no predicted samples.\n",
      "  'precision', 'predicted', average, warn_for)\n",
      "C:\\Users\\jeka1\\Anaconda2\\envs\\py36\\lib\\site-packages\\sklearn\\metrics\\classification.py:1135: UndefinedMetricWarning: F-score is ill-defined and being set to 0.0 in labels with no predicted samples.\n",
      "  'precision', 'predicted', average, warn_for)\n",
      "C:\\Users\\jeka1\\Anaconda2\\envs\\py36\\lib\\site-packages\\sklearn\\metrics\\classification.py:1135: UndefinedMetricWarning: F-score is ill-defined and being set to 0.0 in labels with no predicted samples.\n",
      "  'precision', 'predicted', average, warn_for)\n"
     ]
    },
    {
     "name": "stdout",
     "output_type": "stream",
     "text": [
      "Counter({1: 123, 2: 45, 0: 22, 3: 4})\n",
      "Counter({1: 123, 0: 123, 2: 123, 3: 123})\n",
      "Counter({1: 130, 2: 36, 0: 24, 3: 4})\n",
      "Counter({1: 130, 0: 130, 2: 130, 3: 130})\n"
     ]
    },
    {
     "name": "stderr",
     "output_type": "stream",
     "text": [
      "C:\\Users\\jeka1\\Anaconda2\\envs\\py36\\lib\\site-packages\\sklearn\\metrics\\classification.py:1135: UndefinedMetricWarning: F-score is ill-defined and being set to 0.0 in labels with no predicted samples.\n",
      "  'precision', 'predicted', average, warn_for)\n",
      "C:\\Users\\jeka1\\Anaconda2\\envs\\py36\\lib\\site-packages\\sklearn\\metrics\\classification.py:1135: UndefinedMetricWarning: F-score is ill-defined and being set to 0.0 in labels with no predicted samples.\n",
      "  'precision', 'predicted', average, warn_for)\n",
      "C:\\Users\\jeka1\\Anaconda2\\envs\\py36\\lib\\site-packages\\sklearn\\metrics\\classification.py:1135: UndefinedMetricWarning: F-score is ill-defined and being set to 0.0 in labels with no predicted samples.\n",
      "  'precision', 'predicted', average, warn_for)\n",
      "C:\\Users\\jeka1\\Anaconda2\\envs\\py36\\lib\\site-packages\\sklearn\\metrics\\classification.py:1135: UndefinedMetricWarning: F-score is ill-defined and being set to 0.0 in labels with no predicted samples.\n",
      "  'precision', 'predicted', average, warn_for)\n"
     ]
    },
    {
     "name": "stdout",
     "output_type": "stream",
     "text": [
      "Counter({1: 128, 2: 42, 0: 20, 3: 4})\n",
      "Counter({1: 128, 0: 128, 2: 128, 3: 128})\n",
      "Counter({1: 128, 2: 44, 0: 19, 3: 3})\n",
      "Counter({1: 128, 0: 128, 2: 128, 3: 128})\n"
     ]
    },
    {
     "name": "stderr",
     "output_type": "stream",
     "text": [
      "C:\\Users\\jeka1\\Anaconda2\\envs\\py36\\lib\\site-packages\\sklearn\\metrics\\classification.py:1135: UndefinedMetricWarning: F-score is ill-defined and being set to 0.0 in labels with no predicted samples.\n",
      "  'precision', 'predicted', average, warn_for)\n",
      "C:\\Users\\jeka1\\Anaconda2\\envs\\py36\\lib\\site-packages\\sklearn\\metrics\\classification.py:1135: UndefinedMetricWarning: F-score is ill-defined and being set to 0.0 in labels with no predicted samples.\n",
      "  'precision', 'predicted', average, warn_for)\n",
      "C:\\Users\\jeka1\\Anaconda2\\envs\\py36\\lib\\site-packages\\sklearn\\metrics\\classification.py:1137: UndefinedMetricWarning: F-score is ill-defined and being set to 0.0 in labels with no true samples.\n",
      "  'recall', 'true', average, warn_for)\n",
      "C:\\Users\\jeka1\\Anaconda2\\envs\\py36\\lib\\site-packages\\sklearn\\metrics\\classification.py:1137: UndefinedMetricWarning: F-score is ill-defined and being set to 0.0 in labels with no true samples.\n",
      "  'recall', 'true', average, warn_for)\n",
      "C:\\Users\\jeka1\\Anaconda2\\envs\\py36\\lib\\site-packages\\sklearn\\metrics\\classification.py:1137: UndefinedMetricWarning: F-score is ill-defined and being set to 0.0 in labels with no true samples.\n",
      "  'recall', 'true', average, warn_for)\n"
     ]
    },
    {
     "ename": "ValueError",
     "evalue": "low >= high",
     "output_type": "error",
     "traceback": [
      "\u001b[1;31m---------------------------------------------------------------------------\u001b[0m",
      "\u001b[1;31mValueError\u001b[0m                                Traceback (most recent call last)",
      "\u001b[1;32m<ipython-input-22-2df5184222e0>\u001b[0m in \u001b[0;36m<module>\u001b[1;34m()\u001b[0m\n\u001b[0;32m     16\u001b[0m     \u001b[0mX_resampled_adasyn\u001b[0m\u001b[1;33m,\u001b[0m \u001b[0my_resampled_adasyn\u001b[0m \u001b[1;33m=\u001b[0m \u001b[0mADASYN\u001b[0m\u001b[1;33m(\u001b[0m\u001b[0mn_neighbors\u001b[0m\u001b[1;33m=\u001b[0m\u001b[1;36m1\u001b[0m\u001b[1;33m)\u001b[0m\u001b[1;33m.\u001b[0m\u001b[0mfit_sample\u001b[0m\u001b[1;33m(\u001b[0m\u001b[0mx_tr\u001b[0m\u001b[1;33m,\u001b[0m \u001b[0my_tr\u001b[0m\u001b[1;33m)\u001b[0m\u001b[1;33m\u001b[0m\u001b[0m\n\u001b[0;32m     17\u001b[0m     \u001b[0mX_resampled_smote\u001b[0m\u001b[1;33m,\u001b[0m \u001b[0my_resampled_smote\u001b[0m \u001b[1;33m=\u001b[0m \u001b[0mSMOTE\u001b[0m\u001b[1;33m(\u001b[0m\u001b[0mk_neighbors\u001b[0m\u001b[1;33m=\u001b[0m\u001b[1;36m1\u001b[0m\u001b[1;33m)\u001b[0m\u001b[1;33m.\u001b[0m\u001b[0mfit_sample\u001b[0m\u001b[1;33m(\u001b[0m\u001b[0mx_tr\u001b[0m\u001b[1;33m,\u001b[0m \u001b[0my_tr\u001b[0m\u001b[1;33m)\u001b[0m\u001b[1;33m\u001b[0m\u001b[0m\n\u001b[1;32m---> 18\u001b[1;33m     \u001b[0mdf_upsampled_res\u001b[0m \u001b[1;33m=\u001b[0m \u001b[0mresampling\u001b[0m\u001b[1;33m(\u001b[0m\u001b[0mpd\u001b[0m\u001b[1;33m.\u001b[0m\u001b[0mconcat\u001b[0m\u001b[1;33m(\u001b[0m\u001b[1;33m[\u001b[0m\u001b[0mx_tr\u001b[0m\u001b[1;33m,\u001b[0m \u001b[0my_tr\u001b[0m\u001b[1;33m]\u001b[0m\u001b[1;33m,\u001b[0m \u001b[0maxis\u001b[0m\u001b[1;33m=\u001b[0m\u001b[1;36m1\u001b[0m\u001b[1;33m)\u001b[0m\u001b[1;33m)\u001b[0m\u001b[1;33m\u001b[0m\u001b[0m\n\u001b[0m\u001b[0;32m     19\u001b[0m     \u001b[0mX_resampled\u001b[0m\u001b[1;33m,\u001b[0m \u001b[0my_resampled\u001b[0m \u001b[1;33m=\u001b[0m \u001b[0mdf_upsampled_res\u001b[0m\u001b[1;33m.\u001b[0m\u001b[0mdrop\u001b[0m\u001b[1;33m(\u001b[0m\u001b[1;33m[\u001b[0m\u001b[1;34m'apoe_coded'\u001b[0m\u001b[1;33m]\u001b[0m\u001b[1;33m,\u001b[0m \u001b[0maxis\u001b[0m \u001b[1;33m=\u001b[0m \u001b[1;36m1\u001b[0m\u001b[1;33m)\u001b[0m\u001b[1;33m,\u001b[0m \u001b[0mdf_upsampled_res\u001b[0m\u001b[1;33m.\u001b[0m\u001b[0mapoe_coded\u001b[0m\u001b[1;33m\u001b[0m\u001b[0m\n\u001b[0;32m     20\u001b[0m \u001b[1;33m\u001b[0m\u001b[0m\n",
      "\u001b[1;32m<ipython-input-12-c53575d45f85>\u001b[0m in \u001b[0;36mresampling\u001b[1;34m(df)\u001b[0m\n\u001b[0;32m     20\u001b[0m                                      \u001b[0mreplace\u001b[0m\u001b[1;33m=\u001b[0m\u001b[1;32mTrue\u001b[0m\u001b[1;33m,\u001b[0m     \u001b[1;31m# sample with replacement\u001b[0m\u001b[1;33m\u001b[0m\u001b[0m\n\u001b[0;32m     21\u001b[0m                                      \u001b[0mn_samples\u001b[0m\u001b[1;33m=\u001b[0m\u001b[0mdf_majority\u001b[0m\u001b[1;33m.\u001b[0m\u001b[0mshape\u001b[0m\u001b[1;33m[\u001b[0m\u001b[1;36m0\u001b[0m\u001b[1;33m]\u001b[0m\u001b[1;33m,\u001b[0m    \u001b[1;31m# to match majority class\u001b[0m\u001b[1;33m\u001b[0m\u001b[0m\n\u001b[1;32m---> 22\u001b[1;33m                                      random_state=123) # reproducible results\n\u001b[0m\u001b[0;32m     23\u001b[0m \u001b[1;33m\u001b[0m\u001b[0m\n\u001b[0;32m     24\u001b[0m \u001b[1;33m\u001b[0m\u001b[0m\n",
      "\u001b[1;32m~\\Anaconda2\\envs\\py36\\lib\\site-packages\\sklearn\\utils\\__init__.py\u001b[0m in \u001b[0;36mresample\u001b[1;34m(*arrays, **options)\u001b[0m\n\u001b[0;32m    259\u001b[0m \u001b[1;33m\u001b[0m\u001b[0m\n\u001b[0;32m    260\u001b[0m     \u001b[1;32mif\u001b[0m \u001b[0mreplace\u001b[0m\u001b[1;33m:\u001b[0m\u001b[1;33m\u001b[0m\u001b[0m\n\u001b[1;32m--> 261\u001b[1;33m         \u001b[0mindices\u001b[0m \u001b[1;33m=\u001b[0m \u001b[0mrandom_state\u001b[0m\u001b[1;33m.\u001b[0m\u001b[0mrandint\u001b[0m\u001b[1;33m(\u001b[0m\u001b[1;36m0\u001b[0m\u001b[1;33m,\u001b[0m \u001b[0mn_samples\u001b[0m\u001b[1;33m,\u001b[0m \u001b[0msize\u001b[0m\u001b[1;33m=\u001b[0m\u001b[1;33m(\u001b[0m\u001b[0mmax_n_samples\u001b[0m\u001b[1;33m,\u001b[0m\u001b[1;33m)\u001b[0m\u001b[1;33m)\u001b[0m\u001b[1;33m\u001b[0m\u001b[0m\n\u001b[0m\u001b[0;32m    262\u001b[0m     \u001b[1;32melse\u001b[0m\u001b[1;33m:\u001b[0m\u001b[1;33m\u001b[0m\u001b[0m\n\u001b[0;32m    263\u001b[0m         \u001b[0mindices\u001b[0m \u001b[1;33m=\u001b[0m \u001b[0mnp\u001b[0m\u001b[1;33m.\u001b[0m\u001b[0marange\u001b[0m\u001b[1;33m(\u001b[0m\u001b[0mn_samples\u001b[0m\u001b[1;33m)\u001b[0m\u001b[1;33m\u001b[0m\u001b[0m\n",
      "\u001b[1;32mmtrand.pyx\u001b[0m in \u001b[0;36mmtrand.RandomState.randint\u001b[1;34m()\u001b[0m\n",
      "\u001b[1;31mValueError\u001b[0m: low >= high"
     ]
    }
   ],
   "source": [
    "scores_adasyn = []\n",
    "scores_smote = []\n",
    "scores_resampled = []\n",
    "scores_initial = []\n",
    "scores_RF_updated = []\n",
    "\n",
    "f_i_adasyn = []\n",
    "f_i_smote = []\n",
    "f_i_resampled = []\n",
    "f_i_initial = []\n",
    "f_i_RF_updated = []\n",
    "\n",
    "for i in range(1000):\n",
    "    x_tr, x_val, y_tr, y_val = train_test_split(single[['left_G_front_sup','left_G_subcallosal']], single.apoe_coded, test_size=0.2)\n",
    "\n",
    "    X_resampled_adasyn, y_resampled_adasyn = ADASYN(n_neighbors=1).fit_sample(x_tr, y_tr)\n",
    "    X_resampled_smote, y_resampled_smote = SMOTE(k_neighbors=1).fit_sample(x_tr, y_tr)\n",
    "    df_upsampled_res = resampling(pd.concat([x_tr, y_tr], axis=1))\n",
    "    X_resampled, y_resampled = df_upsampled_res.drop(['apoe_coded'], axis = 1), df_upsampled_res.apoe_coded\n",
    "    \n",
    "    RF = RandomForestClassifier(n_estimators = 11)\n",
    "    RF.fit(X_resampled_adasyn, y_resampled_adasyn)\n",
    "    pred = RF.predict(x_val)\n",
    "    scores_adasyn.append(f1_score(pred, y_val, average = 'weighted'))\n",
    "    f_i_adasyn.append(RF.feature_importances_)\n",
    "\n",
    "\n",
    "    RF.fit(X_resampled_smote, y_resampled_smote)\n",
    "    pred = RF.predict(x_val)\n",
    "    scores_smote.append(f1_score(pred, y_val, average = 'weighted'))\n",
    "    f_i_smote.append(RF.feature_importances_)\n",
    "\n",
    "    RF.fit(X_resampled, y_resampled)\n",
    "    pred = RF.predict(x_val)\n",
    "    scores_resampled.append(f1_score(pred, y_val, average = 'weighted'))\n",
    "    f_i_resampled.append(RF.feature_importances_)\n",
    "\n",
    "    RF.fit(x_tr, y_tr)\n",
    "    pred = RF.predict(x_val)\n",
    "    scores_initial.append(f1_score(pred, y_val, average = 'weighted'))\n",
    "    f_i_initial.append(RF.feature_importances_)\n",
    "\n",
    "    RF = RandomForestClassifier(n_estimators =11, class_weight = \"balanced\")\n",
    "    RF.fit(x_tr, y_tr)\n",
    "    pred = RF.predict(x_val)\n",
    "    scores_RF_updated.append(f1_score(pred, y_val, average = 'weighted'))\n",
    "    f_i_RF_updated.append(RF.feature_importances_)\n"
   ]
  },
  {
   "cell_type": "code",
   "execution_count": 23,
   "metadata": {},
   "outputs": [
    {
     "data": {
      "image/png": "[encoded data removed]",
      "text/plain": [
       "<matplotlib.figure.Figure at 0x26ce5b56e80>"
      ]
     },
     "metadata": {},
     "output_type": "display_data"
    }
   ],
   "source": [
    "scores = [scores_initial, scores_RF_updated, scores_resampled, scores_smote, scores_adasyn]\n",
    "sns.set(rc={'figure.figsize':(11.7,8.27)})\n",
    "sns.boxplot(['initial values', 'RF with class_weight = balanced', 'resampling', 'SMOTE', 'ADASYN'], scores)\n",
    "plt.xlabel('Method')\n",
    "plt.ylabel('classification score')\n",
    "plt.title('APOE gene')\n",
    "plt.savefig('foo.png')\n",
    "plt.show()"
   ]
  },
  {
   "cell_type": "code",
   "execution_count": 104,
   "metadata": {},
   "outputs": [
    {
     "data": {
      "image/png": "[encoded data removed]",
      "text/plain": [
       "<matplotlib.figure.Figure at 0x1768a545d30>"
      ]
     },
     "metadata": {},
     "output_type": "display_data"
    }
   ],
   "source": [
    "scores = [scores_initial, scores_RF_updated, scores_resampled, scores_smote, scores_adasyn]\n",
    "sns.set(rc={'figure.figsize':(11.7,8.27)})\n",
    "sns.boxplot(['initial values', 'RF with class_weight = balanced', 'resampling', 'SMOTE', 'ADASYN'], scores)\n",
    "plt.xlabel('Method')\n",
    "plt.ylabel('classification score')\n",
    "plt.title('APOE gene')\n",
    "plt.savefig('foo1.png')\n",
    "plt.show()"
   ]
  },
  {
   "cell_type": "code",
   "execution_count": 106,
   "metadata": {},
   "outputs": [
    {
     "data": {
      "image/png": "[encoded data removed]",
      "text/plain": [
       "<matplotlib.figure.Figure at 0x1768a812e80>"
      ]
     },
     "metadata": {},
     "output_type": "display_data"
    }
   ],
   "source": [
    "scores = [scores_initial, scores_RF_updated, scores_resampled, scores_smote, scores_adasyn]\n",
    "sns.set(rc={'figure.figsize':(11.7,8.27)})\n",
    "sns.boxplot(['initial values', 'RF with class_weight = balanced', 'resampling', 'SMOTE', 'ADASYN'], scores)\n",
    "plt.xlabel('Method')\n",
    "plt.ylabel('classification score')\n",
    "plt.title('APOE gene')\n",
    "plt.savefig('foo2.png')\n",
    "plt.show()"
   ]
  },
  {
   "cell_type": "code",
   "execution_count": null,
   "metadata": {
    "collapsed": true
   },
   "outputs": [],
   "source": []
  }
 ],
 "metadata": {
  "kernelspec": {
   "display_name": "Python 3",
   "language": "python",
   "name": "python3"
  },
  "language_info": {
   "codemirror_mode": {
    "name": "ipython",
    "version": 3
   },
   "file_extension": ".py",
   "mimetype": "text/x-python",
   "name": "python",
   "nbconvert_exporter": "python",
   "pygments_lexer": "ipython3",
   "version": "3.6.6"
  }
 },
 "nbformat": 4,
 "nbformat_minor": 2
}
