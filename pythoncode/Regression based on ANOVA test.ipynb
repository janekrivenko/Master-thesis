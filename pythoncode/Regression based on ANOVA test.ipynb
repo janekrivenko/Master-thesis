{
 "cells": [
  {
   "cell_type": "code",
   "execution_count": 1,
   "metadata": {},
   "outputs": [
    {
     "name": "stderr",
     "output_type": "stream",
     "text": [
      "C:\\Users\\jeka1\\Anaconda2\\envs\\py36\\lib\\site-packages\\sklearn\\ensemble\\weight_boosting.py:29: DeprecationWarning: numpy.core.umath_tests is an internal NumPy module and should not be imported. It will be removed in a future NumPy release.\n",
      "  from numpy.core.umath_tests import inner1d\n"
     ]
    }
   ],
   "source": [
    "import pandas as pd\n",
    "import numpy as np \n",
    "from sklearn import preprocessing\n",
    "import matplotlib.pyplot as plt\n",
    "import seaborn as sns\n",
    "import collections\n",
    "from sklearn.ensemble import RandomForestRegressor\n",
    "from sklearn.model_selection import train_test_split\n",
    "from sklearn.metrics import accuracy_score, f1_score, r2_score\n",
    "from sklearn.model_selection import cross_val_score\n",
    "from sklearn.metrics import confusion_matrix\n"
   ]
  },
  {
   "cell_type": "code",
   "execution_count": 2,
   "metadata": {
    "collapsed": true
   },
   "outputs": [],
   "source": [
    "genotypes = pd.read_csv(\"Table_genotypes.csv\")\n",
    "cortical_thickness = pd.read_csv(\"cortical_thickness_by_subject.csv\")"
   ]
  },
  {
   "cell_type": "code",
   "execution_count": 3,
   "metadata": {
    "collapsed": true
   },
   "outputs": [],
   "source": [
    "def GetNumericEquivalent(df, gene):\n",
    "    le = preprocessing.LabelEncoder()\n",
    "    le.fit(df[gene])\n",
    "    return le.transform(df[gene])"
   ]
  },
  {
   "cell_type": "code",
   "execution_count": 4,
   "metadata": {},
   "outputs": [
    {
     "data": {
      "text/html": [
       "<div>\n",
       "<style scoped>\n",
       "    .dataframe tbody tr th:only-of-type {\n",
       "        vertical-align: middle;\n",
       "    }\n",
       "\n",
       "    .dataframe tbody tr th {\n",
       "        vertical-align: top;\n",
       "    }\n",
       "\n",
       "    .dataframe thead th {\n",
       "        text-align: right;\n",
       "    }\n",
       "</style>\n",
       "<table border=\"1\" class=\"dataframe\">\n",
       "  <thead>\n",
       "    <tr style=\"text-align: right;\">\n",
       "      <th></th>\n",
       "      <th>subject_id</th>\n",
       "      <th>apoe</th>\n",
       "      <th>bin1</th>\n",
       "      <th>clu</th>\n",
       "      <th>abca7</th>\n",
       "      <th>cr1</th>\n",
       "      <th>picalm</th>\n",
       "    </tr>\n",
       "  </thead>\n",
       "  <tbody>\n",
       "    <tr>\n",
       "      <th>0</th>\n",
       "      <td>s_001</td>\n",
       "      <td>2</td>\n",
       "      <td>1</td>\n",
       "      <td>0</td>\n",
       "      <td>2</td>\n",
       "      <td>2</td>\n",
       "      <td>1</td>\n",
       "    </tr>\n",
       "    <tr>\n",
       "      <th>1</th>\n",
       "      <td>s_002</td>\n",
       "      <td>0</td>\n",
       "      <td>1</td>\n",
       "      <td>0</td>\n",
       "      <td>2</td>\n",
       "      <td>2</td>\n",
       "      <td>2</td>\n",
       "    </tr>\n",
       "    <tr>\n",
       "      <th>2</th>\n",
       "      <td>s_003</td>\n",
       "      <td>1</td>\n",
       "      <td>1</td>\n",
       "      <td>0</td>\n",
       "      <td>1</td>\n",
       "      <td>1</td>\n",
       "      <td>1</td>\n",
       "    </tr>\n",
       "    <tr>\n",
       "      <th>3</th>\n",
       "      <td>s_004</td>\n",
       "      <td>0</td>\n",
       "      <td>1</td>\n",
       "      <td>0</td>\n",
       "      <td>2</td>\n",
       "      <td>2</td>\n",
       "      <td>1</td>\n",
       "    </tr>\n",
       "    <tr>\n",
       "      <th>4</th>\n",
       "      <td>s_005</td>\n",
       "      <td>1</td>\n",
       "      <td>1</td>\n",
       "      <td>1</td>\n",
       "      <td>2</td>\n",
       "      <td>2</td>\n",
       "      <td>0</td>\n",
       "    </tr>\n",
       "  </tbody>\n",
       "</table>\n",
       "</div>"
      ],
      "text/plain": [
       "  subject_id  apoe  bin1  clu  abca7  cr1  picalm\n",
       "0      s_001     2     1    0      2    2       1\n",
       "1      s_002     0     1    0      2    2       2\n",
       "2      s_003     1     1    0      1    1       1\n",
       "3      s_004     0     1    0      2    2       1\n",
       "4      s_005     1     1    1      2    2       0"
      ]
     },
     "execution_count": 4,
     "metadata": {},
     "output_type": "execute_result"
    }
   ],
   "source": [
    "genotypes_coded = pd.DataFrame({'subject_id':genotypes.subject_id,'apoe':GetNumericEquivalent(genotypes, 'apoe'),\n",
    "             'bin1':GetNumericEquivalent(genotypes, 'bin1'), 'clu':GetNumericEquivalent(genotypes, 'clu'),\n",
    "             'abca7':GetNumericEquivalent(genotypes, 'abca7'), 'cr1':GetNumericEquivalent(genotypes, 'cr1'),\n",
    "             'picalm':GetNumericEquivalent(genotypes, 'picalm')})\n",
    "genotypes_coded.head()"
   ]
  },
  {
   "cell_type": "code",
   "execution_count": 5,
   "metadata": {},
   "outputs": [
    {
     "data": {
      "text/html": [
       "<div>\n",
       "<style scoped>\n",
       "    .dataframe tbody tr th:only-of-type {\n",
       "        vertical-align: middle;\n",
       "    }\n",
       "\n",
       "    .dataframe tbody tr th {\n",
       "        vertical-align: top;\n",
       "    }\n",
       "\n",
       "    .dataframe thead th {\n",
       "        text-align: right;\n",
       "    }\n",
       "</style>\n",
       "<table border=\"1\" class=\"dataframe\">\n",
       "  <thead>\n",
       "    <tr style=\"text-align: right;\">\n",
       "      <th></th>\n",
       "      <th>subject_id</th>\n",
       "      <th>left_G_and_S_frontomargin</th>\n",
       "      <th>left_G_and_S_occipital_inf</th>\n",
       "      <th>left_G_and_S_paracentral</th>\n",
       "      <th>left_G_and_S_subcentral</th>\n",
       "      <th>left_G_and_S_transv_frontopol</th>\n",
       "      <th>left_G_and_S_cingul.Ant</th>\n",
       "      <th>left_G_and_S_cingul.Mid.Ant</th>\n",
       "      <th>left_G_and_S_cingul.Mid.Post</th>\n",
       "      <th>left_G_cingul.Post.dorsal</th>\n",
       "      <th>...</th>\n",
       "      <th>right_S_temporal_inf</th>\n",
       "      <th>right_S_temporal_sup</th>\n",
       "      <th>right_S_temporal_transverse</th>\n",
       "      <th>subject_id</th>\n",
       "      <th>apoe</th>\n",
       "      <th>bin1</th>\n",
       "      <th>clu</th>\n",
       "      <th>abca7</th>\n",
       "      <th>cr1</th>\n",
       "      <th>picalm</th>\n",
       "    </tr>\n",
       "  </thead>\n",
       "  <tbody>\n",
       "    <tr>\n",
       "      <th>0</th>\n",
       "      <td>s_001</td>\n",
       "      <td>1.805</td>\n",
       "      <td>1.866</td>\n",
       "      <td>1.772</td>\n",
       "      <td>2.449</td>\n",
       "      <td>1.970</td>\n",
       "      <td>2.039</td>\n",
       "      <td>2.551</td>\n",
       "      <td>2.251</td>\n",
       "      <td>2.891</td>\n",
       "      <td>...</td>\n",
       "      <td>2.442</td>\n",
       "      <td>2.065</td>\n",
       "      <td>1.399</td>\n",
       "      <td>s_001</td>\n",
       "      <td>2</td>\n",
       "      <td>1</td>\n",
       "      <td>0</td>\n",
       "      <td>2</td>\n",
       "      <td>2</td>\n",
       "      <td>1</td>\n",
       "    </tr>\n",
       "    <tr>\n",
       "      <th>1</th>\n",
       "      <td>s_002</td>\n",
       "      <td>2.201</td>\n",
       "      <td>2.151</td>\n",
       "      <td>1.922</td>\n",
       "      <td>2.447</td>\n",
       "      <td>2.263</td>\n",
       "      <td>2.587</td>\n",
       "      <td>2.524</td>\n",
       "      <td>2.153</td>\n",
       "      <td>2.621</td>\n",
       "      <td>...</td>\n",
       "      <td>2.541</td>\n",
       "      <td>2.399</td>\n",
       "      <td>2.713</td>\n",
       "      <td>s_002</td>\n",
       "      <td>0</td>\n",
       "      <td>1</td>\n",
       "      <td>0</td>\n",
       "      <td>2</td>\n",
       "      <td>2</td>\n",
       "      <td>2</td>\n",
       "    </tr>\n",
       "    <tr>\n",
       "      <th>2</th>\n",
       "      <td>s_003</td>\n",
       "      <td>2.012</td>\n",
       "      <td>1.813</td>\n",
       "      <td>1.724</td>\n",
       "      <td>2.131</td>\n",
       "      <td>2.225</td>\n",
       "      <td>2.572</td>\n",
       "      <td>2.525</td>\n",
       "      <td>2.349</td>\n",
       "      <td>2.738</td>\n",
       "      <td>...</td>\n",
       "      <td>2.254</td>\n",
       "      <td>2.180</td>\n",
       "      <td>1.865</td>\n",
       "      <td>s_003</td>\n",
       "      <td>1</td>\n",
       "      <td>1</td>\n",
       "      <td>0</td>\n",
       "      <td>1</td>\n",
       "      <td>1</td>\n",
       "      <td>1</td>\n",
       "    </tr>\n",
       "    <tr>\n",
       "      <th>3</th>\n",
       "      <td>s_004</td>\n",
       "      <td>2.203</td>\n",
       "      <td>1.765</td>\n",
       "      <td>2.142</td>\n",
       "      <td>2.659</td>\n",
       "      <td>2.331</td>\n",
       "      <td>2.335</td>\n",
       "      <td>2.422</td>\n",
       "      <td>2.383</td>\n",
       "      <td>2.834</td>\n",
       "      <td>...</td>\n",
       "      <td>2.418</td>\n",
       "      <td>2.404</td>\n",
       "      <td>2.451</td>\n",
       "      <td>s_004</td>\n",
       "      <td>0</td>\n",
       "      <td>1</td>\n",
       "      <td>0</td>\n",
       "      <td>2</td>\n",
       "      <td>2</td>\n",
       "      <td>1</td>\n",
       "    </tr>\n",
       "    <tr>\n",
       "      <th>4</th>\n",
       "      <td>s_005</td>\n",
       "      <td>2.118</td>\n",
       "      <td>2.013</td>\n",
       "      <td>1.582</td>\n",
       "      <td>2.062</td>\n",
       "      <td>2.233</td>\n",
       "      <td>2.541</td>\n",
       "      <td>2.652</td>\n",
       "      <td>2.526</td>\n",
       "      <td>2.885</td>\n",
       "      <td>...</td>\n",
       "      <td>2.864</td>\n",
       "      <td>2.273</td>\n",
       "      <td>1.779</td>\n",
       "      <td>s_005</td>\n",
       "      <td>1</td>\n",
       "      <td>1</td>\n",
       "      <td>1</td>\n",
       "      <td>2</td>\n",
       "      <td>2</td>\n",
       "      <td>0</td>\n",
       "    </tr>\n",
       "  </tbody>\n",
       "</table>\n",
       "<p>5 rows × 156 columns</p>\n",
       "</div>"
      ],
      "text/plain": [
       "   subject_id  left_G_and_S_frontomargin  left_G_and_S_occipital_inf  \\\n",
       "0       s_001                      1.805                       1.866   \n",
       "1       s_002                      2.201                       2.151   \n",
       "2       s_003                      2.012                       1.813   \n",
       "3       s_004                      2.203                       1.765   \n",
       "4       s_005                      2.118                       2.013   \n",
       "\n",
       "   left_G_and_S_paracentral  left_G_and_S_subcentral  \\\n",
       "0                     1.772                    2.449   \n",
       "1                     1.922                    2.447   \n",
       "2                     1.724                    2.131   \n",
       "3                     2.142                    2.659   \n",
       "4                     1.582                    2.062   \n",
       "\n",
       "   left_G_and_S_transv_frontopol  left_G_and_S_cingul.Ant  \\\n",
       "0                          1.970                    2.039   \n",
       "1                          2.263                    2.587   \n",
       "2                          2.225                    2.572   \n",
       "3                          2.331                    2.335   \n",
       "4                          2.233                    2.541   \n",
       "\n",
       "   left_G_and_S_cingul.Mid.Ant  left_G_and_S_cingul.Mid.Post  \\\n",
       "0                        2.551                         2.251   \n",
       "1                        2.524                         2.153   \n",
       "2                        2.525                         2.349   \n",
       "3                        2.422                         2.383   \n",
       "4                        2.652                         2.526   \n",
       "\n",
       "   left_G_cingul.Post.dorsal   ...    right_S_temporal_inf  \\\n",
       "0                      2.891   ...                   2.442   \n",
       "1                      2.621   ...                   2.541   \n",
       "2                      2.738   ...                   2.254   \n",
       "3                      2.834   ...                   2.418   \n",
       "4                      2.885   ...                   2.864   \n",
       "\n",
       "   right_S_temporal_sup  right_S_temporal_transverse  subject_id  apoe  bin1  \\\n",
       "0                 2.065                        1.399       s_001     2     1   \n",
       "1                 2.399                        2.713       s_002     0     1   \n",
       "2                 2.180                        1.865       s_003     1     1   \n",
       "3                 2.404                        2.451       s_004     0     1   \n",
       "4                 2.273                        1.779       s_005     1     1   \n",
       "\n",
       "   clu  abca7  cr1  picalm  \n",
       "0    0      2    2       1  \n",
       "1    0      2    2       2  \n",
       "2    0      1    1       1  \n",
       "3    0      2    2       1  \n",
       "4    1      2    2       0  \n",
       "\n",
       "[5 rows x 156 columns]"
      ]
     },
     "execution_count": 5,
     "metadata": {},
     "output_type": "execute_result"
    }
   ],
   "source": [
    "full_df = pd.concat([cortical_thickness, genotypes_coded], axis=1, join='inner')\n",
    "full_df.head()"
   ]
  },
  {
   "cell_type": "code",
   "execution_count": 6,
   "metadata": {
    "collapsed": true
   },
   "outputs": [],
   "source": [
    "from sklearn import datasets, linear_model\n",
    "from sklearn.metrics import mean_squared_error, r2_score\n",
    "from sklearn.neighbors import KNeighborsRegressor"
   ]
  },
  {
   "cell_type": "code",
   "execution_count": 12,
   "metadata": {},
   "outputs": [
    {
     "name": "stdout",
     "output_type": "stream",
     "text": [
      "Mean squared error: 0.02\n",
      "Variance score: 0.05\n"
     ]
    },
    {
     "data": {
      "image/png": "[encoded data removed]",
      "text/plain": [
       "<matplotlib.figure.Figure at 0x1301a2111d0>"
      ]
     },
     "metadata": {},
     "output_type": "display_data"
    }
   ],
   "source": [
    "#Transform categorical feature to numeric by simple number substitution\n",
    "\n",
    "X_train, X_test, y_train, y_test = train_test_split(full_df[['picalm']],full_df['left_S_circular_insula_inf'], test_size = 0.3)\n",
    "# Create linear regression object\n",
    "#regr = linear_model.LinearRegression()\n",
    "regr = KNeighborsRegressor(n_neighbors=5,leaf_size=10)\n",
    "# Train the model using the training sets\n",
    "#!!!!if we have regression from only 1 gene: \n",
    "regr.fit(np.array(X_train).reshape(-1, 1), y_train)\n",
    "#regr.fit(X_train, y_train)\n",
    "\n",
    "# Make predictions using the testing set\n",
    "y_pred = regr.predict(np.array(X_test).reshape(-1, 1))\n",
    "#y_pred = regr.predict(X_test)\n",
    "\n",
    "# The coefficients\n",
    "#print('Coefficients: \\n', regr.coef_)\n",
    "# The mean squared error\n",
    "print(\"Mean squared error: %.2f\"\n",
    "      % mean_squared_error(y_test, y_pred))\n",
    "# Explained variance score: 1 is perfect prediction\n",
    "print('Variance score: %.2f' % r2_score(y_test,y_pred))\n",
    "\n",
    "# Plot outputs\n",
    "plt.scatter(X_test, y_test,  color='black')\n",
    "plt.plot(X_test, y_pred, color='blue', linewidth=3)\n",
    "\n",
    "plt.xticks(())\n",
    "plt.yticks(())\n",
    "\n",
    "plt.show()"
   ]
  },
  {
   "cell_type": "code",
   "execution_count": 10,
   "metadata": {},
   "outputs": [
    {
     "name": "stdout",
     "output_type": "stream",
     "text": [
      "Accuracy: -0.23 (+/- 0.27)\n"
     ]
    }
   ],
   "source": [
    "from sklearn.model_selection import cross_val_score\n",
    "scores = cross_val_score(regr, full_df[['apoe', 'bin1']], full_df['left_G_subcallosal'], cv=5)\n",
    "print(\"Accuracy: %0.2f (+/- %0.2f)\" % (scores.mean(), scores.std() * 2))"
   ]
  },
  {
   "cell_type": "code",
   "execution_count": null,
   "metadata": {
    "collapsed": true
   },
   "outputs": [],
   "source": []
  },
  {
   "cell_type": "code",
   "execution_count": 21,
   "metadata": {},
   "outputs": [
    {
     "data": {
      "image/png": "[encoded data removed]",
      "text/plain": [
       "<matplotlib.figure.Figure at 0x226ec297d68>"
      ]
     },
     "metadata": {},
     "output_type": "display_data"
    }
   ],
   "source": [
    "plt.scatter(genotypes[['picalm']], full_df['left_S_circular_insula_inf'],  color='black')\n",
    "\n",
    "#plt.xticks(('C/T', 'T/T', 'C/C'))\n",
    "#plt.yticks(())\n",
    "plt.ylabel(\"Cortical thickness value\")\n",
    "plt.xlabel(\"picalm expression\")\n",
    "plt.show()"
   ]
  },
  {
   "cell_type": "code",
   "execution_count": 161,
   "metadata": {},
   "outputs": [
    {
     "name": "stdout",
     "output_type": "stream",
     "text": [
      "Mean squared error: 0.03\n",
      "Variance score: 0.10\n"
     ]
    }
   ],
   "source": [
    "X_train, X_test, y_train, y_test = train_test_split(pd.get_dummies(genotypes[['picalm']]).drop('picalm_T/T', axis = 1),full_df['left_S_circular_insula_inf'], test_size = 0.3)\n",
    "# Create linear regression object\n",
    "#regr = linear_model.LinearRegression()\n",
    "regr = KNeighborsRegressor(n_neighbors=3,leaf_size=10)\n",
    "\n",
    "# Train the model using the training sets\n",
    "regr.fit(X_train, y_train)\n",
    "\n",
    "# Make predictions using the testing set\n",
    "y_pred = regr.predict(X_test)\n",
    "\n",
    "# The coefficients\n",
    "#print('Coefficients: \\n', regr.coef_)\n",
    "# The mean squared error\n",
    "print(\"Mean squared error: %.2f\"\n",
    "      % mean_squared_error(y_test, y_pred))\n",
    "# Explained variance score: 1 is perfect prediction\n",
    "print('Variance score: %.2f' % r2_score(y_test,y_pred))"
   ]
  },
  {
   "cell_type": "code",
   "execution_count": 165,
   "metadata": {},
   "outputs": [
    {
     "name": "stdout",
     "output_type": "stream",
     "text": [
      "Accuracy: -0.09 (+/- 0.25)\n"
     ]
    }
   ],
   "source": [
    "scores = cross_val_score(regr, pd.get_dummies(genotypes[['picalm']]).drop('picalm_T/T', axis = 1), full_df['left_S_circular_insula_inf'], cv=5)\n",
    "print(\"Accuracy: %0.2f (+/- %0.2f)\" % (scores.mean(), scores.std() * 2))"
   ]
  },
  {
   "cell_type": "code",
   "execution_count": 1364,
   "metadata": {
    "collapsed": true
   },
   "outputs": [],
   "source": [
    "genes_dummies = pd.get_dummies(genotypes[['apoe', 'bin1', 'clu', 'abca7', 'cr1', 'picalm']])\n",
    "genes_dummies.to_csv(\"genes_dummies.csv\")"
   ]
  }
 ],
 "metadata": {
  "kernelspec": {
   "display_name": "Python 3",
   "language": "python",
   "name": "python3"
  },
  "language_info": {
   "codemirror_mode": {
    "name": "ipython",
    "version": 3
   },
   "file_extension": ".py",
   "mimetype": "text/x-python",
   "name": "python",
   "nbconvert_exporter": "python",
   "pygments_lexer": "ipython3",
   "version": "3.6.6"
  }
 },
 "nbformat": 4,
 "nbformat_minor": 2
}
